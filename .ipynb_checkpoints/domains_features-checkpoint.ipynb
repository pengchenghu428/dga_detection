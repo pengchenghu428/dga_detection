{
 "cells": [
  {
   "cell_type": "markdown",
   "metadata": {},
   "source": [
    "# 0. 文件说明"
   ]
  },
  {
   "cell_type": "markdown",
   "metadata": {},
   "source": [
    "本文件用来加载和提取domian特征，生成特征结果CSV文件"
   ]
  },
  {
   "cell_type": "code",
   "execution_count": 29,
   "metadata": {},
   "outputs": [],
   "source": [
    "import sys\n",
    "import os\n",
    "import pickle\n",
    "import tldextract\n",
    "import numpy as np\n",
    "import pandas as pd\n",
    "import seaborn as sns\n",
    "import matplotlib.pyplot as plt\n",
    "import gib_detect_train as gib\n",
    "\n",
    "from imp import reload\n",
    "from collections import Counter\n",
    "from collections import defaultdict"
   ]
  },
  {
   "cell_type": "code",
   "execution_count": 35,
   "metadata": {},
   "outputs": [],
   "source": [
    "'''\n",
    "    数据集位置\n",
    "'''\n",
    "# legit\n",
    "alexa_top_1m = 'data/domains/top-1m.csv'\n",
    "\n",
    "# dga\n",
    "lab360 = 'data/domains/360_dga.txt'\n",
    "zeus = 'data/domains/zeus_dga_domains.txt'\n",
    "\n",
    "# legit-dga\n",
    "legit_dga = 'data/domains/legit-dga_domains.csv'\n",
    "\n",
    "# 结果文件\n",
    "domains_data = 'data/domains.csv'"
   ]
  },
  {
   "cell_type": "code",
   "execution_count": 3,
   "metadata": {},
   "outputs": [],
   "source": [
    "'''\n",
    "    gibberish 数据位置\n",
    "'''\n",
    "corpus_path = 'data/gibberish/big.txt'\n",
    "good_path = 'data/gibberish/good.txt'\n",
    "bad_path = 'data/gibberish/bad.txt'\n",
    "\n",
    "model_path = 'model/gib_model.pkl'"
   ]
  },
  {
   "cell_type": "code",
   "execution_count": 4,
   "metadata": {},
   "outputs": [],
   "source": [
    "'''\n",
    "    HMM 数据位置\n",
    "'''\n",
    "alexa_100k_path = 'data/hmm/alexa_100k.txt'\n",
    "\n",
    "hmm_trans_matrix_path = 'data/hmm/hmm_trans_matrix.txt'"
   ]
  },
  {
   "cell_type": "code",
   "execution_count": 33,
   "metadata": {},
   "outputs": [],
   "source": [
    "'''\n",
    "   tld 数据位置\n",
    "'''\n",
    "tld_list_path = 'data/tld/tld_list.txt'\n",
    "\n",
    "'''\n",
    "    n gram 数据\n",
    "'''\n",
    "n_gram_freq_path = 'data/n-gram/n_gram_rank_freq.txt'"
   ]
  },
  {
   "cell_type": "code",
   "execution_count": null,
   "metadata": {},
   "outputs": [],
   "source": []
  },
  {
   "cell_type": "markdown",
   "metadata": {},
   "source": [
    "# 1. 原始文件"
   ]
  },
  {
   "cell_type": "markdown",
   "metadata": {},
   "source": [
    "1.1 alexa_top_1m"
   ]
  },
  {
   "cell_type": "code",
   "execution_count": 43,
   "metadata": {},
   "outputs": [
    {
     "data": {
      "text/plain": [
       "(1000000, 2)"
      ]
     },
     "execution_count": 43,
     "metadata": {},
     "output_type": "execute_result"
    }
   ],
   "source": [
    "alexa = pd.read_csv(alexa_top_1m, header=None, names=['index', 'domain'])\n",
    "alexa.drop(['index'], axis=1, inplace=True)\n",
    "alexa['label'] = 0\n",
    "alexa.shape"
   ]
  },
  {
   "cell_type": "code",
   "execution_count": 32,
   "metadata": {},
   "outputs": [
    {
     "data": {
      "text/html": [
       "<div>\n",
       "<style scoped>\n",
       "    .dataframe tbody tr th:only-of-type {\n",
       "        vertical-align: middle;\n",
       "    }\n",
       "\n",
       "    .dataframe tbody tr th {\n",
       "        vertical-align: top;\n",
       "    }\n",
       "\n",
       "    .dataframe thead th {\n",
       "        text-align: right;\n",
       "    }\n",
       "</style>\n",
       "<table border=\"1\" class=\"dataframe\">\n",
       "  <thead>\n",
       "    <tr style=\"text-align: right;\">\n",
       "      <th></th>\n",
       "      <th>domain</th>\n",
       "      <th>label</th>\n",
       "    </tr>\n",
       "  </thead>\n",
       "  <tbody>\n",
       "    <tr>\n",
       "      <th>0</th>\n",
       "      <td>google.com</td>\n",
       "      <td>0</td>\n",
       "    </tr>\n",
       "    <tr>\n",
       "      <th>1</th>\n",
       "      <td>youtube.com</td>\n",
       "      <td>0</td>\n",
       "    </tr>\n",
       "    <tr>\n",
       "      <th>2</th>\n",
       "      <td>facebook.com</td>\n",
       "      <td>0</td>\n",
       "    </tr>\n",
       "    <tr>\n",
       "      <th>3</th>\n",
       "      <td>baidu.com</td>\n",
       "      <td>0</td>\n",
       "    </tr>\n",
       "    <tr>\n",
       "      <th>4</th>\n",
       "      <td>wikipedia.org</td>\n",
       "      <td>0</td>\n",
       "    </tr>\n",
       "  </tbody>\n",
       "</table>\n",
       "</div>"
      ],
      "text/plain": [
       "          domain  label\n",
       "0     google.com      0\n",
       "1    youtube.com      0\n",
       "2   facebook.com      0\n",
       "3      baidu.com      0\n",
       "4  wikipedia.org      0"
      ]
     },
     "execution_count": 32,
     "metadata": {},
     "output_type": "execute_result"
    }
   ],
   "source": [
    "alexa.head()"
   ]
  },
  {
   "cell_type": "code",
   "execution_count": null,
   "metadata": {},
   "outputs": [],
   "source": []
  },
  {
   "cell_type": "markdown",
   "metadata": {},
   "source": [
    "1.2 lab360"
   ]
  },
  {
   "cell_type": "code",
   "execution_count": 44,
   "metadata": {},
   "outputs": [
    {
     "data": {
      "text/plain": [
       "(1190672, 2)"
      ]
     },
     "execution_count": 44,
     "metadata": {},
     "output_type": "execute_result"
    }
   ],
   "source": [
    "dga_360 = pd.read_csv(lab360, sep='\\t', header=None, names=['DGA family', 'domain', 'start time', 'end time'], skiprows=18)\n",
    "dga_360.drop(['DGA family', 'start time', 'end time'], axis=1, inplace=True)\n",
    "dga_360['label'] = 1\n",
    "dga_360.shape"
   ]
  },
  {
   "cell_type": "code",
   "execution_count": 34,
   "metadata": {},
   "outputs": [
    {
     "data": {
      "text/html": [
       "<div>\n",
       "<style scoped>\n",
       "    .dataframe tbody tr th:only-of-type {\n",
       "        vertical-align: middle;\n",
       "    }\n",
       "\n",
       "    .dataframe tbody tr th {\n",
       "        vertical-align: top;\n",
       "    }\n",
       "\n",
       "    .dataframe thead th {\n",
       "        text-align: right;\n",
       "    }\n",
       "</style>\n",
       "<table border=\"1\" class=\"dataframe\">\n",
       "  <thead>\n",
       "    <tr style=\"text-align: right;\">\n",
       "      <th></th>\n",
       "      <th>domain</th>\n",
       "      <th>label</th>\n",
       "    </tr>\n",
       "  </thead>\n",
       "  <tbody>\n",
       "    <tr>\n",
       "      <th>0</th>\n",
       "      <td>qkvfkuxpk.biz</td>\n",
       "      <td>1</td>\n",
       "    </tr>\n",
       "    <tr>\n",
       "      <th>1</th>\n",
       "      <td>zlbqdpo.biz</td>\n",
       "      <td>1</td>\n",
       "    </tr>\n",
       "    <tr>\n",
       "      <th>2</th>\n",
       "      <td>mfewer.com</td>\n",
       "      <td>1</td>\n",
       "    </tr>\n",
       "    <tr>\n",
       "      <th>3</th>\n",
       "      <td>ccvurusnil.com</td>\n",
       "      <td>1</td>\n",
       "    </tr>\n",
       "    <tr>\n",
       "      <th>4</th>\n",
       "      <td>ebkztlfnnew.com</td>\n",
       "      <td>1</td>\n",
       "    </tr>\n",
       "  </tbody>\n",
       "</table>\n",
       "</div>"
      ],
      "text/plain": [
       "            domain  label\n",
       "0    qkvfkuxpk.biz      1\n",
       "1      zlbqdpo.biz      1\n",
       "2       mfewer.com      1\n",
       "3   ccvurusnil.com      1\n",
       "4  ebkztlfnnew.com      1"
      ]
     },
     "execution_count": 34,
     "metadata": {},
     "output_type": "execute_result"
    }
   ],
   "source": [
    "dga_360.head()"
   ]
  },
  {
   "cell_type": "code",
   "execution_count": null,
   "metadata": {},
   "outputs": [],
   "source": []
  },
  {
   "cell_type": "markdown",
   "metadata": {},
   "source": [
    "1.3 zeus"
   ]
  },
  {
   "cell_type": "code",
   "execution_count": 45,
   "metadata": {},
   "outputs": [
    {
     "data": {
      "text/plain": [
       "(31000, 2)"
      ]
     },
     "execution_count": 45,
     "metadata": {},
     "output_type": "execute_result"
    }
   ],
   "source": [
    "dga_zeus = pd.read_csv(zeus, header=None, names=['domain'])\n",
    "dga_zeus['label'] = 1\n",
    "dga_zeus.shape"
   ]
  },
  {
   "cell_type": "code",
   "execution_count": 23,
   "metadata": {},
   "outputs": [
    {
     "data": {
      "text/html": [
       "<div>\n",
       "<style scoped>\n",
       "    .dataframe tbody tr th:only-of-type {\n",
       "        vertical-align: middle;\n",
       "    }\n",
       "\n",
       "    .dataframe tbody tr th {\n",
       "        vertical-align: top;\n",
       "    }\n",
       "\n",
       "    .dataframe thead th {\n",
       "        text-align: right;\n",
       "    }\n",
       "</style>\n",
       "<table border=\"1\" class=\"dataframe\">\n",
       "  <thead>\n",
       "    <tr style=\"text-align: right;\">\n",
       "      <th></th>\n",
       "      <th>domain</th>\n",
       "      <th>label</th>\n",
       "    </tr>\n",
       "  </thead>\n",
       "  <tbody>\n",
       "    <tr>\n",
       "      <th>0</th>\n",
       "      <td>1aofh7lcccs3i1dud6zm1vc2qb9.com</td>\n",
       "      <td>1</td>\n",
       "    </tr>\n",
       "    <tr>\n",
       "      <th>1</th>\n",
       "      <td>1btboplmahbjw6um2301vlmanz.net</td>\n",
       "      <td>1</td>\n",
       "    </tr>\n",
       "    <tr>\n",
       "      <th>2</th>\n",
       "      <td>15ie40ezcj63p1vkn2dxgfdnb1.biz</td>\n",
       "      <td>1</td>\n",
       "    </tr>\n",
       "    <tr>\n",
       "      <th>3</th>\n",
       "      <td>1mxvqgcwokayr1bkjiqt1te6s5n.org</td>\n",
       "      <td>1</td>\n",
       "    </tr>\n",
       "    <tr>\n",
       "      <th>4</th>\n",
       "      <td>10da6rnyms1rhmth5g61agt22r.com</td>\n",
       "      <td>1</td>\n",
       "    </tr>\n",
       "  </tbody>\n",
       "</table>\n",
       "</div>"
      ],
      "text/plain": [
       "                            domain  label\n",
       "0  1aofh7lcccs3i1dud6zm1vc2qb9.com      1\n",
       "1   1btboplmahbjw6um2301vlmanz.net      1\n",
       "2   15ie40ezcj63p1vkn2dxgfdnb1.biz      1\n",
       "3  1mxvqgcwokayr1bkjiqt1te6s5n.org      1\n",
       "4   10da6rnyms1rhmth5g61agt22r.com      1"
      ]
     },
     "execution_count": 23,
     "metadata": {},
     "output_type": "execute_result"
    }
   ],
   "source": [
    "dga_zeus.head()"
   ]
  },
  {
   "cell_type": "code",
   "execution_count": null,
   "metadata": {},
   "outputs": [],
   "source": []
  },
  {
   "cell_type": "markdown",
   "metadata": {},
   "source": [
    "1.4 legit_dga"
   ]
  },
  {
   "cell_type": "code",
   "execution_count": 46,
   "metadata": {},
   "outputs": [
    {
     "data": {
      "text/plain": [
       "(133926, 2)"
      ]
     },
     "execution_count": 46,
     "metadata": {},
     "output_type": "execute_result"
    }
   ],
   "source": [
    "others = pd.read_csv(legit_dga)\n",
    "others['domain'] = others['host']\n",
    "others['label'] = np.where(others['class']=='legit', 0, 1)\n",
    "others.drop(['host', 'class', 'subclass'], axis=1, inplace=True)\n",
    "others.shape"
   ]
  },
  {
   "cell_type": "code",
   "execution_count": 29,
   "metadata": {},
   "outputs": [
    {
     "data": {
      "text/html": [
       "<div>\n",
       "<style scoped>\n",
       "    .dataframe tbody tr th:only-of-type {\n",
       "        vertical-align: middle;\n",
       "    }\n",
       "\n",
       "    .dataframe tbody tr th {\n",
       "        vertical-align: top;\n",
       "    }\n",
       "\n",
       "    .dataframe thead th {\n",
       "        text-align: right;\n",
       "    }\n",
       "</style>\n",
       "<table border=\"1\" class=\"dataframe\">\n",
       "  <thead>\n",
       "    <tr style=\"text-align: right;\">\n",
       "      <th></th>\n",
       "      <th>domain</th>\n",
       "      <th>label</th>\n",
       "    </tr>\n",
       "  </thead>\n",
       "  <tbody>\n",
       "    <tr>\n",
       "      <th>0</th>\n",
       "      <td>000directory.com.ar</td>\n",
       "      <td>0</td>\n",
       "    </tr>\n",
       "    <tr>\n",
       "      <th>1</th>\n",
       "      <td>000webhost.com</td>\n",
       "      <td>0</td>\n",
       "    </tr>\n",
       "    <tr>\n",
       "      <th>2</th>\n",
       "      <td>001fans.com</td>\n",
       "      <td>0</td>\n",
       "    </tr>\n",
       "    <tr>\n",
       "      <th>3</th>\n",
       "      <td>01-telecharger.com</td>\n",
       "      <td>0</td>\n",
       "    </tr>\n",
       "    <tr>\n",
       "      <th>4</th>\n",
       "      <td>010shangpu.com</td>\n",
       "      <td>0</td>\n",
       "    </tr>\n",
       "  </tbody>\n",
       "</table>\n",
       "</div>"
      ],
      "text/plain": [
       "                domain  label\n",
       "0  000directory.com.ar      0\n",
       "1       000webhost.com      0\n",
       "2          001fans.com      0\n",
       "3   01-telecharger.com      0\n",
       "4       010shangpu.com      0"
      ]
     },
     "execution_count": 29,
     "metadata": {},
     "output_type": "execute_result"
    }
   ],
   "source": [
    "others.head()"
   ]
  },
  {
   "cell_type": "code",
   "execution_count": null,
   "metadata": {},
   "outputs": [],
   "source": []
  },
  {
   "cell_type": "markdown",
   "metadata": {},
   "source": [
    "1.5 融合并保存文件"
   ]
  },
  {
   "cell_type": "code",
   "execution_count": 47,
   "metadata": {},
   "outputs": [
    {
     "data": {
      "text/plain": [
       "(2355598, 2)"
      ]
     },
     "execution_count": 47,
     "metadata": {},
     "output_type": "execute_result"
    }
   ],
   "source": [
    "frames = [alexa, dga_360, dga_zeus, others]\n",
    "result = pd.concat(frames)\n",
    "result.shape"
   ]
  },
  {
   "cell_type": "code",
   "execution_count": 48,
   "metadata": {},
   "outputs": [],
   "source": [
    "result = result.sample(frac=1).reset_index(drop=True)\n",
    "result.to_csv(domains_data, index=False)"
   ]
  },
  {
   "cell_type": "code",
   "execution_count": 49,
   "metadata": {},
   "outputs": [],
   "source": [
    "del result"
   ]
  },
  {
   "cell_type": "code",
   "execution_count": null,
   "metadata": {},
   "outputs": [],
   "source": []
  },
  {
   "cell_type": "markdown",
   "metadata": {},
   "source": [
    "# 2. 探索数据集"
   ]
  },
  {
   "cell_type": "code",
   "execution_count": 5,
   "metadata": {},
   "outputs": [
    {
     "data": {
      "text/plain": [
       "(2355598, 2)"
      ]
     },
     "execution_count": 5,
     "metadata": {},
     "output_type": "execute_result"
    }
   ],
   "source": [
    "domains_df = pd.read_csv(domains_data)\n",
    "domains_df.shape"
   ]
  },
  {
   "cell_type": "markdown",
   "metadata": {},
   "source": [
    "2.1 正负样本分布"
   ]
  },
  {
   "cell_type": "code",
   "execution_count": 6,
   "metadata": {},
   "outputs": [
    {
     "data": {
      "image/png": "[encoded data removed]",
      "text/plain": [
       "<Figure size 864x360 with 2 Axes>"
      ]
     },
     "metadata": {},
     "output_type": "display_data"
    }
   ],
   "source": [
    "# 正负样本\n",
    "f,ax=plt.subplots(1,2,figsize=(12,5))\n",
    "domains_df['label'].value_counts().plot.pie(autopct='%1.1f%%',ax=ax[0],shadow=True)\n",
    "ax[0].set_title('label')\n",
    "domains_df['label'].value_counts().plot.bar(ax=ax[1])\n",
    "ax[1].set_title('label')\n",
    "plt.show()"
   ]
  },
  {
   "cell_type": "markdown",
   "metadata": {},
   "source": [
    "正负样本数量平均"
   ]
  },
  {
   "cell_type": "code",
   "execution_count": null,
   "metadata": {},
   "outputs": [],
   "source": []
  },
  {
   "cell_type": "markdown",
   "metadata": {},
   "source": [
    "2.2 香农熵分布"
   ]
  },
  {
   "cell_type": "code",
   "execution_count": 40,
   "metadata": {},
   "outputs": [],
   "source": [
    "domains_df['main_domain'] = domains_df['domain'].map(lambda domain: tldextract.extract(domain).domain)"
   ]
  },
  {
   "cell_type": "code",
   "execution_count": 8,
   "metadata": {},
   "outputs": [],
   "source": [
    "def count_entropy(domain):\n",
    "    domain_len = len(domain)\n",
    "    count = Counter(i for i in domain).most_common()\n",
    "    entropy = -sum(fre / domain_len * (np.log(fre/domain_len)) for ch, fre in count)\n",
    "    return entropy\n",
    "\n",
    "domains_df['entropy'] = domains_df['main_domain'].map(count_entropy)"
   ]
  },
  {
   "cell_type": "code",
   "execution_count": 71,
   "metadata": {},
   "outputs": [
    {
     "data": {
      "image/png": "[encoded data removed]",
      "text/plain": [
       "<Figure size 864x360 with 2 Axes>"
      ]
     },
     "metadata": {
      "needs_background": "light"
     },
     "output_type": "display_data"
    }
   ],
   "source": [
    "# 香农熵分布直方图\n",
    "f,ax=plt.subplots(1,2,figsize=(12,5))\n",
    "domains_df['entropy'].loc[domains_df.label==0].plot.hist(ax=ax[0])\n",
    "ax[0].set_title('entropy legit')\n",
    "domains_df['entropy'].loc[domains_df.label==1].plot.hist(ax=ax[1])\n",
    "ax[1].set_title('entropy dga')\n",
    "plt.show()"
   ]
  },
  {
   "cell_type": "code",
   "execution_count": null,
   "metadata": {},
   "outputs": [],
   "source": []
  },
  {
   "cell_type": "markdown",
   "metadata": {},
   "source": [
    "2.3 元音字母比重"
   ]
  },
  {
   "cell_type": "code",
   "execution_count": 9,
   "metadata": {},
   "outputs": [],
   "source": [
    "def count_vowel_ratio(domain):\n",
    "    vowels=list('aeiou')\n",
    "    sum_vowel = sum(vowels.count(i) for i in domain.lower())\n",
    "    return sum_vowel / len(domain)\n",
    "\n",
    "domains_df['vowel ratio'] = domains_df['main_domain'].map(count_vowel_ratio)"
   ]
  },
  {
   "cell_type": "code",
   "execution_count": 70,
   "metadata": {},
   "outputs": [
    {
     "data": {
      "image/png": "[encoded data removed]",
      "text/plain": [
       "<Figure size 864x360 with 2 Axes>"
      ]
     },
     "metadata": {
      "needs_background": "light"
     },
     "output_type": "display_data"
    }
   ],
   "source": [
    "# 元音字母比重分布直方图\n",
    "f,ax=plt.subplots(1,2,figsize=(12,5))\n",
    "domains_df['vowel ratio'].loc[domains_df.label==0].plot.hist(ax=ax[0])\n",
    "ax[0].set_title('vowel ratio legit')\n",
    "domains_df['vowel ratio'].loc[domains_df.label==1].plot.hist(ax=ax[1])\n",
    "ax[1].set_title('vowel ratio dga')\n",
    "plt.show()"
   ]
  },
  {
   "cell_type": "code",
   "execution_count": null,
   "metadata": {},
   "outputs": [],
   "source": []
  },
  {
   "cell_type": "markdown",
   "metadata": {},
   "source": [
    "2.4 数字占比"
   ]
  },
  {
   "cell_type": "code",
   "execution_count": 10,
   "metadata": {},
   "outputs": [],
   "source": [
    "def count_digits_ratio(word):#how many digits\n",
    "    digits=list('0123456789')\n",
    "    sum_digits = sum(digits.count(i) for i in word.lower())\n",
    "    return sum_digits/len(word)\n",
    "\n",
    "domains_df['digit ratio'] = domains_df['main_domain'].map(count_digits_ratio)"
   ]
  },
  {
   "cell_type": "code",
   "execution_count": null,
   "metadata": {},
   "outputs": [],
   "source": []
  },
  {
   "cell_type": "markdown",
   "metadata": {},
   "source": [
    "2.5 重复字母占比"
   ]
  },
  {
   "cell_type": "code",
   "execution_count": 11,
   "metadata": {},
   "outputs": [],
   "source": [
    "def count_repeat_letter(word):\n",
    "    count = Counter(i for i in word.lower() if i.isalpha()).most_common()\n",
    "    cnt = 0\n",
    "    for letter,ct in count:\n",
    "        if ct>1:\n",
    "            cnt+=1\n",
    "    return cnt / len(word)\n",
    "\n",
    "domains_df['repeat_letter ratio'] = domains_df['main_domain'].map(count_repeat_letter)"
   ]
  },
  {
   "cell_type": "code",
   "execution_count": null,
   "metadata": {},
   "outputs": [],
   "source": []
  },
  {
   "cell_type": "markdown",
   "metadata": {},
   "source": [
    "2.6 连续数字占比"
   ]
  },
  {
   "cell_type": "code",
   "execution_count": 12,
   "metadata": {},
   "outputs": [],
   "source": [
    "def consecutive_digits_ratio(word):#how many consecutive digit\n",
    "    cnt = 0\n",
    "    digit_map = [int(i.isdigit()) for i in word]\n",
    "    consecutive=[(k,len(list(g))) for k, g in groupby(digit_map)]\n",
    "    count_consecutive = sum(j for i,j in consecutive if j>1 and i==1)\n",
    "    return count_consecutive / len(word)\n",
    "\n",
    "domains_df['consecutive_digits ratio'] = domains_df['main_domain'].map(count_repeat_letter)"
   ]
  },
  {
   "cell_type": "code",
   "execution_count": null,
   "metadata": {},
   "outputs": [],
   "source": []
  },
  {
   "cell_type": "markdown",
   "metadata": {},
   "source": [
    "2.7 连续辅音占比"
   ]
  },
  {
   "cell_type": "code",
   "execution_count": 13,
   "metadata": {},
   "outputs": [],
   "source": [
    "def consecutive_consonant(word):#how many consecutive consonant\n",
    "    cnt = 0\n",
    "    consonant = set(['b', 'c', 'd', 'f', 'g', 'h', 'j', 'k', 'l', 'm', \n",
    "                     'n', 'p', 'q', 'r', 's', 't', 'v', 'w','x', 'y', 'z'])\n",
    "    digit_map = [int(i in consonant) for i in word]\n",
    "    consecutive=[(k,len(list(g))) for k, g in groupby(digit_map)]\n",
    "    count_consecutive = sum(j for i,j in consecutive if j>1 and i==1)\n",
    "    return count_consecutive / len(word)\n",
    "\n",
    "domains_df['consecutive_consonant ratio'] = domains_df['main_domain'].map(count_repeat_letter)"
   ]
  },
  {
   "cell_type": "code",
   "execution_count": null,
   "metadata": {},
   "outputs": [],
   "source": []
  },
  {
   "cell_type": "markdown",
   "metadata": {},
   "source": [
    "2.8 gibberish detection"
   ]
  },
  {
   "cell_type": "code",
   "execution_count": 14,
   "metadata": {},
   "outputs": [],
   "source": [
    "# 训练gibberish模型\n",
    "# reload(gib_detect_train)\n",
    "# gib.train(corpus_path, good_path, bad_path, model_path)\n",
    "model_data = pickle.load(open(model_path, 'rb'))\n",
    "model_mat = model_data['mat']\n",
    "threshold = model_data['thresh']"
   ]
  },
  {
   "cell_type": "code",
   "execution_count": 15,
   "metadata": {},
   "outputs": [],
   "source": [
    "domains_df['gib'] = domains_df['main_domain'].map(lambda domain: gib.avg_transition_prob(domain, model_mat))"
   ]
  },
  {
   "cell_type": "code",
   "execution_count": 93,
   "metadata": {},
   "outputs": [
    {
     "data": {
      "image/png": "[encoded data removed]",
      "text/plain": [
       "<Figure size 864x360 with 2 Axes>"
      ]
     },
     "metadata": {
      "needs_background": "light"
     },
     "output_type": "display_data"
    }
   ],
   "source": [
    "# gibberish分布直方图\n",
    "f,ax=plt.subplots(1,2,figsize=(12,5))\n",
    "domains_df['gib'].loc[domains_df.label==0].plot.hist(ax=ax[0], bins=100)\n",
    "ax[0].set_title('gib legit')\n",
    "ax[0].set_xlim(0, 0.1)\n",
    "domains_df['gib'].loc[domains_df.label==1].plot.hist(ax=ax[1], bins=100)\n",
    "ax[1].set_title('gib dga')\n",
    "ax[1].set_xlim(0, 0.1)\n",
    "plt.show()"
   ]
  },
  {
   "cell_type": "code",
   "execution_count": 16,
   "metadata": {},
   "outputs": [
    {
     "data": {
      "text/html": [
       "<div>\n",
       "<style>\n",
       "    .dataframe thead tr:only-child th {\n",
       "        text-align: right;\n",
       "    }\n",
       "\n",
       "    .dataframe thead th {\n",
       "        text-align: left;\n",
       "    }\n",
       "\n",
       "    .dataframe tbody tr th {\n",
       "        vertical-align: top;\n",
       "    }\n",
       "</style>\n",
       "<table border=\"1\" class=\"dataframe\">\n",
       "  <thead>\n",
       "    <tr style=\"text-align: right;\">\n",
       "      <th></th>\n",
       "      <th>domain</th>\n",
       "      <th>label</th>\n",
       "      <th>main_domain</th>\n",
       "      <th>entropy</th>\n",
       "      <th>vowel ratio</th>\n",
       "      <th>digit ratio</th>\n",
       "      <th>repeat_letter ratio</th>\n",
       "      <th>consecutive_digits ratio</th>\n",
       "      <th>consecutive_consonant ratio</th>\n",
       "      <th>gib</th>\n",
       "    </tr>\n",
       "  </thead>\n",
       "  <tbody>\n",
       "    <tr>\n",
       "      <th>0</th>\n",
       "      <td>wmlltvyfwglvcoor.eu</td>\n",
       "      <td>1</td>\n",
       "      <td>wmlltvyfwglvcoor</td>\n",
       "      <td>2.306669</td>\n",
       "      <td>0.125000</td>\n",
       "      <td>0.000000</td>\n",
       "      <td>0.250000</td>\n",
       "      <td>0.250000</td>\n",
       "      <td>0.250000</td>\n",
       "      <td>0.004466</td>\n",
       "    </tr>\n",
       "    <tr>\n",
       "      <th>1</th>\n",
       "      <td>com-ssl.net</td>\n",
       "      <td>0</td>\n",
       "      <td>com-ssl</td>\n",
       "      <td>1.747868</td>\n",
       "      <td>0.142857</td>\n",
       "      <td>0.000000</td>\n",
       "      <td>0.142857</td>\n",
       "      <td>0.142857</td>\n",
       "      <td>0.142857</td>\n",
       "      <td>0.045252</td>\n",
       "    </tr>\n",
       "    <tr>\n",
       "      <th>2</th>\n",
       "      <td>3jpzq1iuomlerqq1we.cn</td>\n",
       "      <td>1</td>\n",
       "      <td>3jpzq1iuomlerqq1we</td>\n",
       "      <td>2.553237</td>\n",
       "      <td>0.277778</td>\n",
       "      <td>0.166667</td>\n",
       "      <td>0.111111</td>\n",
       "      <td>0.111111</td>\n",
       "      <td>0.111111</td>\n",
       "      <td>0.004239</td>\n",
       "    </tr>\n",
       "    <tr>\n",
       "      <th>3</th>\n",
       "      <td>tonmlohciuiv.ru</td>\n",
       "      <td>1</td>\n",
       "      <td>tonmlohciuiv</td>\n",
       "      <td>2.253858</td>\n",
       "      <td>0.416667</td>\n",
       "      <td>0.000000</td>\n",
       "      <td>0.166667</td>\n",
       "      <td>0.166667</td>\n",
       "      <td>0.166667</td>\n",
       "      <td>0.010726</td>\n",
       "    </tr>\n",
       "    <tr>\n",
       "      <th>4</th>\n",
       "      <td>n21.tv</td>\n",
       "      <td>0</td>\n",
       "      <td>n21</td>\n",
       "      <td>1.098612</td>\n",
       "      <td>0.000000</td>\n",
       "      <td>0.666667</td>\n",
       "      <td>0.000000</td>\n",
       "      <td>0.000000</td>\n",
       "      <td>0.000000</td>\n",
       "      <td>1.000000</td>\n",
       "    </tr>\n",
       "  </tbody>\n",
       "</table>\n",
       "</div>"
      ],
      "text/plain": [
       "                  domain  label         main_domain   entropy  vowel ratio  \\\n",
       "0    wmlltvyfwglvcoor.eu      1    wmlltvyfwglvcoor  2.306669     0.125000   \n",
       "1            com-ssl.net      0             com-ssl  1.747868     0.142857   \n",
       "2  3jpzq1iuomlerqq1we.cn      1  3jpzq1iuomlerqq1we  2.553237     0.277778   \n",
       "3        tonmlohciuiv.ru      1        tonmlohciuiv  2.253858     0.416667   \n",
       "4                 n21.tv      0                 n21  1.098612     0.000000   \n",
       "\n",
       "   digit ratio  repeat_letter ratio  consecutive_digits ratio  \\\n",
       "0     0.000000             0.250000                  0.250000   \n",
       "1     0.000000             0.142857                  0.142857   \n",
       "2     0.166667             0.111111                  0.111111   \n",
       "3     0.000000             0.166667                  0.166667   \n",
       "4     0.666667             0.000000                  0.000000   \n",
       "\n",
       "   consecutive_consonant ratio       gib  \n",
       "0                     0.250000  0.004466  \n",
       "1                     0.142857  0.045252  \n",
       "2                     0.111111  0.004239  \n",
       "3                     0.166667  0.010726  \n",
       "4                     0.000000  1.000000  "
      ]
     },
     "execution_count": 16,
     "metadata": {},
     "output_type": "execute_result"
    }
   ],
   "source": [
    "domains_df.head()"
   ]
  },
  {
   "cell_type": "code",
   "execution_count": null,
   "metadata": {},
   "outputs": [],
   "source": []
  },
  {
   "cell_type": "markdown",
   "metadata": {},
   "source": [
    "2.9 HMM计算"
   ]
  },
  {
   "cell_type": "code",
   "execution_count": 126,
   "metadata": {},
   "outputs": [],
   "source": [
    "def hmm_trainer(corpus_path, trans_matrix_path, n_grams=2):\n",
    "    words = [w.strip().lower() for w in open(corpus_path).readlines()]\n",
    "    words = [\"^\" + w.split('/')[0] + \"$\" for w in words if w != \"\"]\n",
    "    transitions = defaultdict(lambda: defaultdict(float))\n",
    "    n = n_grams\n",
    "    for word in words:\n",
    "        if len(word) >= n:\n",
    "            transitions[\"\"][word[:n]] += 1.0\n",
    "        for i in range(len(word) - n):\n",
    "            gram = word[i : i + n]\n",
    "            next_ = word[i + 1 : i + n + 1]\n",
    "            transitions[gram][next_] += 1.0\n",
    "    \n",
    "    # normalize the probabilities\n",
    "    for gram in transitions:\n",
    "        total = sum([transitions[gram][next_] for next_ in transitions[gram]])\n",
    "        for next_ in transitions[gram]:\n",
    "            transitions[gram][next_] /= total\n",
    "            \n",
    "    with open(trans_matrix_path, mode='w') as fw:\n",
    "        for key1, dict1 in transitions.items():\n",
    "            for key2, value in dict1.items():\n",
    "                fw.write('%s\\t%s\\t%f\\n'%(key1,key2,value))"
   ]
  },
  {
   "cell_type": "code",
   "execution_count": 18,
   "metadata": {},
   "outputs": [],
   "source": [
    "hmm_trainer(alexa_100k_path, hmm_trans_matrix_path, n_grams=2)  # 训练\n",
    "\n",
    "transitions = defaultdict(lambda: defaultdict(float))  # 加载\n",
    "with open(hmm_trans_matrix_path, mode='r') as f_trans:\n",
    "    for f in f_trans:\n",
    "        key1,key2,value =f.rstrip().split('\\t')\n",
    "        value = float(value)\n",
    "        transitions[key1][key2] = value"
   ]
  },
  {
   "cell_type": "code",
   "execution_count": 19,
   "metadata": {},
   "outputs": [],
   "source": [
    "def bigrams(words):\n",
    "    wprev = None\n",
    "    for w in words:\n",
    "        if not wprev==None:\n",
    "            yield (wprev, w)\n",
    "        wprev = w\n",
    "        \n",
    "def hmm_prob(domain):\n",
    "    bigram = [''.join((i,j)) for i,j in bigrams(domain) if not i==None]\n",
    "    prob = transitions[''][bigram[0]]\n",
    "    for x in range(len(bigram)-1):\n",
    "        next_step = transitions[bigram[x]][bigram[x+1]]\n",
    "        prob *= next_step\n",
    "\n",
    "    return prob"
   ]
  },
  {
   "cell_type": "code",
   "execution_count": 21,
   "metadata": {},
   "outputs": [
    {
     "name": "stderr",
     "output_type": "stream",
     "text": [
      "D:\\ProgramFiles\\Anaconda3\\envs\\tf_python3\\lib\\site-packages\\pandas\\core\\series.py:2158: RuntimeWarning: divide by zero encountered in log\n",
      "  new_values = map_f(values, arg)\n"
     ]
    }
   ],
   "source": [
    "hmm_prob_threshold = -120\n",
    "domains_df['hmm_log'] = domains_df['domain'].map(lambda domain: hmm_prob('^'+ domain.strip('.') +'$'))\n",
    "domains_df['hmm_log'] = domains_df['hmm_log'].map(np.log)\n",
    "domains_df['hmm_log'].where(domains_df['hmm_log']>=hmm_prob_threshold, -999, inplace=True)"
   ]
  },
  {
   "cell_type": "code",
   "execution_count": 22,
   "metadata": {},
   "outputs": [
    {
     "data": {
      "text/plain": [
       "0   -999.000000\n",
       "1    -30.574110\n",
       "2   -999.000000\n",
       "3    -58.048846\n",
       "4    -22.867315\n",
       "Name: hmm_log, dtype: float64"
      ]
     },
     "execution_count": 22,
     "metadata": {},
     "output_type": "execute_result"
    }
   ],
   "source": [
    "domains_df['hmm_log'].head()"
   ]
  },
  {
   "cell_type": "code",
   "execution_count": null,
   "metadata": {},
   "outputs": [],
   "source": []
  },
  {
   "cell_type": "markdown",
   "metadata": {},
   "source": [
    "2.10 TLD计算"
   ]
  },
  {
   "cell_type": "code",
   "execution_count": 27,
   "metadata": {},
   "outputs": [
    {
     "data": {
      "text/plain": [
       "['.ac.', '.com.ac.']"
      ]
     },
     "execution_count": 27,
     "metadata": {},
     "output_type": "execute_result"
    }
   ],
   "source": [
    "def load_tld_list(tld_path):\n",
    "    with open(tld_path, mode='r', encoding='utf-8') as tld_file:\n",
    "        tld_list = list('.' + t.strip().strip('.') + '.' for t in tld_file)\n",
    "        return tld_list\n",
    "    \n",
    "tld_list = load_tld_list(tld_list_path)\n",
    "tld_list[:2]"
   ]
  },
  {
   "cell_type": "code",
   "execution_count": 32,
   "metadata": {},
   "outputs": [],
   "source": [
    "def max_match(domain, tlds):\n",
    "    match = [i for i in tlds if i in domain] \n",
    "    if len(match) > 0:\n",
    "        for i in sorted(match, key=lambda x: len(x), reverse=True):\n",
    "            if i == domain[-(len(i)):]:\n",
    "                return i\n",
    "    else:\n",
    "        return 'NONE'\n",
    "\n",
    "def extract_tld(domain):  # 提取域名\n",
    "    ext = tldextract.extract(domain)\n",
    "    return ext.suffix\n",
    "    \n",
    "domains_df['tld'] = domains_df['domain'].map(extract_tld)"
   ]
  },
  {
   "cell_type": "code",
   "execution_count": null,
   "metadata": {},
   "outputs": [],
   "source": []
  },
  {
   "cell_type": "markdown",
   "metadata": {},
   "source": [
    "2.10 n-gram 计算"
   ]
  },
  {
   "cell_type": "code",
   "execution_count": 23,
   "metadata": {},
   "outputs": [],
   "source": [
    "def ave(array_):#sanity check for NaN\n",
    "    if len(array_)>0:\n",
    "        return array_.mean()\n",
    "    else:\n",
    "        return 0\n",
    "    \n",
    "def std(array_):#sanity check for NaN\n",
    "    if len(array_)>0:\n",
    "        return array_.std()\n",
    "    else:\n",
    "        return 0\n",
    "    \n",
    "def trigrams(words):  # 3grams\n",
    "    wprev1 = None\n",
    "    wprev2 = None\n",
    "    for w in words:\n",
    "        if not (wprev1==None or wprev2==None):\n",
    "            yield (wprev1,wprev2, w)\n",
    "        wprev1 = wprev2\n",
    "        wprev2 = w"
   ]
  },
  {
   "cell_type": "code",
   "execution_count": 37,
   "metadata": {},
   "outputs": [],
   "source": [
    "def generate_n_gram_freq_file(input_path, output_path):\n",
    "    unigram_rank = defaultdict(int)\n",
    "    bigram_rank = defaultdict(int)\n",
    "    trigram_rank = defaultdict(int)\n",
    "    \n",
    "    with open(input_path,'r') as fi:\n",
    "        for f in fi:\n",
    "            rank,domain = f.strip().split(',')\n",
    "            ext = tldextract.extract(domain)\n",
    "            tld = ext.suffix\n",
    "            main_domain = '$'+ext.domain+'$'#add begin and end\n",
    "            for i in main_domain[1:-1]:\n",
    "                unigram_rank[i]+=1\n",
    "            for i in bigrams(main_domain):\n",
    "                bigram_rank[''.join(i)]+=1\n",
    "            for i in trigrams(main_domain):\n",
    "                trigram_rank[''.join(i)]+=1\n",
    "    \n",
    "    with open(output_path, 'w') as fw:\n",
    "        for rank,(i,freq)in enumerate(sorted(unigram_rank.items(), key = lambda x:x[1], reverse = True)):\n",
    "            try:\n",
    "                fw.write('1,%s,%d,%d\\n'%(i,freq,rank+1))\n",
    "            except UnicodeEncodeError:\n",
    "                continue\n",
    "        for rank,(i,freq) in enumerate(sorted(bigram_rank.items(),key = lambda x:x[1], reverse = True)):\n",
    "            try:\n",
    "                fw.write('2,%s,%d,%d\\n'%(i,freq,rank+1))\n",
    "            except UnicodeEncodeError:\n",
    "                continue\n",
    "        for rank,(i,freq) in enumerate(sorted(trigram_rank.items(),key = lambda x:x[1], reverse = True)):\n",
    "            try:\n",
    "                fw.write('3,%s,%d,%d\\n'%(i,freq,rank+1))\n",
    "            except UnicodeEncodeError:\n",
    "                continue\n",
    "    \n",
    "generate_n_gram_freq_file(alexa_top_1m, n_gram_freq_path)"
   ]
  },
  {
   "cell_type": "code",
   "execution_count": 38,
   "metadata": {},
   "outputs": [],
   "source": [
    "# 获取数据\n",
    "gram_rank_dict = dict()\n",
    "with open(n_gram_freq_path, 'r') as n_gram_file:\n",
    "    for i in n_gram_file:\n",
    "        cat,gram,freq,rank = i.strip().split(',')\n",
    "        gram_rank_dict[gram]=int(rank)"
   ]
  },
  {
   "cell_type": "code",
   "execution_count": 41,
   "metadata": {},
   "outputs": [
    {
     "data": {
      "text/plain": [
       "(2355598,)"
      ]
     },
     "execution_count": 41,
     "metadata": {},
     "output_type": "execute_result"
    }
   ],
   "source": [
    "def count_n_gram(domain):\n",
    "    main_domain = '$' + domain +'$'\n",
    "    bigram = [''.join(i) for i in bigrams(main_domain)]  # extract the bigram\n",
    "    trigram = [''.join(i) for i in trigrams(main_domain)]  # extract the bigram\n",
    "    unigram_rank = np.array([gram_rank_dict[i] if i in gram_rank_dict else 0 for i in main_domain[1:-1]])\n",
    "    bigram_rank = np.array([gram_rank_dict[''.join(i)] if ''.join(i) in gram_rank_dict else 0 for i in bigrams(main_domain)])\n",
    "    trigram_rank = np.array([gram_rank_dict[''.join(i)] if ''.join(i) in gram_rank_dict else 0 for i in trigrams(main_domain)])\n",
    "    return np.ndarray([ave(unigram_rank),ave(bigram_rank),ave(trigram_rank),\n",
    "                      std(unigram_rank),std(bigram_rank),std(trigram_rank)])\n",
    "\n",
    "n_gram_feat = domains_df['main_domain'].map(count_n_gram)\n",
    "n_gram_feat.shape"
   ]
  },
  {
   "cell_type": "code",
   "execution_count": 104,
   "metadata": {},
   "outputs": [],
   "source": [
    "n_gram_feat = np.array([row.tolist() for row in n_gram_feat]).reshape((-1, 6))\n",
    "\n",
    "domains_df['uni_ave'] = n_gram_feat[:, 0]\n",
    "domains_df['bi_ave'] = n_gram_feat[:, 1]\n",
    "domains_df['tri_ave'] = n_gram_feat[:, 2]\n",
    "domains_df['uni_std'] = n_gram_feat[:, 3]\n",
    "domains_df['bi_std'] = n_gram_feat[:, 4]\n",
    "domains_df['tri_std'] = n_gram_feat[:, 5]"
   ]
  },
  {
   "cell_type": "code",
   "execution_count": null,
   "metadata": {},
   "outputs": [],
   "source": []
  },
  {
   "cell_type": "code",
   "execution_count": null,
   "metadata": {},
   "outputs": [],
   "source": []
  },
  {
   "cell_type": "code",
   "execution_count": null,
   "metadata": {},
   "outputs": [],
   "source": []
  },
  {
   "cell_type": "code",
   "execution_count": null,
   "metadata": {},
   "outputs": [],
   "source": []
  },
  {
   "cell_type": "code",
   "execution_count": null,
   "metadata": {},
   "outputs": [],
   "source": []
  },
  {
   "cell_type": "code",
   "execution_count": null,
   "metadata": {},
   "outputs": [],
   "source": []
  },
  {
   "cell_type": "code",
   "execution_count": null,
   "metadata": {},
   "outputs": [],
   "source": []
  }
 ],
 "metadata": {
  "kernelspec": {
   "display_name": "Python (tf_python3)",
   "language": "python",
   "name": "tf_python3"
  },
  "language_info": {
   "codemirror_mode": {
    "name": "ipython",
    "version": 3
   },
   "file_extension": ".py",
   "mimetype": "text/x-python",
   "name": "python",
   "nbconvert_exporter": "python",
   "pygments_lexer": "ipython3",
   "version": "3.6.8"
  }
 },
 "nbformat": 4,
 "nbformat_minor": 2
}
