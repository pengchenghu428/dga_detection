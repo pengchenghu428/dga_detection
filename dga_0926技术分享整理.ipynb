{
 "cells": [
  {
   "cell_type": "markdown",
   "metadata": {},
   "source": [
    "# 1. 文件说明"
   ]
  },
  {
   "cell_type": "markdown",
   "metadata": {},
   "source": [
    "本文件用于对2019-09-26组内技术分享--DGA内容"
   ]
  },
  {
   "cell_type": "code",
   "execution_count": 377,
   "metadata": {},
   "outputs": [],
   "source": [
    "import os\n",
    "import pydot\n",
    "import pickle\n",
    "import warnings\n",
    "warnings.filterwarnings(\"ignore\")\n",
    "import numpy as np\n",
    "import pandas as pd\n",
    "import seaborn as sns\n",
    "import matplotlib.pyplot as plt\n",
    "%matplotlib inline\n",
    "import lightgbm as lgb\n",
    "from imp import reload\n",
    "\n",
    "from collections import Counter\n",
    "from collections import defaultdict\n",
    "from itertools import groupby\n",
    "from scipy.stats import reciprocal, uniform\n",
    "from sklearn.model_selection import RandomizedSearchCV\n",
    "from sklearn.preprocessing import LabelEncoder\n",
    "from sklearn.preprocessing import OneHotEncoder\n",
    "from sklearn.model_selection import train_test_split\n",
    "from sklearn.model_selection import StratifiedKFold\n",
    "from sklearn.preprocessing import MinMaxScaler\n",
    "from sklearn.linear_model import LogisticRegression\n",
    "from sklearn.svm import SVC\n",
    "from sklearn.metrics import accuracy_score\n",
    "from sklearn.metrics import precision_score\n",
    "from sklearn.metrics import recall_score\n",
    "from sklearn.metrics import roc_auc_score\n",
    "from sklearn.metrics import confusion_matrix\n",
    "from sklearn.metrics import roc_curve\n",
    "from sklearn.externals import joblib\n",
    "from keras.models import Sequential, Model\n",
    "from keras.models import model_from_json\n",
    "from keras.layers import Bidirectional, TimeDistributed\n",
    "from keras.layers import Dense, Dropout, LSTM, GRU, Input\n",
    "from keras.layers.embeddings import Embedding\n",
    "from keras.layers import Concatenate\n",
    "from keras.utils import np_utils\n",
    "from keras.callbacks import ModelCheckpoint\n",
    "from keras.callbacks import EarlyStopping\n",
    "from keras.preprocessing import sequence\n",
    "from keras.utils.vis_utils import plot_model\n",
    "\n",
    "from keras_bert import Tokenizer, get_base_dict, get_model, compile_model, gen_batch_inputs\n",
    "from keras_bert import load_trained_model_from_checkpoint\n",
    "\n",
    "import tools.attention_layer as att"
   ]
  },
  {
   "cell_type": "code",
   "execution_count": 135,
   "metadata": {},
   "outputs": [],
   "source": [
    "os.environ[\"CUDA_VISIBLE_DEVICES\"] = \"1\""
   ]
  },
  {
   "cell_type": "code",
   "execution_count": null,
   "metadata": {},
   "outputs": [],
   "source": []
  },
  {
   "cell_type": "markdown",
   "metadata": {},
   "source": [
    "# 2. 构建数据集"
   ]
  },
  {
   "cell_type": "markdown",
   "metadata": {},
   "source": [
    "### 2.1 数据集来源"
   ]
  },
  {
   "cell_type": "markdown",
   "metadata": {},
   "source": [
    "- 正样本：1199949 http://data.netlab.360.com/dga/ (该数据集每天仍在更新，当前使用的是20190717的数据)\n",
    "- 负样本：1000000 Alexa-Top sites"
   ]
  },
  {
   "cell_type": "code",
   "execution_count": 10,
   "metadata": {},
   "outputs": [
    {
     "data": {
      "text/plain": [
       "(1000000, 2)"
      ]
     },
     "execution_count": 10,
     "metadata": {},
     "output_type": "execute_result"
    }
   ],
   "source": [
    "# legit\n",
    "alexa_top_1m = 'data/domains/top-1m.csv'\n",
    "alexa = pd.read_csv(alexa_top_1m, header=None, names=['index', 'domain'])\n",
    "alexa.drop(['index'], axis=1, inplace=True)\n",
    "alexa['label'] = 'legit'\n",
    "alexa.shape"
   ]
  },
  {
   "cell_type": "code",
   "execution_count": 222,
   "metadata": {},
   "outputs": [
    {
     "data": {
      "text/html": [
       "<div>\n",
       "<style>\n",
       "    .dataframe thead tr:only-child th {\n",
       "        text-align: right;\n",
       "    }\n",
       "\n",
       "    .dataframe thead th {\n",
       "        text-align: left;\n",
       "    }\n",
       "\n",
       "    .dataframe tbody tr th {\n",
       "        vertical-align: top;\n",
       "    }\n",
       "</style>\n",
       "<table border=\"1\" class=\"dataframe\">\n",
       "  <thead>\n",
       "    <tr style=\"text-align: right;\">\n",
       "      <th></th>\n",
       "      <th>domain</th>\n",
       "      <th>label</th>\n",
       "    </tr>\n",
       "  </thead>\n",
       "  <tbody>\n",
       "    <tr>\n",
       "      <th>0</th>\n",
       "      <td>google.com</td>\n",
       "      <td>legit</td>\n",
       "    </tr>\n",
       "    <tr>\n",
       "      <th>1</th>\n",
       "      <td>youtube.com</td>\n",
       "      <td>legit</td>\n",
       "    </tr>\n",
       "    <tr>\n",
       "      <th>2</th>\n",
       "      <td>facebook.com</td>\n",
       "      <td>legit</td>\n",
       "    </tr>\n",
       "    <tr>\n",
       "      <th>3</th>\n",
       "      <td>baidu.com</td>\n",
       "      <td>legit</td>\n",
       "    </tr>\n",
       "    <tr>\n",
       "      <th>4</th>\n",
       "      <td>wikipedia.org</td>\n",
       "      <td>legit</td>\n",
       "    </tr>\n",
       "  </tbody>\n",
       "</table>\n",
       "</div>"
      ],
      "text/plain": [
       "          domain  label\n",
       "0     google.com  legit\n",
       "1    youtube.com  legit\n",
       "2   facebook.com  legit\n",
       "3      baidu.com  legit\n",
       "4  wikipedia.org  legit"
      ]
     },
     "execution_count": 222,
     "metadata": {},
     "output_type": "execute_result"
    }
   ],
   "source": [
    "alexa.head()"
   ]
  },
  {
   "cell_type": "code",
   "execution_count": 22,
   "metadata": {},
   "outputs": [
    {
     "data": {
      "text/plain": [
       "(1199949, 2)"
      ]
     },
     "execution_count": 22,
     "metadata": {},
     "output_type": "execute_result"
    }
   ],
   "source": [
    "# dga\n",
    "lab360 = 'data/domains/net360_0717.txt'\n",
    "dga_360 = pd.read_csv(lab360, sep='\\t', header=None, names=['label', 'domain', 'start time', 'end time'], skiprows=18)\n",
    "dga_360.drop(['start time', 'end time'], axis=1, inplace=True)\n",
    "dga_360.drop(dga_360.index[dga_360['label'].isin(['madmax', 'ccleaner', 'xshellghost', 'blackhole'])], \n",
    "             axis=0, inplace=True)\n",
    "dga_360.shape"
   ]
  },
  {
   "cell_type": "code",
   "execution_count": 223,
   "metadata": {},
   "outputs": [
    {
     "data": {
      "text/html": [
       "<div>\n",
       "<style>\n",
       "    .dataframe thead tr:only-child th {\n",
       "        text-align: right;\n",
       "    }\n",
       "\n",
       "    .dataframe thead th {\n",
       "        text-align: left;\n",
       "    }\n",
       "\n",
       "    .dataframe tbody tr th {\n",
       "        vertical-align: top;\n",
       "    }\n",
       "</style>\n",
       "<table border=\"1\" class=\"dataframe\">\n",
       "  <thead>\n",
       "    <tr style=\"text-align: right;\">\n",
       "      <th></th>\n",
       "      <th>label</th>\n",
       "      <th>domain</th>\n",
       "    </tr>\n",
       "  </thead>\n",
       "  <tbody>\n",
       "    <tr>\n",
       "      <th>0</th>\n",
       "      <td>nymaim</td>\n",
       "      <td>jhggsybzi.info</td>\n",
       "    </tr>\n",
       "    <tr>\n",
       "      <th>1</th>\n",
       "      <td>nymaim</td>\n",
       "      <td>tzilvta.net</td>\n",
       "    </tr>\n",
       "    <tr>\n",
       "      <th>2</th>\n",
       "      <td>nymaim</td>\n",
       "      <td>tztvdeg.com</td>\n",
       "    </tr>\n",
       "    <tr>\n",
       "      <th>3</th>\n",
       "      <td>nymaim</td>\n",
       "      <td>lkpsowb.info</td>\n",
       "    </tr>\n",
       "    <tr>\n",
       "      <th>4</th>\n",
       "      <td>nymaim</td>\n",
       "      <td>mfkjunns.biz</td>\n",
       "    </tr>\n",
       "  </tbody>\n",
       "</table>\n",
       "</div>"
      ],
      "text/plain": [
       "    label          domain\n",
       "0  nymaim  jhggsybzi.info\n",
       "1  nymaim     tzilvta.net\n",
       "2  nymaim     tztvdeg.com\n",
       "3  nymaim    lkpsowb.info\n",
       "4  nymaim    mfkjunns.biz"
      ]
     },
     "execution_count": 223,
     "metadata": {},
     "output_type": "execute_result"
    }
   ],
   "source": [
    "dga_360.head()"
   ]
  },
  {
   "cell_type": "code",
   "execution_count": 23,
   "metadata": {},
   "outputs": [
    {
     "data": {
      "text/plain": [
       "(2199949, 2)"
      ]
     },
     "execution_count": 23,
     "metadata": {},
     "output_type": "execute_result"
    }
   ],
   "source": [
    "frames = [alexa, dga_360]\n",
    "data = pd.concat(frames)\n",
    "data.shape"
   ]
  },
  {
   "cell_type": "code",
   "execution_count": null,
   "metadata": {},
   "outputs": [],
   "source": []
  },
  {
   "cell_type": "markdown",
   "metadata": {},
   "source": [
    "### 2.2 数据集划分"
   ]
  },
  {
   "cell_type": "markdown",
   "metadata": {},
   "source": [
    "#### 正负样本占比"
   ]
  },
  {
   "cell_type": "code",
   "execution_count": 29,
   "metadata": {},
   "outputs": [
    {
     "data": {
      "image/png": "[encoded data removed]",
      "text/plain": [
       "<Figure size 1008x432 with 2 Axes>"
      ]
     },
     "metadata": {},
     "output_type": "display_data"
    }
   ],
   "source": [
    "data['label_dga'] = data['label'].map(lambda x: 1 if not x=='legit' else 0)\n",
    "# 各个类别的dga占比\n",
    "f,ax=plt.subplots(1,2,figsize=(14,6))\n",
    "data['label_dga'].value_counts().plot.pie(autopct='%1.1f%%',ax=ax[0],shadow=True)\n",
    "ax[0].set_title('label_dga')\n",
    "data['label_dga'].value_counts().plot.bar(ax=ax[1])\n",
    "ax[1].set_title('label_dga')\n",
    "plt.show()"
   ]
  },
  {
   "cell_type": "markdown",
   "metadata": {},
   "source": [
    "#### 各个类别占比"
   ]
  },
  {
   "cell_type": "code",
   "execution_count": 28,
   "metadata": {},
   "outputs": [
    {
     "data": {
      "image/png": "[encoded data removed]",
      "text/plain": [
       "<Figure size 1008x432 with 2 Axes>"
      ]
     },
     "metadata": {},
     "output_type": "display_data"
    }
   ],
   "source": [
    "# 各个类别的dga占比\n",
    "f,ax=plt.subplots(1,2,figsize=(14,6))\n",
    "data['label'].value_counts().plot.pie(autopct='%1.1f%%',ax=ax[0],shadow=True)\n",
    "ax[0].set_title('label')\n",
    "data['label'].value_counts().plot.bar(ax=ax[1])\n",
    "ax[1].set_title('label')\n",
    "plt.show()"
   ]
  },
  {
   "cell_type": "code",
   "execution_count": 26,
   "metadata": {
    "scrolled": true
   },
   "outputs": [
    {
     "data": {
      "text/html": [
       "<div>\n",
       "<style>\n",
       "    .dataframe thead tr:only-child th {\n",
       "        text-align: right;\n",
       "    }\n",
       "\n",
       "    .dataframe thead th {\n",
       "        text-align: left;\n",
       "    }\n",
       "\n",
       "    .dataframe tbody tr th {\n",
       "        vertical-align: top;\n",
       "    }\n",
       "</style>\n",
       "<table border=\"1\" class=\"dataframe\">\n",
       "  <thead>\n",
       "    <tr style=\"text-align: right;\">\n",
       "      <th></th>\n",
       "      <th>family</th>\n",
       "      <th>number</th>\n",
       "      <th>ratio</th>\n",
       "    </tr>\n",
       "  </thead>\n",
       "  <tbody>\n",
       "    <tr>\n",
       "      <th>0</th>\n",
       "      <td>legit</td>\n",
       "      <td>1000000</td>\n",
       "      <td>0.454556</td>\n",
       "    </tr>\n",
       "    <tr>\n",
       "      <th>1</th>\n",
       "      <td>banjori</td>\n",
       "      <td>452341</td>\n",
       "      <td>0.205614</td>\n",
       "    </tr>\n",
       "    <tr>\n",
       "      <th>2</th>\n",
       "      <td>emotet</td>\n",
       "      <td>330562</td>\n",
       "      <td>0.150259</td>\n",
       "    </tr>\n",
       "    <tr>\n",
       "      <th>3</th>\n",
       "      <td>rovnix</td>\n",
       "      <td>179935</td>\n",
       "      <td>0.081791</td>\n",
       "    </tr>\n",
       "    <tr>\n",
       "      <th>4</th>\n",
       "      <td>tinba</td>\n",
       "      <td>72490</td>\n",
       "      <td>0.032951</td>\n",
       "    </tr>\n",
       "    <tr>\n",
       "      <th>5</th>\n",
       "      <td>pykspa_v1</td>\n",
       "      <td>44278</td>\n",
       "      <td>0.020127</td>\n",
       "    </tr>\n",
       "    <tr>\n",
       "      <th>6</th>\n",
       "      <td>simda</td>\n",
       "      <td>23731</td>\n",
       "      <td>0.010787</td>\n",
       "    </tr>\n",
       "    <tr>\n",
       "      <th>7</th>\n",
       "      <td>ramnit</td>\n",
       "      <td>18935</td>\n",
       "      <td>0.008607</td>\n",
       "    </tr>\n",
       "    <tr>\n",
       "      <th>8</th>\n",
       "      <td>gameover</td>\n",
       "      <td>11997</td>\n",
       "      <td>0.005453</td>\n",
       "    </tr>\n",
       "    <tr>\n",
       "      <th>9</th>\n",
       "      <td>ranbyus</td>\n",
       "      <td>10903</td>\n",
       "      <td>0.004956</td>\n",
       "    </tr>\n",
       "    <tr>\n",
       "      <th>10</th>\n",
       "      <td>virut</td>\n",
       "      <td>9714</td>\n",
       "      <td>0.004416</td>\n",
       "    </tr>\n",
       "    <tr>\n",
       "      <th>11</th>\n",
       "      <td>murofet</td>\n",
       "      <td>8560</td>\n",
       "      <td>0.003891</td>\n",
       "    </tr>\n",
       "    <tr>\n",
       "      <th>12</th>\n",
       "      <td>necurs</td>\n",
       "      <td>8182</td>\n",
       "      <td>0.003719</td>\n",
       "    </tr>\n",
       "    <tr>\n",
       "      <th>13</th>\n",
       "      <td>shiotob</td>\n",
       "      <td>7968</td>\n",
       "      <td>0.003622</td>\n",
       "    </tr>\n",
       "    <tr>\n",
       "      <th>14</th>\n",
       "      <td>symmi</td>\n",
       "      <td>4256</td>\n",
       "      <td>0.001935</td>\n",
       "    </tr>\n",
       "    <tr>\n",
       "      <th>15</th>\n",
       "      <td>shifu</td>\n",
       "      <td>2541</td>\n",
       "      <td>0.001155</td>\n",
       "    </tr>\n",
       "    <tr>\n",
       "      <th>16</th>\n",
       "      <td>suppobox</td>\n",
       "      <td>2100</td>\n",
       "      <td>0.000955</td>\n",
       "    </tr>\n",
       "    <tr>\n",
       "      <th>17</th>\n",
       "      <td>qadars</td>\n",
       "      <td>2000</td>\n",
       "      <td>0.000909</td>\n",
       "    </tr>\n",
       "    <tr>\n",
       "      <th>18</th>\n",
       "      <td>locky</td>\n",
       "      <td>1158</td>\n",
       "      <td>0.000526</td>\n",
       "    </tr>\n",
       "    <tr>\n",
       "      <th>19</th>\n",
       "      <td>cryptolocker</td>\n",
       "      <td>1000</td>\n",
       "      <td>0.000455</td>\n",
       "    </tr>\n",
       "    <tr>\n",
       "      <th>20</th>\n",
       "      <td>dyre</td>\n",
       "      <td>1000</td>\n",
       "      <td>0.000455</td>\n",
       "    </tr>\n",
       "    <tr>\n",
       "      <th>21</th>\n",
       "      <td>chinad</td>\n",
       "      <td>1000</td>\n",
       "      <td>0.000455</td>\n",
       "    </tr>\n",
       "    <tr>\n",
       "      <th>22</th>\n",
       "      <td>pykspa_v2_fake</td>\n",
       "      <td>800</td>\n",
       "      <td>0.000364</td>\n",
       "    </tr>\n",
       "    <tr>\n",
       "      <th>23</th>\n",
       "      <td>dircrypt</td>\n",
       "      <td>758</td>\n",
       "      <td>0.000345</td>\n",
       "    </tr>\n",
       "    <tr>\n",
       "      <th>24</th>\n",
       "      <td>vawtrak</td>\n",
       "      <td>746</td>\n",
       "      <td>0.000339</td>\n",
       "    </tr>\n",
       "    <tr>\n",
       "      <th>25</th>\n",
       "      <td>conficker</td>\n",
       "      <td>486</td>\n",
       "      <td>0.000221</td>\n",
       "    </tr>\n",
       "    <tr>\n",
       "      <th>26</th>\n",
       "      <td>nymaim</td>\n",
       "      <td>423</td>\n",
       "      <td>0.000192</td>\n",
       "    </tr>\n",
       "    <tr>\n",
       "      <th>27</th>\n",
       "      <td>fobber_v2</td>\n",
       "      <td>297</td>\n",
       "      <td>0.000135</td>\n",
       "    </tr>\n",
       "    <tr>\n",
       "      <th>28</th>\n",
       "      <td>fobber_v1</td>\n",
       "      <td>294</td>\n",
       "      <td>0.000134</td>\n",
       "    </tr>\n",
       "    <tr>\n",
       "      <th>29</th>\n",
       "      <td>feodo</td>\n",
       "      <td>263</td>\n",
       "      <td>0.000120</td>\n",
       "    </tr>\n",
       "    <tr>\n",
       "      <th>30</th>\n",
       "      <td>tempedreve</td>\n",
       "      <td>200</td>\n",
       "      <td>0.000091</td>\n",
       "    </tr>\n",
       "    <tr>\n",
       "      <th>31</th>\n",
       "      <td>pykspa_v2_real</td>\n",
       "      <td>196</td>\n",
       "      <td>0.000089</td>\n",
       "    </tr>\n",
       "    <tr>\n",
       "      <th>32</th>\n",
       "      <td>padcrypt</td>\n",
       "      <td>168</td>\n",
       "      <td>0.000076</td>\n",
       "    </tr>\n",
       "    <tr>\n",
       "      <th>33</th>\n",
       "      <td>matsnu</td>\n",
       "      <td>128</td>\n",
       "      <td>0.000058</td>\n",
       "    </tr>\n",
       "    <tr>\n",
       "      <th>34</th>\n",
       "      <td>bamital</td>\n",
       "      <td>104</td>\n",
       "      <td>0.000047</td>\n",
       "    </tr>\n",
       "    <tr>\n",
       "      <th>35</th>\n",
       "      <td>proslikefan</td>\n",
       "      <td>100</td>\n",
       "      <td>0.000045</td>\n",
       "    </tr>\n",
       "    <tr>\n",
       "      <th>36</th>\n",
       "      <td>vidro</td>\n",
       "      <td>100</td>\n",
       "      <td>0.000045</td>\n",
       "    </tr>\n",
       "    <tr>\n",
       "      <th>37</th>\n",
       "      <td>gspy</td>\n",
       "      <td>98</td>\n",
       "      <td>0.000045</td>\n",
       "    </tr>\n",
       "    <tr>\n",
       "      <th>38</th>\n",
       "      <td>mydoom</td>\n",
       "      <td>45</td>\n",
       "      <td>0.000020</td>\n",
       "    </tr>\n",
       "    <tr>\n",
       "      <th>39</th>\n",
       "      <td>omexo</td>\n",
       "      <td>40</td>\n",
       "      <td>0.000018</td>\n",
       "    </tr>\n",
       "    <tr>\n",
       "      <th>40</th>\n",
       "      <td>tinynuke</td>\n",
       "      <td>32</td>\n",
       "      <td>0.000015</td>\n",
       "    </tr>\n",
       "    <tr>\n",
       "      <th>41</th>\n",
       "      <td>tofsee</td>\n",
       "      <td>20</td>\n",
       "      <td>0.000009</td>\n",
       "    </tr>\n",
       "  </tbody>\n",
       "</table>\n",
       "</div>"
      ],
      "text/plain": [
       "            family   number     ratio\n",
       "0            legit  1000000  0.454556\n",
       "1          banjori   452341  0.205614\n",
       "2           emotet   330562  0.150259\n",
       "3           rovnix   179935  0.081791\n",
       "4            tinba    72490  0.032951\n",
       "5        pykspa_v1    44278  0.020127\n",
       "6            simda    23731  0.010787\n",
       "7           ramnit    18935  0.008607\n",
       "8         gameover    11997  0.005453\n",
       "9          ranbyus    10903  0.004956\n",
       "10           virut     9714  0.004416\n",
       "11         murofet     8560  0.003891\n",
       "12          necurs     8182  0.003719\n",
       "13         shiotob     7968  0.003622\n",
       "14           symmi     4256  0.001935\n",
       "15           shifu     2541  0.001155\n",
       "16        suppobox     2100  0.000955\n",
       "17          qadars     2000  0.000909\n",
       "18           locky     1158  0.000526\n",
       "19    cryptolocker     1000  0.000455\n",
       "20            dyre     1000  0.000455\n",
       "21          chinad     1000  0.000455\n",
       "22  pykspa_v2_fake      800  0.000364\n",
       "23        dircrypt      758  0.000345\n",
       "24         vawtrak      746  0.000339\n",
       "25       conficker      486  0.000221\n",
       "26          nymaim      423  0.000192\n",
       "27       fobber_v2      297  0.000135\n",
       "28       fobber_v1      294  0.000134\n",
       "29           feodo      263  0.000120\n",
       "30      tempedreve      200  0.000091\n",
       "31  pykspa_v2_real      196  0.000089\n",
       "32        padcrypt      168  0.000076\n",
       "33          matsnu      128  0.000058\n",
       "34         bamital      104  0.000047\n",
       "35     proslikefan      100  0.000045\n",
       "36           vidro      100  0.000045\n",
       "37            gspy       98  0.000045\n",
       "38          mydoom       45  0.000020\n",
       "39           omexo       40  0.000018\n",
       "40        tinynuke       32  0.000015\n",
       "41          tofsee       20  0.000009"
      ]
     },
     "execution_count": 26,
     "metadata": {},
     "output_type": "execute_result"
    }
   ],
   "source": [
    "data_statis = pd.DataFrame()\n",
    "label_counts = data['label'].value_counts()\n",
    "data_statis['family'] = label_counts.index\n",
    "data_statis['number'] = label_counts.values\n",
    "data_statis['ratio'] = label_counts.values / np.sum(data_statis['number'])\n",
    "data_statis"
   ]
  },
  {
   "cell_type": "markdown",
   "metadata": {},
   "source": [
    "#### 训练与测试集划分"
   ]
  },
  {
   "cell_type": "markdown",
   "metadata": {},
   "source": [
    "采用分层采样的原则，将数据据划分为0.8 0.2"
   ]
  },
  {
   "cell_type": "code",
   "execution_count": 27,
   "metadata": {},
   "outputs": [
    {
     "data": {
      "text/plain": [
       "((1759959, 2), (439990, 2))"
      ]
     },
     "execution_count": 27,
     "metadata": {},
     "output_type": "execute_result"
    }
   ],
   "source": [
    "X_train, X_test = train_test_split(data, test_size=0.2, stratify=data['label'])\n",
    "X_train.shape, X_test.shape"
   ]
  },
  {
   "cell_type": "code",
   "execution_count": null,
   "metadata": {},
   "outputs": [],
   "source": []
  },
  {
   "cell_type": "markdown",
   "metadata": {},
   "source": [
    "# 3. 特征工程"
   ]
  },
  {
   "cell_type": "code",
   "execution_count": 30,
   "metadata": {},
   "outputs": [
    {
     "data": {
      "text/plain": [
       "((1759959, 49), (439990, 49))"
      ]
     },
     "execution_count": 30,
     "metadata": {},
     "output_type": "execute_result"
    }
   ],
   "source": [
    "# 加载已经处理好的特征文件\n",
    "train_features_filepath = 'data/dataset/train_numeric.csv'\n",
    "test_features_filepath = 'data/dataset/test_numeric.csv'\n",
    "train_features_df = pd.read_csv(train_features_filepath)\n",
    "test_features_df = pd.read_csv(test_features_filepath)\n",
    "train_features_df.shape, test_features_df.shape"
   ]
  },
  {
   "cell_type": "code",
   "execution_count": 31,
   "metadata": {},
   "outputs": [
    {
     "data": {
      "text/plain": [
       "Index(['domain', 'label', 'main_domain', 'tld', 'entropy', 'vowel_ratio',\n",
       "       'digit_ratio', 'repeat_letter_ratio', 'consecutive_digits_ratio',\n",
       "       'consecutive_consonant_ratio', 'gib', 'hmm_log', 'length', 'uni_ave',\n",
       "       'bi_ave', 'tri_ave', 'uni_std', 'bi_std', 'tri_std', 'tld_0', 'tld_1',\n",
       "       'tld_2', 'tld_3', 'tld_4', 'tld_5', 'tld_6', 'tld_7', 'tld_8', 'tld_9',\n",
       "       'tld_10', 'tld_11', 'tld_12', 'tld_13', 'tld_14', 'tld_15', 'tld_16',\n",
       "       'tld_17', 'tld_18', 'tld_19', 'tld_20', 'tld_21', 'tld_22', 'tld_23',\n",
       "       'tld_24', 'tld_25', 'tld_26', 'tld_27', 'tld_28', 'tld_29'],\n",
       "      dtype='object')"
      ]
     },
     "execution_count": 31,
     "metadata": {},
     "output_type": "execute_result"
    }
   ],
   "source": [
    "train_features_df.columns"
   ]
  },
  {
   "cell_type": "code",
   "execution_count": 32,
   "metadata": {},
   "outputs": [
    {
     "data": {
      "text/html": [
       "<div>\n",
       "<style>\n",
       "    .dataframe thead tr:only-child th {\n",
       "        text-align: right;\n",
       "    }\n",
       "\n",
       "    .dataframe thead th {\n",
       "        text-align: left;\n",
       "    }\n",
       "\n",
       "    .dataframe tbody tr th {\n",
       "        vertical-align: top;\n",
       "    }\n",
       "</style>\n",
       "<table border=\"1\" class=\"dataframe\">\n",
       "  <thead>\n",
       "    <tr style=\"text-align: right;\">\n",
       "      <th></th>\n",
       "      <th>domain</th>\n",
       "      <th>label</th>\n",
       "      <th>main_domain</th>\n",
       "      <th>tld</th>\n",
       "      <th>entropy</th>\n",
       "      <th>vowel_ratio</th>\n",
       "      <th>digit_ratio</th>\n",
       "      <th>repeat_letter_ratio</th>\n",
       "      <th>consecutive_digits_ratio</th>\n",
       "      <th>consecutive_consonant_ratio</th>\n",
       "      <th>...</th>\n",
       "      <th>tld_20</th>\n",
       "      <th>tld_21</th>\n",
       "      <th>tld_22</th>\n",
       "      <th>tld_23</th>\n",
       "      <th>tld_24</th>\n",
       "      <th>tld_25</th>\n",
       "      <th>tld_26</th>\n",
       "      <th>tld_27</th>\n",
       "      <th>tld_28</th>\n",
       "      <th>tld_29</th>\n",
       "    </tr>\n",
       "  </thead>\n",
       "  <tbody>\n",
       "    <tr>\n",
       "      <th>0</th>\n",
       "      <td>nlwpvkhlxitcjiej.eu</td>\n",
       "      <td>emotet</td>\n",
       "      <td>nlwpvkhlxitcjiej</td>\n",
       "      <td>eu</td>\n",
       "      <td>2.512659</td>\n",
       "      <td>0.187500</td>\n",
       "      <td>0.0</td>\n",
       "      <td>0.187500</td>\n",
       "      <td>0.0</td>\n",
       "      <td>0.750000</td>\n",
       "      <td>...</td>\n",
       "      <td>2.723791e-16</td>\n",
       "      <td>-1.435627e-15</td>\n",
       "      <td>1.227174e-15</td>\n",
       "      <td>1.064156e-14</td>\n",
       "      <td>-5.007343e-17</td>\n",
       "      <td>5.994943e-15</td>\n",
       "      <td>4.278799e-16</td>\n",
       "      <td>-3.721696e-16</td>\n",
       "      <td>-7.395807e-15</td>\n",
       "      <td>2.791984e-15</td>\n",
       "    </tr>\n",
       "    <tr>\n",
       "      <th>1</th>\n",
       "      <td>lifespa.com</td>\n",
       "      <td>legit</td>\n",
       "      <td>lifespa</td>\n",
       "      <td>com</td>\n",
       "      <td>1.945910</td>\n",
       "      <td>0.428571</td>\n",
       "      <td>0.0</td>\n",
       "      <td>0.000000</td>\n",
       "      <td>0.0</td>\n",
       "      <td>0.285714</td>\n",
       "      <td>...</td>\n",
       "      <td>-1.607818e-18</td>\n",
       "      <td>1.243457e-18</td>\n",
       "      <td>-1.974010e-18</td>\n",
       "      <td>-1.924975e-17</td>\n",
       "      <td>2.423300e-18</td>\n",
       "      <td>-1.436490e-17</td>\n",
       "      <td>3.957242e-18</td>\n",
       "      <td>3.718585e-18</td>\n",
       "      <td>-3.527445e-18</td>\n",
       "      <td>1.182715e-17</td>\n",
       "    </tr>\n",
       "    <tr>\n",
       "      <th>2</th>\n",
       "      <td>sedes.org.br</td>\n",
       "      <td>legit</td>\n",
       "      <td>sedes</td>\n",
       "      <td>org.br</td>\n",
       "      <td>1.054920</td>\n",
       "      <td>0.400000</td>\n",
       "      <td>0.0</td>\n",
       "      <td>0.400000</td>\n",
       "      <td>0.0</td>\n",
       "      <td>0.000000</td>\n",
       "      <td>...</td>\n",
       "      <td>-4.226024e-07</td>\n",
       "      <td>-3.377123e-06</td>\n",
       "      <td>-7.597923e-07</td>\n",
       "      <td>3.135754e-05</td>\n",
       "      <td>3.792294e-06</td>\n",
       "      <td>2.058674e-05</td>\n",
       "      <td>4.911968e-06</td>\n",
       "      <td>-2.102178e-05</td>\n",
       "      <td>-1.956920e-05</td>\n",
       "      <td>4.067783e-06</td>\n",
       "    </tr>\n",
       "    <tr>\n",
       "      <th>3</th>\n",
       "      <td>dbedestnessbiophysicalohax.com</td>\n",
       "      <td>banjori</td>\n",
       "      <td>dbedestnessbiophysicalohax</td>\n",
       "      <td>com</td>\n",
       "      <td>2.598143</td>\n",
       "      <td>0.346154</td>\n",
       "      <td>0.0</td>\n",
       "      <td>0.307692</td>\n",
       "      <td>0.0</td>\n",
       "      <td>0.461538</td>\n",
       "      <td>...</td>\n",
       "      <td>-1.607818e-18</td>\n",
       "      <td>1.243457e-18</td>\n",
       "      <td>-1.974010e-18</td>\n",
       "      <td>-1.924975e-17</td>\n",
       "      <td>2.423300e-18</td>\n",
       "      <td>-1.436490e-17</td>\n",
       "      <td>3.957242e-18</td>\n",
       "      <td>3.718585e-18</td>\n",
       "      <td>-3.527445e-18</td>\n",
       "      <td>1.182715e-17</td>\n",
       "    </tr>\n",
       "    <tr>\n",
       "      <th>4</th>\n",
       "      <td>fnnvanerraticallyqozaw.com</td>\n",
       "      <td>banjori</td>\n",
       "      <td>fnnvanerraticallyqozaw</td>\n",
       "      <td>com</td>\n",
       "      <td>2.563151</td>\n",
       "      <td>0.318182</td>\n",
       "      <td>0.0</td>\n",
       "      <td>0.181818</td>\n",
       "      <td>0.0</td>\n",
       "      <td>0.454545</td>\n",
       "      <td>...</td>\n",
       "      <td>-1.607818e-18</td>\n",
       "      <td>1.243457e-18</td>\n",
       "      <td>-1.974010e-18</td>\n",
       "      <td>-1.924975e-17</td>\n",
       "      <td>2.423300e-18</td>\n",
       "      <td>-1.436490e-17</td>\n",
       "      <td>3.957242e-18</td>\n",
       "      <td>3.718585e-18</td>\n",
       "      <td>-3.527445e-18</td>\n",
       "      <td>1.182715e-17</td>\n",
       "    </tr>\n",
       "  </tbody>\n",
       "</table>\n",
       "<p>5 rows × 49 columns</p>\n",
       "</div>"
      ],
      "text/plain": [
       "                           domain    label                 main_domain  \\\n",
       "0             nlwpvkhlxitcjiej.eu   emotet            nlwpvkhlxitcjiej   \n",
       "1                     lifespa.com    legit                     lifespa   \n",
       "2                    sedes.org.br    legit                       sedes   \n",
       "3  dbedestnessbiophysicalohax.com  banjori  dbedestnessbiophysicalohax   \n",
       "4      fnnvanerraticallyqozaw.com  banjori      fnnvanerraticallyqozaw   \n",
       "\n",
       "      tld   entropy  vowel_ratio  digit_ratio  repeat_letter_ratio  \\\n",
       "0      eu  2.512659     0.187500          0.0             0.187500   \n",
       "1     com  1.945910     0.428571          0.0             0.000000   \n",
       "2  org.br  1.054920     0.400000          0.0             0.400000   \n",
       "3     com  2.598143     0.346154          0.0             0.307692   \n",
       "4     com  2.563151     0.318182          0.0             0.181818   \n",
       "\n",
       "   consecutive_digits_ratio  consecutive_consonant_ratio      ...       \\\n",
       "0                       0.0                     0.750000      ...        \n",
       "1                       0.0                     0.285714      ...        \n",
       "2                       0.0                     0.000000      ...        \n",
       "3                       0.0                     0.461538      ...        \n",
       "4                       0.0                     0.454545      ...        \n",
       "\n",
       "         tld_20        tld_21        tld_22        tld_23        tld_24  \\\n",
       "0  2.723791e-16 -1.435627e-15  1.227174e-15  1.064156e-14 -5.007343e-17   \n",
       "1 -1.607818e-18  1.243457e-18 -1.974010e-18 -1.924975e-17  2.423300e-18   \n",
       "2 -4.226024e-07 -3.377123e-06 -7.597923e-07  3.135754e-05  3.792294e-06   \n",
       "3 -1.607818e-18  1.243457e-18 -1.974010e-18 -1.924975e-17  2.423300e-18   \n",
       "4 -1.607818e-18  1.243457e-18 -1.974010e-18 -1.924975e-17  2.423300e-18   \n",
       "\n",
       "         tld_25        tld_26        tld_27        tld_28        tld_29  \n",
       "0  5.994943e-15  4.278799e-16 -3.721696e-16 -7.395807e-15  2.791984e-15  \n",
       "1 -1.436490e-17  3.957242e-18  3.718585e-18 -3.527445e-18  1.182715e-17  \n",
       "2  2.058674e-05  4.911968e-06 -2.102178e-05 -1.956920e-05  4.067783e-06  \n",
       "3 -1.436490e-17  3.957242e-18  3.718585e-18 -3.527445e-18  1.182715e-17  \n",
       "4 -1.436490e-17  3.957242e-18  3.718585e-18 -3.527445e-18  1.182715e-17  \n",
       "\n",
       "[5 rows x 49 columns]"
      ]
     },
     "execution_count": 32,
     "metadata": {},
     "output_type": "execute_result"
    }
   ],
   "source": [
    "train_features_df.head()"
   ]
  },
  {
   "cell_type": "markdown",
   "metadata": {},
   "source": [
    "### 基本特征 - 随机性和熵"
   ]
  },
  {
   "cell_type": "markdown",
   "metadata": {},
   "source": [
    "#### 香农熵分布"
   ]
  },
  {
   "cell_type": "code",
   "execution_count": 33,
   "metadata": {},
   "outputs": [
    {
     "name": "stderr",
     "output_type": "stream",
     "text": [
      "/home/lili/anaconda3/envs/dga_env/lib/python3.6/site-packages/matplotlib/axes/_axes.py:6462: UserWarning: The 'normed' kwarg is deprecated, and has been replaced by the 'density' kwarg.\n",
      "  warnings.warn(\"The 'normed' kwarg is deprecated, and has been \"\n"
     ]
    },
    {
     "data": {
      "text/plain": [
       "<matplotlib.axes._subplots.AxesSubplot at 0x7fd5a2dad2e8>"
      ]
     },
     "execution_count": 33,
     "metadata": {},
     "output_type": "execute_result"
    },
    {
     "data": {
      "image/png": "[encoded data removed]",
      "text/plain": [
       "<Figure size 432x288 with 1 Axes>"
      ]
     },
     "metadata": {},
     "output_type": "display_data"
    }
   ],
   "source": [
    "sns.distplot(train_features_df.loc[train_features_df['label']=='legit']['entropy'])\n",
    "sns.distplot(train_features_df.loc[train_features_df['label']!='legit']['entropy'])"
   ]
  },
  {
   "cell_type": "code",
   "execution_count": 317,
   "metadata": {},
   "outputs": [
    {
     "data": {
      "text/plain": [
       "<matplotlib.axes._subplots.AxesSubplot at 0x7fce6808d780>"
      ]
     },
     "execution_count": 317,
     "metadata": {},
     "output_type": "execute_result"
    },
    {
     "data": {
      "image/png": "[encoded data removed]",
      "text/plain": [
       "<Figure size 576x288 with 1 Axes>"
      ]
     },
     "metadata": {},
     "output_type": "display_data"
    }
   ],
   "source": [
    "entropy_mean = train_features_df.groupby(['label']).apply(lambda x: x['entropy'].mean()).sort_values()\n",
    "f,ax=plt.subplots(1,1,figsize=(8,4))\n",
    "ax.set_xticklabels(ax.get_xticklabels(), rotation=-90)\n",
    "sns.barplot(x=entropy_mean.index, y=entropy_mean)"
   ]
  },
  {
   "cell_type": "code",
   "execution_count": null,
   "metadata": {},
   "outputs": [],
   "source": []
  },
  {
   "cell_type": "markdown",
   "metadata": {},
   "source": [
    "### 高级特征"
   ]
  },
  {
   "cell_type": "markdown",
   "metadata": {},
   "source": [
    "#### 合法域名一般比较好念出来，C&C域名不好念"
   ]
  },
  {
   "cell_type": "markdown",
   "metadata": {},
   "source": [
    "##### 元音字母比重"
   ]
  },
  {
   "cell_type": "code",
   "execution_count": 35,
   "metadata": {},
   "outputs": [
    {
     "name": "stderr",
     "output_type": "stream",
     "text": [
      "/home/lili/anaconda3/envs/dga_env/lib/python3.6/site-packages/matplotlib/axes/_axes.py:6462: UserWarning: The 'normed' kwarg is deprecated, and has been replaced by the 'density' kwarg.\n",
      "  warnings.warn(\"The 'normed' kwarg is deprecated, and has been \"\n"
     ]
    },
    {
     "data": {
      "text/plain": [
       "<matplotlib.axes._subplots.AxesSubplot at 0x7fd5998e0a90>"
      ]
     },
     "execution_count": 35,
     "metadata": {},
     "output_type": "execute_result"
    },
    {
     "data": {
      "image/png": "[encoded data removed]",
      "text/plain": [
       "<Figure size 432x288 with 1 Axes>"
      ]
     },
     "metadata": {},
     "output_type": "display_data"
    }
   ],
   "source": [
    "sns.distplot(train_features_df.loc[train_features_df['label']=='legit']['vowel_ratio'])\n",
    "sns.distplot(train_features_df.loc[train_features_df['label']!='legit']['vowel_ratio'])"
   ]
  },
  {
   "cell_type": "code",
   "execution_count": 316,
   "metadata": {},
   "outputs": [
    {
     "data": {
      "text/plain": [
       "<matplotlib.axes._subplots.AxesSubplot at 0x7fce6811d0f0>"
      ]
     },
     "execution_count": 316,
     "metadata": {},
     "output_type": "execute_result"
    },
    {
     "data": {
      "image/png": "[encoded data removed]",
      "text/plain": [
       "<Figure size 576x288 with 1 Axes>"
      ]
     },
     "metadata": {},
     "output_type": "display_data"
    }
   ],
   "source": [
    "vowel_ratio_mean = train_features_df.groupby(['label']).apply(lambda x: x['vowel_ratio'].mean()).sort_values()\n",
    "f,ax=plt.subplots(1,1,figsize=(8,4))\n",
    "ax.set_xticklabels(ax.get_xticklabels(), rotation=-90)\n",
    "sns.barplot(x=vowel_ratio_mean.index, y=vowel_ratio_mean)"
   ]
  },
  {
   "cell_type": "markdown",
   "metadata": {},
   "source": [
    "##### gibberish"
   ]
  },
  {
   "cell_type": "code",
   "execution_count": 319,
   "metadata": {},
   "outputs": [
    {
     "data": {
      "text/plain": [
       "<matplotlib.axes._subplots.AxesSubplot at 0x7fce67d986a0>"
      ]
     },
     "execution_count": 319,
     "metadata": {},
     "output_type": "execute_result"
    },
    {
     "data": {
      "image/png": "[encoded data removed]",
      "text/plain": [
       "<Figure size 720x288 with 1 Axes>"
      ]
     },
     "metadata": {},
     "output_type": "display_data"
    }
   ],
   "source": [
    "f,ax=plt.subplots(1,1,figsize=(10,4))\n",
    "sns.distplot(train_features_df.loc[train_features_df['label']=='legit']['gib'])\n",
    "sns.distplot(train_features_df.loc[train_features_df['label']!='legit']['gib'])"
   ]
  },
  {
   "cell_type": "code",
   "execution_count": 315,
   "metadata": {},
   "outputs": [
    {
     "data": {
      "text/plain": [
       "<matplotlib.axes._subplots.AxesSubplot at 0x7fce682d82e8>"
      ]
     },
     "execution_count": 315,
     "metadata": {},
     "output_type": "execute_result"
    },
    {
     "data": {
      "image/png": "[encoded data removed]",
      "text/plain": [
       "<Figure size 576x288 with 1 Axes>"
      ]
     },
     "metadata": {},
     "output_type": "display_data"
    }
   ],
   "source": [
    "gib_mean = train_features_df.groupby(['label']).apply(lambda x: x['gib'].mean()).sort_values()\n",
    "f,ax=plt.subplots(1,1,figsize=(8,4))\n",
    "ax.set_xticklabels(ax.get_xticklabels(), rotation=-90)\n",
    "sns.barplot(x=gib_mean.index, y=gib_mean)"
   ]
  },
  {
   "cell_type": "code",
   "execution_count": null,
   "metadata": {},
   "outputs": [],
   "source": []
  },
  {
   "cell_type": "markdown",
   "metadata": {},
   "source": [
    "#### 连续vs分散"
   ]
  },
  {
   "cell_type": "markdown",
   "metadata": {},
   "source": [
    "##### 数字字母占比"
   ]
  },
  {
   "cell_type": "code",
   "execution_count": 320,
   "metadata": {},
   "outputs": [
    {
     "data": {
      "text/plain": [
       "<matplotlib.axes._subplots.AxesSubplot at 0x7fce67c5deb8>"
      ]
     },
     "execution_count": 320,
     "metadata": {},
     "output_type": "execute_result"
    },
    {
     "data": {
      "image/png": "[encoded data removed]",
      "text/plain": [
       "<Figure size 576x288 with 1 Axes>"
      ]
     },
     "metadata": {},
     "output_type": "display_data"
    }
   ],
   "source": [
    "f,ax=plt.subplots(1,1,figsize=(8,4))\n",
    "sns.distplot(train_features_df.loc[train_features_df['label']=='legit']['digit_ratio'])\n",
    "sns.distplot(train_features_df.loc[train_features_df['label']!='legit']['digit_ratio'])"
   ]
  },
  {
   "cell_type": "markdown",
   "metadata": {},
   "source": [
    "##### 重复字母占比"
   ]
  },
  {
   "cell_type": "code",
   "execution_count": 321,
   "metadata": {},
   "outputs": [
    {
     "data": {
      "text/plain": [
       "<matplotlib.axes._subplots.AxesSubplot at 0x7fce67b3e9e8>"
      ]
     },
     "execution_count": 321,
     "metadata": {},
     "output_type": "execute_result"
    },
    {
     "data": {
      "image/png": "[encoded data removed]",
      "text/plain": [
       "<Figure size 576x288 with 1 Axes>"
      ]
     },
     "metadata": {},
     "output_type": "display_data"
    }
   ],
   "source": [
    "f,ax=plt.subplots(1,1,figsize=(8,4))\n",
    "sns.distplot(train_features_df.loc[train_features_df['label']=='legit']['repeat_letter_ratio'])\n",
    "sns.distplot(train_features_df.loc[train_features_df['label']!='legit']['repeat_letter_ratio'])"
   ]
  },
  {
   "cell_type": "markdown",
   "metadata": {},
   "source": [
    "##### 连续数字占比"
   ]
  },
  {
   "cell_type": "code",
   "execution_count": 322,
   "metadata": {},
   "outputs": [
    {
     "data": {
      "text/plain": [
       "<matplotlib.axes._subplots.AxesSubplot at 0x7fce679f1c18>"
      ]
     },
     "execution_count": 322,
     "metadata": {},
     "output_type": "execute_result"
    },
    {
     "data": {
      "image/png": "[encoded data removed]",
      "text/plain": [
       "<Figure size 576x288 with 1 Axes>"
      ]
     },
     "metadata": {},
     "output_type": "display_data"
    }
   ],
   "source": [
    "f,ax=plt.subplots(1,1,figsize=(8,4))\n",
    "sns.distplot(train_features_df.loc[train_features_df['label']=='legit']['consecutive_digits_ratio'])\n",
    "sns.distplot(train_features_df.loc[train_features_df['label']!='legit']['consecutive_digits_ratio'])"
   ]
  },
  {
   "cell_type": "markdown",
   "metadata": {},
   "source": [
    "##### 连续辅音占比"
   ]
  },
  {
   "cell_type": "code",
   "execution_count": 323,
   "metadata": {},
   "outputs": [
    {
     "data": {
      "text/plain": [
       "<matplotlib.axes._subplots.AxesSubplot at 0x7fce678b80f0>"
      ]
     },
     "execution_count": 323,
     "metadata": {},
     "output_type": "execute_result"
    },
    {
     "data": {
      "image/png": "[encoded data removed]",
      "text/plain": [
       "<Figure size 576x288 with 1 Axes>"
      ]
     },
     "metadata": {},
     "output_type": "display_data"
    }
   ],
   "source": [
    "f,ax=plt.subplots(1,1,figsize=(8,4))\n",
    "sns.distplot(train_features_df.loc[train_features_df['label']=='legit']['consecutive_consonant_ratio'])\n",
    "sns.distplot(train_features_df.loc[train_features_df['label']!='legit']['consecutive_consonant_ratio'])"
   ]
  },
  {
   "cell_type": "markdown",
   "metadata": {},
   "source": [
    "#### n-gram平均排名"
   ]
  },
  {
   "cell_type": "markdown",
   "metadata": {},
   "source": [
    "##### uni-ave、uni-std"
   ]
  },
  {
   "cell_type": "code",
   "execution_count": 324,
   "metadata": {},
   "outputs": [
    {
     "data": {
      "text/plain": [
       "<matplotlib.axes._subplots.AxesSubplot at 0x7fce6777f400>"
      ]
     },
     "execution_count": 324,
     "metadata": {},
     "output_type": "execute_result"
    },
    {
     "data": {
      "image/png": "[encoded data removed]",
      "text/plain": [
       "<Figure size 576x288 with 1 Axes>"
      ]
     },
     "metadata": {},
     "output_type": "display_data"
    }
   ],
   "source": [
    "f,ax=plt.subplots(1,1,figsize=(8,4))\n",
    "sns.distplot(train_features_df.loc[train_features_df['label']=='legit']['uni_ave'])\n",
    "sns.distplot(train_features_df.loc[train_features_df['label']!='legit']['uni_ave'])"
   ]
  },
  {
   "cell_type": "code",
   "execution_count": 325,
   "metadata": {},
   "outputs": [
    {
     "data": {
      "text/plain": [
       "<matplotlib.axes._subplots.AxesSubplot at 0x7fce6763b4a8>"
      ]
     },
     "execution_count": 325,
     "metadata": {},
     "output_type": "execute_result"
    },
    {
     "data": {
      "image/png": "[encoded data removed]",
      "text/plain": [
       "<Figure size 576x288 with 1 Axes>"
      ]
     },
     "metadata": {},
     "output_type": "display_data"
    }
   ],
   "source": [
    "f,ax=plt.subplots(1,1,figsize=(8,4))\n",
    "sns.distplot(train_features_df.loc[train_features_df['label']=='legit']['uni_std'])\n",
    "sns.distplot(train_features_df.loc[train_features_df['label']!='legit']['uni_std'])"
   ]
  },
  {
   "cell_type": "markdown",
   "metadata": {},
   "source": [
    "##### bi-ave、uni-std"
   ]
  },
  {
   "cell_type": "code",
   "execution_count": 326,
   "metadata": {},
   "outputs": [
    {
     "data": {
      "text/plain": [
       "<matplotlib.axes._subplots.AxesSubplot at 0x7fce674852b0>"
      ]
     },
     "execution_count": 326,
     "metadata": {},
     "output_type": "execute_result"
    },
    {
     "data": {
      "image/png": "[encoded data removed]",
      "text/plain": [
       "<Figure size 576x288 with 1 Axes>"
      ]
     },
     "metadata": {},
     "output_type": "display_data"
    }
   ],
   "source": [
    "f,ax=plt.subplots(1,1,figsize=(8,4))\n",
    "sns.distplot(train_features_df.loc[train_features_df['label']=='legit']['bi_ave'])\n",
    "sns.distplot(train_features_df.loc[train_features_df['label']!='legit']['bi_ave'])"
   ]
  },
  {
   "cell_type": "code",
   "execution_count": 327,
   "metadata": {},
   "outputs": [
    {
     "data": {
      "text/plain": [
       "<matplotlib.axes._subplots.AxesSubplot at 0x7fce6734a668>"
      ]
     },
     "execution_count": 327,
     "metadata": {},
     "output_type": "execute_result"
    },
    {
     "data": {
      "image/png": "[encoded data removed]",
      "text/plain": [
       "<Figure size 576x288 with 1 Axes>"
      ]
     },
     "metadata": {},
     "output_type": "display_data"
    }
   ],
   "source": [
    "f,ax=plt.subplots(1,1,figsize=(8,4))\n",
    "sns.distplot(train_features_df.loc[train_features_df['label']=='legit']['bi_std'])\n",
    "sns.distplot(train_features_df.loc[train_features_df['label']!='legit']['bi_std'])"
   ]
  },
  {
   "cell_type": "markdown",
   "metadata": {},
   "source": [
    "##### tri-ave、tri-std"
   ]
  },
  {
   "cell_type": "code",
   "execution_count": 328,
   "metadata": {},
   "outputs": [
    {
     "data": {
      "text/plain": [
       "<matplotlib.axes._subplots.AxesSubplot at 0x7fce67273d30>"
      ]
     },
     "execution_count": 328,
     "metadata": {},
     "output_type": "execute_result"
    },
    {
     "data": {
      "image/png": "[encoded data removed]",
      "text/plain": [
       "<Figure size 576x288 with 1 Axes>"
      ]
     },
     "metadata": {},
     "output_type": "display_data"
    }
   ],
   "source": [
    "f,ax=plt.subplots(1,1,figsize=(8,4))\n",
    "sns.distplot(train_features_df.loc[train_features_df['label']=='legit']['tri_ave'])\n",
    "sns.distplot(train_features_df.loc[train_features_df['label']!='legit']['tri_ave'])"
   ]
  },
  {
   "cell_type": "code",
   "execution_count": 329,
   "metadata": {},
   "outputs": [
    {
     "data": {
      "text/plain": [
       "<matplotlib.axes._subplots.AxesSubplot at 0x7fce670ea630>"
      ]
     },
     "execution_count": 329,
     "metadata": {},
     "output_type": "execute_result"
    },
    {
     "data": {
      "image/png": "[encoded data removed]",
      "text/plain": [
       "<Figure size 576x288 with 1 Axes>"
      ]
     },
     "metadata": {},
     "output_type": "display_data"
    }
   ],
   "source": [
    "f,ax=plt.subplots(1,1,figsize=(8,4))\n",
    "sns.distplot(train_features_df.loc[train_features_df['label']=='legit']['tri_std'])\n",
    "sns.distplot(train_features_df.loc[train_features_df['label']!='legit']['tri_std'])"
   ]
  },
  {
   "cell_type": "markdown",
   "metadata": {},
   "source": [
    "#### HMM概率"
   ]
  },
  {
   "cell_type": "code",
   "execution_count": 330,
   "metadata": {},
   "outputs": [
    {
     "data": {
      "text/plain": [
       "<matplotlib.axes._subplots.AxesSubplot at 0x7fce29a9fd68>"
      ]
     },
     "execution_count": 330,
     "metadata": {},
     "output_type": "execute_result"
    },
    {
     "data": {
      "image/png": "[encoded data removed]",
      "text/plain": [
       "<Figure size 576x288 with 1 Axes>"
      ]
     },
     "metadata": {},
     "output_type": "display_data"
    }
   ],
   "source": [
    "f,ax=plt.subplots(1,1,figsize=(8,4))\n",
    "sns.distplot(train_features_df.loc[train_features_df['label']=='legit']['hmm_log'])\n",
    "sns.distplot(train_features_df.loc[train_features_df['label']!='legit']['hmm_log'])"
   ]
  },
  {
   "cell_type": "markdown",
   "metadata": {},
   "source": [
    "### 领域特征"
   ]
  },
  {
   "cell_type": "markdown",
   "metadata": {},
   "source": [
    "#### ccTLD特征"
   ]
  },
  {
   "cell_type": "markdown",
   "metadata": {},
   "source": [
    "我们知道多数情况下.com的域名申请又贵又要审核，所以现在很多C&C不会选择.com，反而会选一些审核不严的比如.biz .info .ru .ws以及最近爆发的.xyz之类的ccTLD都是C&C重灾区。中国的白帽专家也可能知道.cn现在申请都得备案，所以C&C也不太可能用.cn的根域名当作C&C。值得提醒的是，这些情况并非100%确定，比如C&C可能找到一个cn域名的下级域名当C&C而主域名已备案，这些需要机器综合考虑其他特征来判断。"
   ]
  },
  {
   "cell_type": "code",
   "execution_count": 63,
   "metadata": {},
   "outputs": [
    {
     "data": {
      "text/html": [
       "<div>\n",
       "<style>\n",
       "    .dataframe thead tr:only-child th {\n",
       "        text-align: right;\n",
       "    }\n",
       "\n",
       "    .dataframe thead th {\n",
       "        text-align: left;\n",
       "    }\n",
       "\n",
       "    .dataframe tbody tr th {\n",
       "        vertical-align: top;\n",
       "    }\n",
       "</style>\n",
       "<table border=\"1\" class=\"dataframe\">\n",
       "  <thead>\n",
       "    <tr style=\"text-align: right;\">\n",
       "      <th></th>\n",
       "      <th>legit</th>\n",
       "      <th>dga</th>\n",
       "      <th>legit_ratio</th>\n",
       "      <th>dga_ratio</th>\n",
       "    </tr>\n",
       "  </thead>\n",
       "  <tbody>\n",
       "    <tr>\n",
       "      <th>com</th>\n",
       "      <td>375750</td>\n",
       "      <td>458675.0</td>\n",
       "      <td>0.469687</td>\n",
       "      <td>0.477920</td>\n",
       "    </tr>\n",
       "    <tr>\n",
       "      <th>org</th>\n",
       "      <td>39527</td>\n",
       "      <td>10786.0</td>\n",
       "      <td>0.049409</td>\n",
       "      <td>0.011239</td>\n",
       "    </tr>\n",
       "    <tr>\n",
       "      <th>net</th>\n",
       "      <td>33656</td>\n",
       "      <td>57059.0</td>\n",
       "      <td>0.042070</td>\n",
       "      <td>0.059453</td>\n",
       "    </tr>\n",
       "    <tr>\n",
       "      <th>ru</th>\n",
       "      <td>33606</td>\n",
       "      <td>38192.0</td>\n",
       "      <td>0.042008</td>\n",
       "      <td>0.039794</td>\n",
       "    </tr>\n",
       "    <tr>\n",
       "      <th>de</th>\n",
       "      <td>32594</td>\n",
       "      <td>146.0</td>\n",
       "      <td>0.040743</td>\n",
       "      <td>0.000152</td>\n",
       "    </tr>\n",
       "    <tr>\n",
       "      <th>co.uk</th>\n",
       "      <td>15822</td>\n",
       "      <td>120.0</td>\n",
       "      <td>0.019777</td>\n",
       "      <td>0.000125</td>\n",
       "    </tr>\n",
       "    <tr>\n",
       "      <th>it</th>\n",
       "      <td>12102</td>\n",
       "      <td>4.0</td>\n",
       "      <td>0.015128</td>\n",
       "      <td>0.000004</td>\n",
       "    </tr>\n",
       "    <tr>\n",
       "      <th>com.br</th>\n",
       "      <td>11964</td>\n",
       "      <td>NaN</td>\n",
       "      <td>0.014955</td>\n",
       "      <td>NaN</td>\n",
       "    </tr>\n",
       "    <tr>\n",
       "      <th>ir</th>\n",
       "      <td>11903</td>\n",
       "      <td>167.0</td>\n",
       "      <td>0.014879</td>\n",
       "      <td>0.000174</td>\n",
       "    </tr>\n",
       "    <tr>\n",
       "      <th>fr</th>\n",
       "      <td>10340</td>\n",
       "      <td>4.0</td>\n",
       "      <td>0.012925</td>\n",
       "      <td>0.000004</td>\n",
       "    </tr>\n",
       "  </tbody>\n",
       "</table>\n",
       "</div>"
      ],
      "text/plain": [
       "         legit       dga  legit_ratio  dga_ratio\n",
       "com     375750  458675.0     0.469687   0.477920\n",
       "org      39527   10786.0     0.049409   0.011239\n",
       "net      33656   57059.0     0.042070   0.059453\n",
       "ru       33606   38192.0     0.042008   0.039794\n",
       "de       32594     146.0     0.040743   0.000152\n",
       "co.uk    15822     120.0     0.019777   0.000125\n",
       "it       12102       4.0     0.015128   0.000004\n",
       "com.br   11964       NaN     0.014955        NaN\n",
       "ir       11903     167.0     0.014879   0.000174\n",
       "fr       10340       4.0     0.012925   0.000004"
      ]
     },
     "execution_count": 63,
     "metadata": {},
     "output_type": "execute_result"
    }
   ],
   "source": [
    "tld_df = pd.DataFrame()\n",
    "legit_tld = train_features_df.loc[train_features_df['label']=='legit']['tld'].value_counts()\n",
    "dga_tld = train_features_df.loc[train_features_df['label']!='legit']['tld'].value_counts()\n",
    "tld_df['legit'] = legit_tld\n",
    "tld_df['legit_ratio'] = tld_df['legit'] / np.sum(tld_df['legit'])\n",
    "tld_df['dga'] = dga_tld\n",
    "tld_df['dga_ratio'] = tld_df['dga'] / np.sum(tld_df['dga'])\n",
    "tld_df.head(10)"
   ]
  },
  {
   "cell_type": "markdown",
   "metadata": {},
   "source": [
    "#### 域名长度"
   ]
  },
  {
   "cell_type": "code",
   "execution_count": 56,
   "metadata": {},
   "outputs": [
    {
     "name": "stderr",
     "output_type": "stream",
     "text": [
      "/home/lili/anaconda3/envs/dga_env/lib/python3.6/site-packages/matplotlib/axes/_axes.py:6462: UserWarning: The 'normed' kwarg is deprecated, and has been replaced by the 'density' kwarg.\n",
      "  warnings.warn(\"The 'normed' kwarg is deprecated, and has been \"\n"
     ]
    },
    {
     "data": {
      "text/plain": [
       "<matplotlib.axes._subplots.AxesSubplot at 0x7fd5da928d68>"
      ]
     },
     "execution_count": 56,
     "metadata": {},
     "output_type": "execute_result"
    },
    {
     "data": {
      "image/png": "[encoded data removed]",
      "text/plain": [
       "<Figure size 1152x288 with 1 Axes>"
      ]
     },
     "metadata": {},
     "output_type": "display_data"
    }
   ],
   "source": [
    "f,ax=plt.subplots(1,1,figsize=(16,4))\n",
    "sns.distplot(train_features_df.loc[train_features_df['label']=='legit']['length'])\n",
    "sns.distplot(train_features_df.loc[train_features_df['label']!='legit']['length'])"
   ]
  },
  {
   "cell_type": "code",
   "execution_count": null,
   "metadata": {},
   "outputs": [],
   "source": []
  },
  {
   "cell_type": "markdown",
   "metadata": {},
   "source": [
    "# 4. 模型验证"
   ]
  },
  {
   "cell_type": "markdown",
   "metadata": {},
   "source": [
    "## 0. 数据处理"
   ]
  },
  {
   "cell_type": "code",
   "execution_count": 66,
   "metadata": {},
   "outputs": [],
   "source": [
    "useful_features_name = ['entropy', 'vowel_ratio',\n",
    "       'digit_ratio', 'repeat_letter_ratio', 'consecutive_digits_ratio',\n",
    "       'consecutive_consonant_ratio', 'gib', 'hmm_log', 'length', 'uni_ave',\n",
    "       'bi_ave', 'tri_ave', 'uni_std', 'bi_std', 'tri_std', 'tld_0', 'tld_1',\n",
    "       'tld_2', 'tld_3', 'tld_4', 'tld_5', 'tld_6', 'tld_7', 'tld_8', 'tld_9',\n",
    "       'tld_10', 'tld_11', 'tld_12', 'tld_13', 'tld_14', 'tld_15', 'tld_16',\n",
    "       'tld_17', 'tld_18', 'tld_19', 'tld_20', 'tld_21', 'tld_22', 'tld_23',\n",
    "       'tld_24', 'tld_25', 'tld_26', 'tld_27', 'tld_28', 'tld_29']\n",
    "label = ['label']"
   ]
  },
  {
   "cell_type": "code",
   "execution_count": 67,
   "metadata": {},
   "outputs": [
    {
     "data": {
      "text/plain": [
       "((1759959, 45), (1759959,), (439990, 45), (439990,))"
      ]
     },
     "execution_count": 67,
     "metadata": {},
     "output_type": "execute_result"
    }
   ],
   "source": [
    "X_train = train_features_df[useful_features_name]\n",
    "y_train = train_features_df['label'].map(lambda x: 1 if x != 'legit' else 0)\n",
    "X_test = test_features_df[useful_features_name]\n",
    "y_test = test_features_df['label'].map(lambda x: 1 if x != 'legit' else 0)\n",
    "X_train.shape, y_train.shape, X_test.shape, y_test.shape"
   ]
  },
  {
   "cell_type": "code",
   "execution_count": 287,
   "metadata": {},
   "outputs": [
    {
     "data": {
      "text/plain": [
       "((1759959,), (439990,), 42, (1759959, 42), (439990, 42))"
      ]
     },
     "execution_count": 287,
     "metadata": {},
     "output_type": "execute_result"
    }
   ],
   "source": [
    "classes_ = train_features_df['label'].unique()\n",
    "family_dict = {classes_[idx]:idx for idx in range(classes_.shape[0])}\n",
    "y_train_mul = train_features_df['label'].map(family_dict)  # label encoder\n",
    "y_test_mul = test_features_df['label'].map(family_dict)\n",
    "y_train_multi = np_utils.to_categorical(y_train_mul)  # one-hot encoder\n",
    "y_test_multi = np_utils.to_categorical(y_test_mul)\n",
    "y_train_mul.shape, y_test_mul.shape, len(family_dict), y_train_multi.shape, y_test_multi.shape"
   ]
  },
  {
   "cell_type": "code",
   "execution_count": null,
   "metadata": {},
   "outputs": [],
   "source": []
  },
  {
   "cell_type": "markdown",
   "metadata": {},
   "source": [
    "### 数字特征"
   ]
  },
  {
   "cell_type": "markdown",
   "metadata": {},
   "source": [
    "#### 归一化"
   ]
  },
  {
   "cell_type": "code",
   "execution_count": 70,
   "metadata": {},
   "outputs": [
    {
     "data": {
      "text/plain": [
       "((1759959, 45), (439990, 45))"
      ]
     },
     "execution_count": 70,
     "metadata": {},
     "output_type": "execute_result"
    }
   ],
   "source": [
    "min_max_scaler = MinMaxScaler().fit(X_train.values)\n",
    "X_train_min_max_scaler = min_max_scaler.transform(X_train.values)\n",
    "X_test_min_max_scaler = min_max_scaler.transform(X_test.values)\n",
    "X_train_min_max_scaler.shape, X_test_min_max_scaler.shape"
   ]
  },
  {
   "cell_type": "markdown",
   "metadata": {},
   "source": [
    "#### 选取部分数据训练与测试"
   ]
  },
  {
   "cell_type": "code",
   "execution_count": 72,
   "metadata": {},
   "outputs": [
    {
     "data": {
      "text/plain": [
       "((100000, 45), (100000,), (20000, 45), (20000,))"
      ]
     },
     "execution_count": 72,
     "metadata": {},
     "output_type": "execute_result"
    }
   ],
   "source": [
    "train_size, test_size = 100000, 20000\n",
    "X_train_10w = X_train_min_max_scaler[:train_size]\n",
    "y_train_10w = y_train.values[:train_size]\n",
    "X_test_10w = X_test_min_max_scaler[:test_size]\n",
    "y_test_10w = y_test.values[:test_size]\n",
    "X_train_10w.shape, y_train_10w.shape, X_test_10w.shape, y_test_10w.shape"
   ]
  },
  {
   "cell_type": "code",
   "execution_count": 290,
   "metadata": {},
   "outputs": [
    {
     "data": {
      "text/plain": [
       "((100000,), (20000,), (1759959, 42), (439990, 42))"
      ]
     },
     "execution_count": 290,
     "metadata": {},
     "output_type": "execute_result"
    }
   ],
   "source": [
    "y_train_mul_10w = y_train_mul.values[:train_size]\n",
    "y_test_mul_10w = y_test_mul.values[:test_size]\n",
    "y_train_multi_10w = y_train_multi[:train_size]\n",
    "y_test_multi_10w = y_test_multi[:test_size]\n",
    "y_train_mul_10w.shape, y_test_mul_10w.shape, y_train_multi.shape, y_test_multi.shape"
   ]
  },
  {
   "cell_type": "code",
   "execution_count": null,
   "metadata": {},
   "outputs": [],
   "source": []
  },
  {
   "cell_type": "markdown",
   "metadata": {},
   "source": [
    "### 文本特征"
   ]
  },
  {
   "cell_type": "code",
   "execution_count": 150,
   "metadata": {},
   "outputs": [],
   "source": [
    "X_train_domain = train_features_df['main_domain']\n",
    "X_test_domain = test_features_df['main_domain']"
   ]
  },
  {
   "cell_type": "code",
   "execution_count": 265,
   "metadata": {},
   "outputs": [],
   "source": [
    "X_train_deep, domain_max_features, domain_maxlen= get_feature_vectors('model/nlp/', \n",
    "                                                                      'nlp_valid_chars_API.pkl', \n",
    "                                                                      X_train_domain.fillna('').tolist())  # 编码特征\n",
    "X_test_deep, *rst = get_feature_vectors('model/nlp/', \n",
    "                                        'nlp_valid_chars_API.pkl', \n",
    "                                        X_test_domain.fillna('').tolist())"
   ]
  },
  {
   "cell_type": "code",
   "execution_count": 266,
   "metadata": {},
   "outputs": [
    {
     "data": {
      "text/plain": [
       "((100000, 64), (100000,), (20000, 64), (20000,))"
      ]
     },
     "execution_count": 266,
     "metadata": {},
     "output_type": "execute_result"
    }
   ],
   "source": [
    "train_size, test_size = 100000, 20000\n",
    "\n",
    "X_train_deep_10w = X_train_deep[:train_size]\n",
    "y_train_deep_10w = y_train.values[:train_size]\n",
    "X_test_deep_10w = X_test_deep[:test_size]\n",
    "y_test_deep_10w = y_test.values[:test_size]\n",
    "X_train_deep_10w.shape, y_train_deep_10w.shape, X_test_deep_10w.shape, y_test_deep_10w.shape"
   ]
  },
  {
   "cell_type": "code",
   "execution_count": 291,
   "metadata": {},
   "outputs": [
    {
     "data": {
      "text/plain": [
       "((100000,), (20000,), (100000, 42), (20000, 42))"
      ]
     },
     "execution_count": 291,
     "metadata": {},
     "output_type": "execute_result"
    }
   ],
   "source": [
    "y_train_deep_mul_10w = y_train_mul.values[:train_size]\n",
    "y_test_deep_mul_10w = y_test_mul.values[:test_size]\n",
    "y_train_deep_multi_10w = y_train_multi[:train_size]\n",
    "y_test_deep_multi_10w = y_test_multi[:test_size]\n",
    "y_train_deep_mul_10w.shape, y_test_deep_mul_10w.shape, y_train_deep_multi_10w.shape, y_test_deep_multi_10w.shape"
   ]
  },
  {
   "cell_type": "markdown",
   "metadata": {},
   "source": [
    "### 一些函数"
   ]
  },
  {
   "cell_type": "code",
   "execution_count": 351,
   "metadata": {},
   "outputs": [],
   "source": [
    "# 评估函数\n",
    "def evaluate_result(label, y_pred=None, y_proba=None):\n",
    "    if y_pred is None:\n",
    "        y_pred = np.where(y_proba>0.5, 1, 0)\n",
    "    \n",
    "    accuracy = accuracy_score(label, y_pred)\n",
    "    precision = precision_score(label, y_pred)\n",
    "    recall = recall_score(label, y_pred)\n",
    "    f1 = 2*(precision*recall)/(precision+recall)\n",
    "   \n",
    "    if y_proba is None: \n",
    "        roc = 0\n",
    "    else:\n",
    "        roc = roc_auc_score(label, y_proba)\n",
    "        \n",
    "    confusion = confusion_matrix(label, y_pred)\n",
    "    print(\"Accuracy: {:.4f}% \\t Precision: {:.4f}% \\t Recall: {:.4f}% \\t Roc: {:.4f}\\tF1: {:.4f}\".format(accuracy*100, \n",
    "                                                                                                         precision*100, \n",
    "                                                                                                         recall*100, \n",
    "                                                                                                         roc,\n",
    "                                                                                                         f1))\n",
    "    print(\"Confusion:\")\n",
    "    print(confusion)\n",
    "    \n",
    "# 加载模型\n",
    "def load_model(name):\n",
    "    architecture_path = \"model/{}/{}_model_architecture.json\".format(name, name)\n",
    "    weight_path = \"model/{}/{}_model_weights.best.h5\".format(name, name)\n",
    "    model = model_from_json(open(architecture_path).read(),\n",
    "                            custom_objects={'AttentionLayer': att.AttentionLayer})\n",
    "    model.load_weights(weight_path)\n",
    "    return model\n",
    "\n",
    "\n",
    "'''\n",
    "    序列化main_domain特征\n",
    "    save_dir：保存位置\n",
    "    X：\n",
    "'''\n",
    "def get_feature_vectors(save_dir, filename, X):\n",
    "    if not os.path.exists(save_dir):\n",
    "        os.makedirs(save_dir)\n",
    "    \n",
    "    file_path = save_dir + filename\n",
    "    if not os.path.exists(file_path):\n",
    "        valid_chars = {x: idx + 1 for idx, x in enumerate(set(''.join(X)))}  # 统计有效字符出现的次数\n",
    "        max_features = len(valid_chars) + 1  # 有效字符长度+1\n",
    "        maxlen = np.max([len(x) for x in X])  # 最长域名的长度\n",
    "        # save the dictionary of valid characters\n",
    "        valid_chars['maxlen'] = maxlen\n",
    "        pickle.dump(valid_chars, open(file_path, 'wb'))\n",
    "        \n",
    "    valid_chars = pickle.load(open(file_path, 'rb'))\n",
    "    max_features = len(valid_chars) # 有效字符长度\n",
    "    maxlen = valid_chars['maxlen']\n",
    "    del (valid_chars['maxlen'])\n",
    "    \n",
    "    X = [[valid_chars.get(y, 0) for y in x] for x in X]\n",
    "    X = sequence.pad_sequences(X, maxlen=maxlen)  # 形成长度相同的序列\n",
    "    return X, max_features, maxlen"
   ]
  },
  {
   "cell_type": "markdown",
   "metadata": {},
   "source": [
    "## 4.1 Machine Learning"
   ]
  },
  {
   "cell_type": "markdown",
   "metadata": {},
   "source": [
    "### logstic"
   ]
  },
  {
   "cell_type": "code",
   "execution_count": 100,
   "metadata": {},
   "outputs": [
    {
     "data": {
      "text/plain": [
       "['model/logstic/logstic_10w.model']"
      ]
     },
     "execution_count": 100,
     "metadata": {},
     "output_type": "execute_result"
    }
   ],
   "source": [
    "log_reg = LogisticRegression(solver=\"liblinear\", random_state=42)\n",
    "log_reg.fit(X_train_10w, y_train_10w)\n",
    "joblib.dump(log_reg, 'model/logstic/logstic_10w.model')"
   ]
  },
  {
   "cell_type": "code",
   "execution_count": 339,
   "metadata": {},
   "outputs": [
    {
     "name": "stdout",
     "output_type": "stream",
     "text": [
      "Accuracy: 95.1960% \t Precision: 96.0374% \t Recall: 95.0949% \t Roc: 0.9888\tF1: 0.9556\n",
      "Confusion:\n",
      "[[43452  2135]\n",
      " [ 2669 51744]]\n",
      "Accuracy: 95.2900% \t Precision: 96.1861% \t Recall: 95.1864% \t Roc: 0.9893\tF1: 0.9568\n",
      "Confusion:\n",
      "[[ 8617   414]\n",
      " [  528 10441]]\n"
     ]
    }
   ],
   "source": [
    "evaluate_result(y_train_10w, log_reg.predict(X_train_10w), log_reg.predict_proba(X_train_10w)[:,1])\n",
    "evaluate_result(y_test_10w, log_reg.predict(X_test_10w), log_reg.predict_proba(X_test_10w)[:,1])"
   ]
  },
  {
   "cell_type": "markdown",
   "metadata": {},
   "source": [
    "#### 查看权重系数"
   ]
  },
  {
   "cell_type": "code",
   "execution_count": 83,
   "metadata": {},
   "outputs": [],
   "source": [
    "linear_weight = { useful_features_name[i]:log_reg.coef_[0, i] for i in range(45)}\n",
    "linear_weight = pd.Series(linear_weight)"
   ]
  },
  {
   "cell_type": "code",
   "execution_count": 93,
   "metadata": {},
   "outputs": [],
   "source": [
    "linear_weight_df = pd.DataFrame()\n",
    "linear_weight_df['feature'] = linear_weight.index\n",
    "linear_weight_df['weight'] = linear_weight.values\n",
    "linear_weight_df['absolute_weight'] = np.abs(linear_weight.values)"
   ]
  },
  {
   "cell_type": "code",
   "execution_count": 97,
   "metadata": {},
   "outputs": [
    {
     "data": {
      "image/png": "[encoded data removed]",
      "text/plain": [
       "<Figure size 864x576 with 1 Axes>"
      ]
     },
     "metadata": {},
     "output_type": "display_data"
    }
   ],
   "source": [
    "plt.figure(figsize=(12,8))\n",
    "sns.barplot(x=\"absolute_weight\", y=\"feature\", data=linear_weight_df.sort_values(by=\"absolute_weight\",ascending=False))\n",
    "plt.tight_layout()"
   ]
  },
  {
   "cell_type": "code",
   "execution_count": null,
   "metadata": {},
   "outputs": [],
   "source": []
  },
  {
   "cell_type": "markdown",
   "metadata": {},
   "source": [
    "### SVM"
   ]
  },
  {
   "cell_type": "markdown",
   "metadata": {},
   "source": [
    "#### svm 调参至最佳参数\n",
    "- 由于SVM训练实在缓慢，故此在小数据集上寻找出一组参数后，再应用与大数据集"
   ]
  },
  {
   "cell_type": "code",
   "execution_count": 106,
   "metadata": {},
   "outputs": [
    {
     "name": "stdout",
     "output_type": "stream",
     "text": [
      "Fitting 3 folds for each of 100 candidates, totalling 300 fits\n",
      "[CV] C=4.24023234172, gamma=0.027864182986 ...........................\n",
      "[CV] ............ C=4.24023234172, gamma=0.027864182986, total=   0.4s\n",
      "[CV] C=4.24023234172, gamma=0.027864182986 ...........................\n"
     ]
    },
    {
     "name": "stderr",
     "output_type": "stream",
     "text": [
      "[Parallel(n_jobs=1)]: Done   1 out of   1 | elapsed:    0.6s remaining:    0.0s\n"
     ]
    },
    {
     "name": "stdout",
     "output_type": "stream",
     "text": [
      "[CV] ............ C=4.24023234172, gamma=0.027864182986, total=   0.4s\n",
      "[CV] C=4.24023234172, gamma=0.027864182986 ...........................\n",
      "[CV] ............ C=4.24023234172, gamma=0.027864182986, total=   0.4s\n",
      "[CV] C=2.82394459439, gamma=0.00563384128224 .........................\n",
      "[CV] .......... C=2.82394459439, gamma=0.00563384128224, total=   0.5s\n",
      "[CV] C=2.82394459439, gamma=0.00563384128224 .........................\n",
      "[CV] .......... C=2.82394459439, gamma=0.00563384128224, total=   0.5s\n",
      "[CV] C=2.82394459439, gamma=0.00563384128224 .........................\n",
      "[CV] .......... C=2.82394459439, gamma=0.00563384128224, total=   0.5s\n",
      "[CV] C=5.96597597003, gamma=0.00522424540472 .........................\n",
      "[CV] .......... C=5.96597597003, gamma=0.00522424540472, total=   0.4s\n",
      "[CV] C=5.96597597003, gamma=0.00522424540472 .........................\n",
      "[CV] .......... C=5.96597597003, gamma=0.00522424540472, total=   0.4s\n",
      "[CV] C=5.96597597003, gamma=0.00522424540472 .........................\n",
      "[CV] .......... C=5.96597597003, gamma=0.00522424540472, total=   0.4s\n",
      "[CV] C=8.03648083881, gamma=0.00883815461567 .........................\n",
      "[CV] .......... C=8.03648083881, gamma=0.00883815461567, total=   0.4s\n",
      "[CV] C=8.03648083881, gamma=0.00883815461567 .........................\n",
      "[CV] .......... C=8.03648083881, gamma=0.00883815461567, total=   0.4s\n",
      "[CV] C=8.03648083881, gamma=0.00883815461567 .........................\n",
      "[CV] .......... C=8.03648083881, gamma=0.00883815461567, total=   0.4s\n",
      "[CV] C=5.06645375849, gamma=0.0142220459373 ..........................\n",
      "[CV] ........... C=5.06645375849, gamma=0.0142220459373, total=   0.4s\n",
      "[CV] C=5.06645375849, gamma=0.0142220459373 ..........................\n",
      "[CV] ........... C=5.06645375849, gamma=0.0142220459373, total=   0.4s\n",
      "[CV] C=5.06645375849, gamma=0.0142220459373 ..........................\n",
      "[CV] ........... C=5.06645375849, gamma=0.0142220459373, total=   0.4s\n",
      "[CV] C=10.8925218606, gamma=0.0894004684768 ..........................\n",
      "[CV] ........... C=10.8925218606, gamma=0.0894004684768, total=   0.2s\n",
      "[CV] C=10.8925218606, gamma=0.0894004684768 ..........................\n",
      "[CV] ........... C=10.8925218606, gamma=0.0894004684768, total=   0.2s\n",
      "[CV] C=10.8925218606, gamma=0.0894004684768 ..........................\n",
      "[CV] ........... C=10.8925218606, gamma=0.0894004684768, total=   0.2s\n",
      "[CV] C=4.31768660578, gamma=0.00452054402954 .........................\n",
      "[CV] .......... C=4.31768660578, gamma=0.00452054402954, total=   0.5s\n",
      "[CV] C=4.31768660578, gamma=0.00452054402954 .........................\n",
      "[CV] .......... C=4.31768660578, gamma=0.00452054402954, total=   0.5s\n",
      "[CV] C=4.31768660578, gamma=0.00452054402954 .........................\n",
      "[CV] .......... C=4.31768660578, gamma=0.00452054402954, total=   0.5s\n",
      "[CV] C=3.2634673684, gamma=0.00826912251042 ..........................\n",
      "[CV] ........... C=3.2634673684, gamma=0.00826912251042, total=   0.4s\n",
      "[CV] C=3.2634673684, gamma=0.00826912251042 ..........................\n",
      "[CV] ........... C=3.2634673684, gamma=0.00826912251042, total=   0.5s\n",
      "[CV] C=3.2634673684, gamma=0.00826912251042 ..........................\n",
      "[CV] ........... C=3.2634673684, gamma=0.00826912251042, total=   0.4s\n",
      "[CV] C=10.2439365814, gamma=0.0647840353081 ..........................\n",
      "[CV] ........... C=10.2439365814, gamma=0.0647840353081, total=   0.3s\n",
      "[CV] C=10.2439365814, gamma=0.0647840353081 ..........................\n",
      "[CV] ........... C=10.2439365814, gamma=0.0647840353081, total=   0.3s\n",
      "[CV] C=10.2439365814, gamma=0.0647840353081 ..........................\n",
      "[CV] ........... C=10.2439365814, gamma=0.0647840353081, total=   0.2s\n",
      "[CV] C=3.10537782111, gamma=0.0146441293077 ..........................\n",
      "[CV] ........... C=3.10537782111, gamma=0.0146441293077, total=   0.4s\n",
      "[CV] C=3.10537782111, gamma=0.0146441293077 ..........................\n",
      "[CV] ........... C=3.10537782111, gamma=0.0146441293077, total=   0.4s\n",
      "[CV] C=3.10537782111, gamma=0.0146441293077 ..........................\n",
      "[CV] ........... C=3.10537782111, gamma=0.0146441293077, total=   0.4s\n",
      "[CV] C=4.77778993148, gamma=0.00753667862206 .........................\n",
      "[CV] .......... C=4.77778993148, gamma=0.00753667862206, total=   0.4s\n",
      "[CV] C=4.77778993148, gamma=0.00753667862206 .........................\n",
      "[CV] .......... C=4.77778993148, gamma=0.00753667862206, total=   0.4s\n",
      "[CV] C=4.77778993148, gamma=0.00753667862206 .........................\n",
      "[CV] .......... C=4.77778993148, gamma=0.00753667862206, total=   0.4s\n",
      "[CV] C=1.42997743622, gamma=0.0355334840598 ..........................\n",
      "[CV] ........... C=1.42997743622, gamma=0.0355334840598, total=   0.4s\n",
      "[CV] C=1.42997743622, gamma=0.0355334840598 ..........................\n",
      "[CV] ........... C=1.42997743622, gamma=0.0355334840598, total=   0.4s\n",
      "[CV] C=1.42997743622, gamma=0.0355334840598 ..........................\n",
      "[CV] ........... C=1.42997743622, gamma=0.0355334840598, total=   0.4s\n",
      "[CV] C=3.50603866037, gamma=0.00466699459088 .........................\n",
      "[CV] .......... C=3.50603866037, gamma=0.00466699459088, total=   0.5s\n",
      "[CV] C=3.50603866037, gamma=0.00466699459088 .........................\n",
      "[CV] .......... C=3.50603866037, gamma=0.00466699459088, total=   0.5s\n",
      "[CV] C=3.50603866037, gamma=0.00466699459088 .........................\n",
      "[CV] .......... C=3.50603866037, gamma=0.00466699459088, total=   0.5s\n",
      "[CV] C=10.9202322172, gamma=0.00383600166344 .........................\n",
      "[CV] .......... C=10.9202322172, gamma=0.00383600166344, total=   0.4s\n",
      "[CV] C=10.9202322172, gamma=0.00383600166344 .........................\n",
      "[CV] .......... C=10.9202322172, gamma=0.00383600166344, total=   0.4s\n",
      "[CV] C=10.9202322172, gamma=0.00383600166344 .........................\n",
      "[CV] .......... C=10.9202322172, gamma=0.00383600166344, total=   0.4s\n",
      "[CV] C=2.9648706739, gamma=0.0153965945954 ...........................\n",
      "[CV] ............ C=2.9648706739, gamma=0.0153965945954, total=   0.4s\n",
      "[CV] C=2.9648706739, gamma=0.0153965945954 ...........................\n",
      "[CV] ............ C=2.9648706739, gamma=0.0153965945954, total=   0.4s\n",
      "[CV] C=2.9648706739, gamma=0.0153965945954 ...........................\n",
      "[CV] ............ C=2.9648706739, gamma=0.0153965945954, total=   0.4s\n",
      "[CV] C=3.7611574942, gamma=0.00681051172093 ..........................\n",
      "[CV] ........... C=3.7611574942, gamma=0.00681051172093, total=   0.5s\n",
      "[CV] C=3.7611574942, gamma=0.00681051172093 ..........................\n",
      "[CV] ........... C=3.7611574942, gamma=0.00681051172093, total=   0.5s\n",
      "[CV] C=3.7611574942, gamma=0.00681051172093 ..........................\n",
      "[CV] ........... C=3.7611574942, gamma=0.00681051172093, total=   0.5s\n",
      "[CV] C=2.41619705387, gamma=0.0666932362515 ..........................\n",
      "[CV] ........... C=2.41619705387, gamma=0.0666932362515, total=   0.3s\n",
      "[CV] C=2.41619705387, gamma=0.0666932362515 ..........................\n",
      "[CV] ........... C=2.41619705387, gamma=0.0666932362515, total=   0.3s\n",
      "[CV] C=2.41619705387, gamma=0.0666932362515 ..........................\n",
      "[CV] ........... C=2.41619705387, gamma=0.0666932362515, total=   0.3s\n",
      "[CV] C=4.86248271175, gamma=0.0138347456622 ..........................\n",
      "[CV] ........... C=4.86248271175, gamma=0.0138347456622, total=   0.4s\n",
      "[CV] C=4.86248271175, gamma=0.0138347456622 ..........................\n",
      "[CV] ........... C=4.86248271175, gamma=0.0138347456622, total=   0.4s\n",
      "[CV] C=4.86248271175, gamma=0.0138347456622 ..........................\n",
      "[CV] ........... C=4.86248271175, gamma=0.0138347456622, total=   0.4s\n",
      "[CV] C=10.0278618012, gamma=0.0104043136181 ..........................\n",
      "[CV] ........... C=10.0278618012, gamma=0.0104043136181, total=   0.3s\n",
      "[CV] C=10.0278618012, gamma=0.0104043136181 ..........................\n",
      "[CV] ........... C=10.0278618012, gamma=0.0104043136181, total=   0.3s\n",
      "[CV] C=10.0278618012, gamma=0.0104043136181 ..........................\n",
      "[CV] ........... C=10.0278618012, gamma=0.0104043136181, total=   0.3s\n",
      "[CV] C=1.5864626082, gamma=0.0477832637476 ...........................\n",
      "[CV] ............ C=1.5864626082, gamma=0.0477832637476, total=   0.4s\n",
      "[CV] C=1.5864626082, gamma=0.0477832637476 ...........................\n",
      "[CV] ............ C=1.5864626082, gamma=0.0477832637476, total=   0.4s\n",
      "[CV] C=1.5864626082, gamma=0.0477832637476 ...........................\n"
     ]
    },
    {
     "name": "stdout",
     "output_type": "stream",
     "text": [
      "[CV] ............ C=1.5864626082, gamma=0.0477832637476, total=   0.4s\n",
      "[CV] C=2.44256396435, gamma=0.00436003144247 .........................\n",
      "[CV] .......... C=2.44256396435, gamma=0.00436003144247, total=   0.6s\n",
      "[CV] C=2.44256396435, gamma=0.00436003144247 .........................\n",
      "[CV] .......... C=2.44256396435, gamma=0.00436003144247, total=   0.6s\n",
      "[CV] C=2.44256396435, gamma=0.00436003144247 .........................\n",
      "[CV] .......... C=2.44256396435, gamma=0.00436003144247, total=   0.6s\n",
      "[CV] C=8.70588598327, gamma=0.0260224683207 ..........................\n",
      "[CV] ........... C=8.70588598327, gamma=0.0260224683207, total=   0.3s\n",
      "[CV] C=8.70588598327, gamma=0.0260224683207 ..........................\n",
      "[CV] ........... C=8.70588598327, gamma=0.0260224683207, total=   0.3s\n",
      "[CV] C=8.70588598327, gamma=0.0260224683207 ..........................\n",
      "[CV] ........... C=8.70588598327, gamma=0.0260224683207, total=   0.3s\n",
      "[CV] C=4.7481943668, gamma=0.00612768607146 ..........................\n",
      "[CV] ........... C=4.7481943668, gamma=0.00612768607146, total=   0.4s\n",
      "[CV] C=4.7481943668, gamma=0.00612768607146 ..........................\n",
      "[CV] ........... C=4.7481943668, gamma=0.00612768607146, total=   0.4s\n",
      "[CV] C=4.7481943668, gamma=0.00612768607146 ..........................\n",
      "[CV] ........... C=4.7481943668, gamma=0.00612768607146, total=   0.4s\n",
      "[CV] C=8.21047072817, gamma=0.0189296958208 ..........................\n",
      "[CV] ........... C=8.21047072817, gamma=0.0189296958208, total=   0.3s\n",
      "[CV] C=8.21047072817, gamma=0.0189296958208 ..........................\n",
      "[CV] ........... C=8.21047072817, gamma=0.0189296958208, total=   0.3s\n",
      "[CV] C=8.21047072817, gamma=0.0189296958208 ..........................\n",
      "[CV] ........... C=8.21047072817, gamma=0.0189296958208, total=   0.3s\n",
      "[CV] C=10.6466447347, gamma=0.00129981336694 .........................\n",
      "[CV] .......... C=10.6466447347, gamma=0.00129981336694, total=   0.5s\n",
      "[CV] C=10.6466447347, gamma=0.00129981336694 .........................\n",
      "[CV] .......... C=10.6466447347, gamma=0.00129981336694, total=   0.5s\n",
      "[CV] C=10.6466447347, gamma=0.00129981336694 .........................\n",
      "[CV] .......... C=10.6466447347, gamma=0.00129981336694, total=   0.5s\n",
      "[CV] C=9.16112619319, gamma=0.00330949119859 .........................\n",
      "[CV] .......... C=9.16112619319, gamma=0.00330949119859, total=   0.4s\n",
      "[CV] C=9.16112619319, gamma=0.00330949119859 .........................\n",
      "[CV] .......... C=9.16112619319, gamma=0.00330949119859, total=   0.4s\n",
      "[CV] C=9.16112619319, gamma=0.00330949119859 .........................\n",
      "[CV] .......... C=9.16112619319, gamma=0.00330949119859, total=   0.4s\n",
      "[CV] C=8.72390803269, gamma=0.00607593308978 .........................\n",
      "[CV] .......... C=8.72390803269, gamma=0.00607593308978, total=   0.4s\n",
      "[CV] C=8.72390803269, gamma=0.00607593308978 .........................\n",
      "[CV] .......... C=8.72390803269, gamma=0.00607593308978, total=   0.4s\n",
      "[CV] C=8.72390803269, gamma=0.00607593308978 .........................\n",
      "[CV] .......... C=8.72390803269, gamma=0.00607593308978, total=   0.4s\n",
      "[CV] C=1.12120075451, gamma=0.0956214426662 ..........................\n",
      "[CV] ........... C=1.12120075451, gamma=0.0956214426662, total=   0.3s\n",
      "[CV] C=1.12120075451, gamma=0.0956214426662 ..........................\n",
      "[CV] ........... C=1.12120075451, gamma=0.0956214426662, total=   0.3s\n",
      "[CV] C=1.12120075451, gamma=0.0956214426662 ..........................\n",
      "[CV] ........... C=1.12120075451, gamma=0.0956214426662, total=   0.3s\n",
      "[CV] C=2.11682618346, gamma=0.0253004222702 ..........................\n",
      "[CV] ........... C=2.11682618346, gamma=0.0253004222702, total=   0.4s\n",
      "[CV] C=2.11682618346, gamma=0.0253004222702 ..........................\n",
      "[CV] ........... C=2.11682618346, gamma=0.0253004222702, total=   0.4s\n",
      "[CV] C=2.11682618346, gamma=0.0253004222702 ..........................\n",
      "[CV] ........... C=2.11682618346, gamma=0.0253004222702, total=   0.4s\n",
      "[CV] C=7.55957588507, gamma=0.00173531312533 .........................\n",
      "[CV] .......... C=7.55957588507, gamma=0.00173531312533, total=   0.5s\n",
      "[CV] C=7.55957588507, gamma=0.00173531312533 .........................\n",
      "[CV] .......... C=7.55957588507, gamma=0.00173531312533, total=   0.5s\n",
      "[CV] C=7.55957588507, gamma=0.00173531312533 .........................\n",
      "[CV] .......... C=7.55957588507, gamma=0.00173531312533, total=   0.5s\n",
      "[CV] C=9.66828568493, gamma=0.00229086873208 .........................\n",
      "[CV] .......... C=9.66828568493, gamma=0.00229086873208, total=   0.5s\n",
      "[CV] C=9.66828568493, gamma=0.00229086873208 .........................\n",
      "[CV] .......... C=9.66828568493, gamma=0.00229086873208, total=   0.5s\n",
      "[CV] C=9.66828568493, gamma=0.00229086873208 .........................\n",
      "[CV] .......... C=9.66828568493, gamma=0.00229086873208, total=   0.5s\n",
      "[CV] C=4.47412978699, gamma=0.00333390403347 .........................\n",
      "[CV] .......... C=4.47412978699, gamma=0.00333390403347, total=   0.5s\n",
      "[CV] C=4.47412978699, gamma=0.00333390403347 .........................\n",
      "[CV] .......... C=4.47412978699, gamma=0.00333390403347, total=   0.5s\n",
      "[CV] C=4.47412978699, gamma=0.00333390403347 .........................\n",
      "[CV] .......... C=4.47412978699, gamma=0.00333390403347, total=   0.5s\n",
      "[CV] C=7.3801718232, gamma=0.0681845892769 ...........................\n",
      "[CV] ............ C=7.3801718232, gamma=0.0681845892769, total=   0.3s\n",
      "[CV] C=7.3801718232, gamma=0.0681845892769 ...........................\n",
      "[CV] ............ C=7.3801718232, gamma=0.0681845892769, total=   0.3s\n",
      "[CV] C=7.3801718232, gamma=0.0681845892769 ...........................\n",
      "[CV] ............ C=7.3801718232, gamma=0.0681845892769, total=   0.3s\n",
      "[CV] C=10.629035425, gamma=0.00177319602339 ..........................\n",
      "[CV] ........... C=10.629035425, gamma=0.00177319602339, total=   0.5s\n",
      "[CV] C=10.629035425, gamma=0.00177319602339 ..........................\n",
      "[CV] ........... C=10.629035425, gamma=0.00177319602339, total=   0.5s\n",
      "[CV] C=10.629035425, gamma=0.00177319602339 ..........................\n",
      "[CV] ........... C=10.629035425, gamma=0.00177319602339, total=   0.5s\n",
      "[CV] C=2.09358133556, gamma=0.00126225556705 .........................\n",
      "[CV] .......... C=2.09358133556, gamma=0.00126225556705, total=   0.8s\n",
      "[CV] C=2.09358133556, gamma=0.00126225556705 .........................\n",
      "[CV] .......... C=2.09358133556, gamma=0.00126225556705, total=   0.8s\n",
      "[CV] C=2.09358133556, gamma=0.00126225556705 .........................\n",
      "[CV] .......... C=2.09358133556, gamma=0.00126225556705, total=   0.8s\n",
      "[CV] C=2.50447265798, gamma=0.00949979622347 .........................\n",
      "[CV] .......... C=2.50447265798, gamma=0.00949979622347, total=   0.5s\n",
      "[CV] C=2.50447265798, gamma=0.00949979622347 .........................\n",
      "[CV] .......... C=2.50447265798, gamma=0.00949979622347, total=   0.5s\n",
      "[CV] C=2.50447265798, gamma=0.00949979622347 .........................\n",
      "[CV] .......... C=2.50447265798, gamma=0.00949979622347, total=   0.5s\n",
      "[CV] C=9.11027298957, gamma=0.0782812206479 ..........................\n",
      "[CV] ........... C=9.11027298957, gamma=0.0782812206479, total=   0.2s\n",
      "[CV] C=9.11027298957, gamma=0.0782812206479 ..........................\n",
      "[CV] ........... C=9.11027298957, gamma=0.0782812206479, total=   0.2s\n",
      "[CV] C=9.11027298957, gamma=0.0782812206479 ..........................\n",
      "[CV] ........... C=9.11027298957, gamma=0.0782812206479, total=   0.2s\n",
      "[CV] C=2.9237902031, gamma=0.00141560753673 ..........................\n",
      "[CV] ........... C=2.9237902031, gamma=0.00141560753673, total=   0.7s\n",
      "[CV] C=2.9237902031, gamma=0.00141560753673 ..........................\n",
      "[CV] ........... C=2.9237902031, gamma=0.00141560753673, total=   0.7s\n",
      "[CV] C=2.9237902031, gamma=0.00141560753673 ..........................\n",
      "[CV] ........... C=2.9237902031, gamma=0.00141560753673, total=   0.7s\n",
      "[CV] C=7.28776609839, gamma=0.00125598574902 .........................\n",
      "[CV] .......... C=7.28776609839, gamma=0.00125598574902, total=   0.6s\n",
      "[CV] C=7.28776609839, gamma=0.00125598574902 .........................\n",
      "[CV] .......... C=7.28776609839, gamma=0.00125598574902, total=   0.6s\n",
      "[CV] C=7.28776609839, gamma=0.00125598574902 .........................\n",
      "[CV] .......... C=7.28776609839, gamma=0.00125598574902, total=   0.6s\n",
      "[CV] C=10.7167056104, gamma=0.0245614812226 ..........................\n"
     ]
    },
    {
     "name": "stdout",
     "output_type": "stream",
     "text": [
      "[CV] ........... C=10.7167056104, gamma=0.0245614812226, total=   0.3s\n",
      "[CV] C=10.7167056104, gamma=0.0245614812226 ..........................\n",
      "[CV] ........... C=10.7167056104, gamma=0.0245614812226, total=   0.3s\n",
      "[CV] C=10.7167056104, gamma=0.0245614812226 ..........................\n",
      "[CV] ........... C=10.7167056104, gamma=0.0245614812226, total=   0.3s\n",
      "[CV] C=8.28915202608, gamma=0.0158768369968 ..........................\n",
      "[CV] ........... C=8.28915202608, gamma=0.0158768369968, total=   0.3s\n",
      "[CV] C=8.28915202608, gamma=0.0158768369968 ..........................\n",
      "[CV] ........... C=8.28915202608, gamma=0.0158768369968, total=   0.3s\n",
      "[CV] C=8.28915202608, gamma=0.0158768369968 ..........................\n",
      "[CV] ........... C=8.28915202608, gamma=0.0158768369968, total=   0.3s\n",
      "[CV] C=2.99106819276, gamma=0.0802837477644 ..........................\n",
      "[CV] ........... C=2.99106819276, gamma=0.0802837477644, total=   0.3s\n",
      "[CV] C=2.99106819276, gamma=0.0802837477644 ..........................\n",
      "[CV] ........... C=2.99106819276, gamma=0.0802837477644, total=   0.3s\n",
      "[CV] C=2.99106819276, gamma=0.0802837477644 ..........................\n",
      "[CV] ........... C=2.99106819276, gamma=0.0802837477644, total=   0.3s\n",
      "[CV] C=4.50175459889, gamma=0.0659400803527 ..........................\n",
      "[CV] ........... C=4.50175459889, gamma=0.0659400803527, total=   0.3s\n",
      "[CV] C=4.50175459889, gamma=0.0659400803527 ..........................\n",
      "[CV] ........... C=4.50175459889, gamma=0.0659400803527, total=   0.3s\n",
      "[CV] C=4.50175459889, gamma=0.0659400803527 ..........................\n",
      "[CV] ........... C=4.50175459889, gamma=0.0659400803527, total=   0.3s\n",
      "[CV] C=4.00942781051, gamma=0.00242514057534 .........................\n",
      "[CV] .......... C=4.00942781051, gamma=0.00242514057534, total=   0.6s\n",
      "[CV] C=4.00942781051, gamma=0.00242514057534 .........................\n",
      "[CV] .......... C=4.00942781051, gamma=0.00242514057534, total=   0.6s\n",
      "[CV] C=4.00942781051, gamma=0.00242514057534 .........................\n",
      "[CV] .......... C=4.00942781051, gamma=0.00242514057534, total=   0.6s\n",
      "[CV] C=5.80241891467, gamma=0.0506997568282 ..........................\n",
      "[CV] ........... C=5.80241891467, gamma=0.0506997568282, total=   0.3s\n",
      "[CV] C=5.80241891467, gamma=0.0506997568282 ..........................\n",
      "[CV] ........... C=5.80241891467, gamma=0.0506997568282, total=   0.3s\n",
      "[CV] C=5.80241891467, gamma=0.0506997568282 ..........................\n",
      "[CV] ........... C=5.80241891467, gamma=0.0506997568282, total=   0.3s\n",
      "[CV] C=10.4535892792, gamma=0.0390065121394 ..........................\n",
      "[CV] ........... C=10.4535892792, gamma=0.0390065121394, total=   0.3s\n",
      "[CV] C=10.4535892792, gamma=0.0390065121394 ..........................\n",
      "[CV] ........... C=10.4535892792, gamma=0.0390065121394, total=   0.3s\n",
      "[CV] C=10.4535892792, gamma=0.0390065121394 ..........................\n",
      "[CV] ........... C=10.4535892792, gamma=0.0390065121394, total=   0.3s\n",
      "[CV] C=3.55348681331, gamma=0.00313280028064 .........................\n",
      "[CV] .......... C=3.55348681331, gamma=0.00313280028064, total=   0.5s\n",
      "[CV] C=3.55348681331, gamma=0.00313280028064 .........................\n",
      "[CV] .......... C=3.55348681331, gamma=0.00313280028064, total=   0.6s\n",
      "[CV] C=3.55348681331, gamma=0.00313280028064 .........................\n",
      "[CV] .......... C=3.55348681331, gamma=0.00313280028064, total=   0.5s\n",
      "[CV] C=1.21433813587, gamma=0.0499758341476 ..........................\n",
      "[CV] ........... C=1.21433813587, gamma=0.0499758341476, total=   0.4s\n",
      "[CV] C=1.21433813587, gamma=0.0499758341476 ..........................\n",
      "[CV] ........... C=1.21433813587, gamma=0.0499758341476, total=   0.4s\n",
      "[CV] C=1.21433813587, gamma=0.0499758341476 ..........................\n",
      "[CV] ........... C=1.21433813587, gamma=0.0499758341476, total=   0.4s\n",
      "[CV] C=7.54230514101, gamma=0.0121075759264 ..........................\n",
      "[CV] ........... C=7.54230514101, gamma=0.0121075759264, total=   0.3s\n",
      "[CV] C=7.54230514101, gamma=0.0121075759264 ..........................\n",
      "[CV] ........... C=7.54230514101, gamma=0.0121075759264, total=   0.3s\n",
      "[CV] C=7.54230514101, gamma=0.0121075759264 ..........................\n",
      "[CV] ........... C=7.54230514101, gamma=0.0121075759264, total=   0.3s\n",
      "[CV] C=7.92886725214, gamma=0.00228931832368 .........................\n",
      "[CV] .......... C=7.92886725214, gamma=0.00228931832368, total=   0.5s\n",
      "[CV] C=7.92886725214, gamma=0.00228931832368 .........................\n",
      "[CV] .......... C=7.92886725214, gamma=0.00228931832368, total=   0.5s\n",
      "[CV] C=7.92886725214, gamma=0.00228931832368 .........................\n",
      "[CV] .......... C=7.92886725214, gamma=0.00228931832368, total=   0.5s\n",
      "[CV] C=10.757404811, gamma=0.0416117801467 ...........................\n",
      "[CV] ............ C=10.757404811, gamma=0.0416117801467, total=   0.3s\n",
      "[CV] C=10.757404811, gamma=0.0416117801467 ...........................\n",
      "[CV] ............ C=10.757404811, gamma=0.0416117801467, total=   0.3s\n",
      "[CV] C=10.757404811, gamma=0.0416117801467 ...........................\n",
      "[CV] ............ C=10.757404811, gamma=0.0416117801467, total=   0.3s\n",
      "[CV] C=9.01647017928, gamma=0.00375596951224 .........................\n",
      "[CV] .......... C=9.01647017928, gamma=0.00375596951224, total=   0.4s\n",
      "[CV] C=9.01647017928, gamma=0.00375596951224 .........................\n",
      "[CV] .......... C=9.01647017928, gamma=0.00375596951224, total=   0.4s\n",
      "[CV] C=9.01647017928, gamma=0.00375596951224 .........................\n",
      "[CV] .......... C=9.01647017928, gamma=0.00375596951224, total=   0.4s\n",
      "[CV] C=6.48551450542, gamma=0.026622367294 ...........................\n",
      "[CV] ............ C=6.48551450542, gamma=0.026622367294, total=   0.3s\n",
      "[CV] C=6.48551450542, gamma=0.026622367294 ...........................\n",
      "[CV] ............ C=6.48551450542, gamma=0.026622367294, total=   0.3s\n",
      "[CV] C=6.48551450542, gamma=0.026622367294 ...........................\n",
      "[CV] ............ C=6.48551450542, gamma=0.026622367294, total=   0.3s\n",
      "[CV] C=4.53056193044, gamma=0.0190117669544 ..........................\n",
      "[CV] ........... C=4.53056193044, gamma=0.0190117669544, total=   0.3s\n",
      "[CV] C=4.53056193044, gamma=0.0190117669544 ..........................\n",
      "[CV] ........... C=4.53056193044, gamma=0.0190117669544, total=   0.3s\n",
      "[CV] C=4.53056193044, gamma=0.0190117669544 ..........................\n",
      "[CV] ........... C=4.53056193044, gamma=0.0190117669544, total=   0.3s\n",
      "[CV] C=4.45797775231, gamma=0.00425331170659 .........................\n",
      "[CV] .......... C=4.45797775231, gamma=0.00425331170659, total=   0.5s\n",
      "[CV] C=4.45797775231, gamma=0.00425331170659 .........................\n",
      "[CV] .......... C=4.45797775231, gamma=0.00425331170659, total=   0.5s\n",
      "[CV] C=4.45797775231, gamma=0.00425331170659 .........................\n",
      "[CV] .......... C=4.45797775231, gamma=0.00425331170659, total=   0.5s\n",
      "[CV] C=6.66747301666, gamma=0.0248707494615 ..........................\n",
      "[CV] ........... C=6.66747301666, gamma=0.0248707494615, total=   0.3s\n",
      "[CV] C=6.66747301666, gamma=0.0248707494615 ..........................\n",
      "[CV] ........... C=6.66747301666, gamma=0.0248707494615, total=   0.3s\n",
      "[CV] C=6.66747301666, gamma=0.0248707494615 ..........................\n",
      "[CV] ........... C=6.66747301666, gamma=0.0248707494615, total=   0.3s\n",
      "[CV] C=7.26688212896, gamma=0.0797728944428 ..........................\n",
      "[CV] ........... C=7.26688212896, gamma=0.0797728944428, total=   0.3s\n",
      "[CV] C=7.26688212896, gamma=0.0797728944428 ..........................\n",
      "[CV] ........... C=7.26688212896, gamma=0.0797728944428, total=   0.2s\n",
      "[CV] C=7.26688212896, gamma=0.0797728944428 ..........................\n",
      "[CV] ........... C=7.26688212896, gamma=0.0797728944428, total=   0.3s\n",
      "[CV] C=8.57786528786, gamma=0.00123376249603 .........................\n",
      "[CV] .......... C=8.57786528786, gamma=0.00123376249603, total=   0.6s\n",
      "[CV] C=8.57786528786, gamma=0.00123376249603 .........................\n",
      "[CV] .......... C=8.57786528786, gamma=0.00123376249603, total=   0.6s\n",
      "[CV] C=8.57786528786, gamma=0.00123376249603 .........................\n",
      "[CV] .......... C=8.57786528786, gamma=0.00123376249603, total=   0.6s\n",
      "[CV] C=3.11680445944, gamma=0.0135441864665 ..........................\n",
      "[CV] ........... C=3.11680445944, gamma=0.0135441864665, total=   0.4s\n",
      "[CV] C=3.11680445944, gamma=0.0135441864665 ..........................\n"
     ]
    },
    {
     "name": "stdout",
     "output_type": "stream",
     "text": [
      "[CV] ........... C=3.11680445944, gamma=0.0135441864665, total=   0.4s\n",
      "[CV] C=3.11680445944, gamma=0.0135441864665 ..........................\n",
      "[CV] ........... C=3.11680445944, gamma=0.0135441864665, total=   0.4s\n",
      "[CV] C=6.53178783083, gamma=0.0359555694885 ..........................\n",
      "[CV] ........... C=6.53178783083, gamma=0.0359555694885, total=   0.3s\n",
      "[CV] C=6.53178783083, gamma=0.0359555694885 ..........................\n",
      "[CV] ........... C=6.53178783083, gamma=0.0359555694885, total=   0.3s\n",
      "[CV] C=6.53178783083, gamma=0.0359555694885 ..........................\n",
      "[CV] ........... C=6.53178783083, gamma=0.0359555694885, total=   0.3s\n",
      "[CV] C=9.08598751026, gamma=0.057376039859 ...........................\n",
      "[CV] ............ C=9.08598751026, gamma=0.057376039859, total=   0.3s\n",
      "[CV] C=9.08598751026, gamma=0.057376039859 ...........................\n",
      "[CV] ............ C=9.08598751026, gamma=0.057376039859, total=   0.3s\n",
      "[CV] C=9.08598751026, gamma=0.057376039859 ...........................\n",
      "[CV] ............ C=9.08598751026, gamma=0.057376039859, total=   0.3s\n",
      "[CV] C=1.03202112397, gamma=0.0735708301758 ..........................\n",
      "[CV] ........... C=1.03202112397, gamma=0.0735708301758, total=   0.4s\n",
      "[CV] C=1.03202112397, gamma=0.0735708301758 ..........................\n",
      "[CV] ........... C=1.03202112397, gamma=0.0735708301758, total=   0.4s\n",
      "[CV] C=1.03202112397, gamma=0.0735708301758 ..........................\n",
      "[CV] ........... C=1.03202112397, gamma=0.0735708301758, total=   0.4s\n",
      "[CV] C=1.80800454113, gamma=0.0146234309525 ..........................\n",
      "[CV] ........... C=1.80800454113, gamma=0.0146234309525, total=   0.4s\n",
      "[CV] C=1.80800454113, gamma=0.0146234309525 ..........................\n",
      "[CV] ........... C=1.80800454113, gamma=0.0146234309525, total=   0.5s\n",
      "[CV] C=1.80800454113, gamma=0.0146234309525 ..........................\n",
      "[CV] ........... C=1.80800454113, gamma=0.0146234309525, total=   0.4s\n",
      "[CV] C=8.31769894277, gamma=0.00279840394818 .........................\n",
      "[CV] .......... C=8.31769894277, gamma=0.00279840394818, total=   0.5s\n",
      "[CV] C=8.31769894277, gamma=0.00279840394818 .........................\n",
      "[CV] .......... C=8.31769894277, gamma=0.00279840394818, total=   0.5s\n",
      "[CV] C=8.31769894277, gamma=0.00279840394818 .........................\n",
      "[CV] .......... C=8.31769894277, gamma=0.00279840394818, total=   0.5s\n",
      "[CV] C=2.00500834016, gamma=0.0153275706555 ..........................\n",
      "[CV] ........... C=2.00500834016, gamma=0.0153275706555, total=   0.4s\n",
      "[CV] C=2.00500834016, gamma=0.0153275706555 ..........................\n",
      "[CV] ........... C=2.00500834016, gamma=0.0153275706555, total=   0.4s\n",
      "[CV] C=2.00500834016, gamma=0.0153275706555 ..........................\n",
      "[CV] ........... C=2.00500834016, gamma=0.0153275706555, total=   0.4s\n",
      "[CV] C=2.82402768037, gamma=0.00370838044635 .........................\n",
      "[CV] .......... C=2.82402768037, gamma=0.00370838044635, total=   0.6s\n",
      "[CV] C=2.82402768037, gamma=0.00370838044635 .........................\n",
      "[CV] .......... C=2.82402768037, gamma=0.00370838044635, total=   0.6s\n",
      "[CV] C=2.82402768037, gamma=0.00370838044635 .........................\n",
      "[CV] .......... C=2.82402768037, gamma=0.00370838044635, total=   0.6s\n",
      "[CV] C=3.15214064969, gamma=0.00431589993199 .........................\n",
      "[CV] .......... C=3.15214064969, gamma=0.00431589993199, total=   0.5s\n",
      "[CV] C=3.15214064969, gamma=0.00431589993199 .........................\n",
      "[CV] .......... C=3.15214064969, gamma=0.00431589993199, total=   0.5s\n",
      "[CV] C=3.15214064969, gamma=0.00431589993199 .........................\n",
      "[CV] .......... C=3.15214064969, gamma=0.00431589993199, total=   0.5s\n",
      "[CV] C=4.31936540635, gamma=0.0388933103341 ..........................\n",
      "[CV] ........... C=4.31936540635, gamma=0.0388933103341, total=   0.3s\n",
      "[CV] C=4.31936540635, gamma=0.0388933103341 ..........................\n",
      "[CV] ........... C=4.31936540635, gamma=0.0388933103341, total=   0.3s\n",
      "[CV] C=4.31936540635, gamma=0.0388933103341 ..........................\n",
      "[CV] ........... C=4.31936540635, gamma=0.0388933103341, total=   0.3s\n",
      "[CV] C=9.11476145586, gamma=0.00247308902945 .........................\n",
      "[CV] .......... C=9.11476145586, gamma=0.00247308902945, total=   0.5s\n",
      "[CV] C=9.11476145586, gamma=0.00247308902945 .........................\n",
      "[CV] .......... C=9.11476145586, gamma=0.00247308902945, total=   0.5s\n",
      "[CV] C=9.11476145586, gamma=0.00247308902945 .........................\n",
      "[CV] .......... C=9.11476145586, gamma=0.00247308902945, total=   0.5s\n",
      "[CV] C=2.41669186418, gamma=0.00636579484223 .........................\n",
      "[CV] .......... C=2.41669186418, gamma=0.00636579484223, total=   0.5s\n",
      "[CV] C=2.41669186418, gamma=0.00636579484223 .........................\n",
      "[CV] .......... C=2.41669186418, gamma=0.00636579484223, total=   0.5s\n",
      "[CV] C=2.41669186418, gamma=0.00636579484223 .........................\n",
      "[CV] .......... C=2.41669186418, gamma=0.00636579484223, total=   0.5s\n",
      "[CV] C=6.12749067581, gamma=0.0470771627384 ..........................\n",
      "[CV] ........... C=6.12749067581, gamma=0.0470771627384, total=   0.3s\n",
      "[CV] C=6.12749067581, gamma=0.0470771627384 ..........................\n",
      "[CV] ........... C=6.12749067581, gamma=0.0470771627384, total=   0.3s\n",
      "[CV] C=6.12749067581, gamma=0.0470771627384 ..........................\n",
      "[CV] ........... C=6.12749067581, gamma=0.0470771627384, total=   0.3s\n",
      "[CV] C=4.28109698582, gamma=0.00591802581779 .........................\n",
      "[CV] .......... C=4.28109698582, gamma=0.00591802581779, total=   0.4s\n",
      "[CV] C=4.28109698582, gamma=0.00591802581779 .........................\n",
      "[CV] .......... C=4.28109698582, gamma=0.00591802581779, total=   0.5s\n",
      "[CV] C=4.28109698582, gamma=0.00591802581779 .........................\n",
      "[CV] .......... C=4.28109698582, gamma=0.00591802581779, total=   0.5s\n",
      "[CV] C=3.15707699335, gamma=0.00370498401723 .........................\n",
      "[CV] .......... C=3.15707699335, gamma=0.00370498401723, total=   0.5s\n",
      "[CV] C=3.15707699335, gamma=0.00370498401723 .........................\n",
      "[CV] .......... C=3.15707699335, gamma=0.00370498401723, total=   0.5s\n",
      "[CV] C=3.15707699335, gamma=0.00370498401723 .........................\n",
      "[CV] .......... C=3.15707699335, gamma=0.00370498401723, total=   0.5s\n",
      "[CV] C=4.23595261153, gamma=0.00397978257086 .........................\n",
      "[CV] .......... C=4.23595261153, gamma=0.00397978257086, total=   0.5s\n",
      "[CV] C=4.23595261153, gamma=0.00397978257086 .........................\n",
      "[CV] .......... C=4.23595261153, gamma=0.00397978257086, total=   0.5s\n",
      "[CV] C=4.23595261153, gamma=0.00397978257086 .........................\n",
      "[CV] .......... C=4.23595261153, gamma=0.00397978257086, total=   0.5s\n",
      "[CV] C=3.99496371745, gamma=0.0931531346412 ..........................\n",
      "[CV] ........... C=3.99496371745, gamma=0.0931531346412, total=   0.3s\n",
      "[CV] C=3.99496371745, gamma=0.0931531346412 ..........................\n",
      "[CV] ........... C=3.99496371745, gamma=0.0931531346412, total=   0.3s\n",
      "[CV] C=3.99496371745, gamma=0.0931531346412 ..........................\n",
      "[CV] ........... C=3.99496371745, gamma=0.0931531346412, total=   0.3s\n",
      "[CV] C=5.80797797595, gamma=0.00322350090748 .........................\n",
      "[CV] .......... C=5.80797797595, gamma=0.00322350090748, total=   0.5s\n",
      "[CV] C=5.80797797595, gamma=0.00322350090748 .........................\n",
      "[CV] .......... C=5.80797797595, gamma=0.00322350090748, total=   0.5s\n",
      "[CV] C=5.80797797595, gamma=0.00322350090748 .........................\n",
      "[CV] .......... C=5.80797797595, gamma=0.00322350090748, total=   0.5s\n",
      "[CV] C=3.63567244681, gamma=0.025969635427 ...........................\n",
      "[CV] ............ C=3.63567244681, gamma=0.025969635427, total=   0.3s\n",
      "[CV] C=3.63567244681, gamma=0.025969635427 ...........................\n",
      "[CV] ............ C=3.63567244681, gamma=0.025969635427, total=   0.3s\n",
      "[CV] C=3.63567244681, gamma=0.025969635427 ...........................\n",
      "[CV] ............ C=3.63567244681, gamma=0.025969635427, total=   0.3s\n",
      "[CV] C=5.64536064064, gamma=0.0208251584319 ..........................\n",
      "[CV] ........... C=5.64536064064, gamma=0.0208251584319, total=   0.3s\n",
      "[CV] C=5.64536064064, gamma=0.0208251584319 ..........................\n",
      "[CV] ........... C=5.64536064064, gamma=0.0208251584319, total=   0.3s\n",
      "[CV] C=5.64536064064, gamma=0.0208251584319 ..........................\n"
     ]
    },
    {
     "name": "stdout",
     "output_type": "stream",
     "text": [
      "[CV] ........... C=5.64536064064, gamma=0.0208251584319, total=   0.3s\n",
      "[CV] C=9.87691099873, gamma=0.00170217261314 .........................\n",
      "[CV] .......... C=9.87691099873, gamma=0.00170217261314, total=   0.5s\n",
      "[CV] C=9.87691099873, gamma=0.00170217261314 .........................\n",
      "[CV] .......... C=9.87691099873, gamma=0.00170217261314, total=   0.5s\n",
      "[CV] C=9.87691099873, gamma=0.00170217261314 .........................\n",
      "[CV] .......... C=9.87691099873, gamma=0.00170217261314, total=   0.5s\n",
      "[CV] C=1.04028371476, gamma=0.00323654917749 .........................\n",
      "[CV] .......... C=1.04028371476, gamma=0.00323654917749, total=   0.8s\n",
      "[CV] C=1.04028371476, gamma=0.00323654917749 .........................\n",
      "[CV] .......... C=1.04028371476, gamma=0.00323654917749, total=   0.8s\n",
      "[CV] C=1.04028371476, gamma=0.00323654917749 .........................\n",
      "[CV] .......... C=1.04028371476, gamma=0.00323654917749, total=   0.8s\n",
      "[CV] C=2.05044656099, gamma=0.00831220156027 .........................\n",
      "[CV] .......... C=2.05044656099, gamma=0.00831220156027, total=   0.5s\n",
      "[CV] C=2.05044656099, gamma=0.00831220156027 .........................\n",
      "[CV] .......... C=2.05044656099, gamma=0.00831220156027, total=   0.5s\n",
      "[CV] C=2.05044656099, gamma=0.00831220156027 .........................\n",
      "[CV] .......... C=2.05044656099, gamma=0.00831220156027, total=   0.5s\n",
      "[CV] C=2.10197874578, gamma=0.0788105004441 ..........................\n",
      "[CV] ........... C=2.10197874578, gamma=0.0788105004441, total=   0.3s\n",
      "[CV] C=2.10197874578, gamma=0.0788105004441 ..........................\n",
      "[CV] ........... C=2.10197874578, gamma=0.0788105004441, total=   0.3s\n",
      "[CV] C=2.10197874578, gamma=0.0788105004441 ..........................\n",
      "[CV] ........... C=2.10197874578, gamma=0.0788105004441, total=   0.3s\n",
      "[CV] C=8.86910850745, gamma=0.00107839622318 .........................\n",
      "[CV] .......... C=8.86910850745, gamma=0.00107839622318, total=   0.6s\n",
      "[CV] C=8.86910850745, gamma=0.00107839622318 .........................\n",
      "[CV] .......... C=8.86910850745, gamma=0.00107839622318, total=   0.6s\n",
      "[CV] C=8.86910850745, gamma=0.00107839622318 .........................\n",
      "[CV] .......... C=8.86910850745, gamma=0.00107839622318, total=   0.6s\n",
      "[CV] C=8.49451248316, gamma=0.00671506738073 .........................\n",
      "[CV] .......... C=8.49451248316, gamma=0.00671506738073, total=   0.4s\n",
      "[CV] C=8.49451248316, gamma=0.00671506738073 .........................\n",
      "[CV] .......... C=8.49451248316, gamma=0.00671506738073, total=   0.4s\n",
      "[CV] C=8.49451248316, gamma=0.00671506738073 .........................\n",
      "[CV] .......... C=8.49451248316, gamma=0.00671506738073, total=   0.4s\n",
      "[CV] C=2.09590610166, gamma=0.0768446308811 ..........................\n",
      "[CV] ........... C=2.09590610166, gamma=0.0768446308811, total=   0.3s\n",
      "[CV] C=2.09590610166, gamma=0.0768446308811 ..........................\n",
      "[CV] ........... C=2.09590610166, gamma=0.0768446308811, total=   0.3s\n",
      "[CV] C=2.09590610166, gamma=0.0768446308811 ..........................\n",
      "[CV] ........... C=2.09590610166, gamma=0.0768446308811, total=   0.3s\n",
      "[CV] C=5.78134840092, gamma=0.00150277713582 .........................\n",
      "[CV] .......... C=5.78134840092, gamma=0.00150277713582, total=   0.6s\n",
      "[CV] C=5.78134840092, gamma=0.00150277713582 .........................\n",
      "[CV] .......... C=5.78134840092, gamma=0.00150277713582, total=   0.6s\n",
      "[CV] C=5.78134840092, gamma=0.00150277713582 .........................\n",
      "[CV] .......... C=5.78134840092, gamma=0.00150277713582, total=   0.6s\n",
      "[CV] C=4.41682808166, gamma=0.0112595477473 ..........................\n",
      "[CV] ........... C=4.41682808166, gamma=0.0112595477473, total=   0.4s\n",
      "[CV] C=4.41682808166, gamma=0.0112595477473 ..........................\n",
      "[CV] ........... C=4.41682808166, gamma=0.0112595477473, total=   0.4s\n",
      "[CV] C=4.41682808166, gamma=0.0112595477473 ..........................\n",
      "[CV] ........... C=4.41682808166, gamma=0.0112595477473, total=   0.4s\n",
      "[CV] C=7.79974898064, gamma=0.00155857573138 .........................\n",
      "[CV] .......... C=7.79974898064, gamma=0.00155857573138, total=   0.5s\n",
      "[CV] C=7.79974898064, gamma=0.00155857573138 .........................\n",
      "[CV] .......... C=7.79974898064, gamma=0.00155857573138, total=   0.5s\n",
      "[CV] C=7.79974898064, gamma=0.00155857573138 .........................\n",
      "[CV] .......... C=7.79974898064, gamma=0.00155857573138, total=   0.5s\n",
      "[CV] C=1.73612473624, gamma=0.0664130569689 ..........................\n",
      "[CV] ........... C=1.73612473624, gamma=0.0664130569689, total=   0.3s\n",
      "[CV] C=1.73612473624, gamma=0.0664130569689 ..........................\n",
      "[CV] ........... C=1.73612473624, gamma=0.0664130569689, total=   0.3s\n",
      "[CV] C=1.73612473624, gamma=0.0664130569689 ..........................\n",
      "[CV] ........... C=1.73612473624, gamma=0.0664130569689, total=   0.3s\n",
      "[CV] C=3.70238793439, gamma=0.00103341922754 .........................\n",
      "[CV] .......... C=3.70238793439, gamma=0.00103341922754, total=   0.7s\n",
      "[CV] C=3.70238793439, gamma=0.00103341922754 .........................\n",
      "[CV] .......... C=3.70238793439, gamma=0.00103341922754, total=   0.7s\n",
      "[CV] C=3.70238793439, gamma=0.00103341922754 .........................\n",
      "[CV] .......... C=3.70238793439, gamma=0.00103341922754, total=   0.7s\n",
      "[CV] C=2.18234899015, gamma=0.0504484323906 ..........................\n",
      "[CV] ........... C=2.18234899015, gamma=0.0504484323906, total=   0.3s\n",
      "[CV] C=2.18234899015, gamma=0.0504484323906 ..........................\n",
      "[CV] ........... C=2.18234899015, gamma=0.0504484323906, total=   0.3s\n",
      "[CV] C=2.18234899015, gamma=0.0504484323906 ..........................\n",
      "[CV] ........... C=2.18234899015, gamma=0.0504484323906, total=   0.3s\n",
      "[CV] C=8.8363487993, gamma=0.00512461622928 ..........................\n",
      "[CV] ........... C=8.8363487993, gamma=0.00512461622928, total=   0.4s\n",
      "[CV] C=8.8363487993, gamma=0.00512461622928 ..........................\n",
      "[CV] ........... C=8.8363487993, gamma=0.00512461622928, total=   0.4s\n",
      "[CV] C=8.8363487993, gamma=0.00512461622928 ..........................\n",
      "[CV] ........... C=8.8363487993, gamma=0.00512461622928, total=   0.4s\n",
      "[CV] C=8.61291066755, gamma=0.0234804227131 ..........................\n",
      "[CV] ........... C=8.61291066755, gamma=0.0234804227131, total=   0.3s\n",
      "[CV] C=8.61291066755, gamma=0.0234804227131 ..........................\n",
      "[CV] ........... C=8.61291066755, gamma=0.0234804227131, total=   0.3s\n",
      "[CV] C=8.61291066755, gamma=0.0234804227131 ..........................\n",
      "[CV] ........... C=8.61291066755, gamma=0.0234804227131, total=   0.3s\n",
      "[CV] C=4.6041680293, gamma=0.0081375142861 ...........................\n",
      "[CV] ............ C=4.6041680293, gamma=0.0081375142861, total=   0.4s\n",
      "[CV] C=4.6041680293, gamma=0.0081375142861 ...........................\n",
      "[CV] ............ C=4.6041680293, gamma=0.0081375142861, total=   0.4s\n",
      "[CV] C=4.6041680293, gamma=0.0081375142861 ...........................\n",
      "[CV] ............ C=4.6041680293, gamma=0.0081375142861, total=   0.4s\n",
      "[CV] C=6.25728447417, gamma=0.0030688674436 ..........................\n",
      "[CV] ........... C=6.25728447417, gamma=0.0030688674436, total=   0.5s\n",
      "[CV] C=6.25728447417, gamma=0.0030688674436 ..........................\n",
      "[CV] ........... C=6.25728447417, gamma=0.0030688674436, total=   0.5s\n",
      "[CV] C=6.25728447417, gamma=0.0030688674436 ..........................\n",
      "[CV] ........... C=6.25728447417, gamma=0.0030688674436, total=   0.5s\n",
      "[CV] C=8.63990742571, gamma=0.0452952002371 ..........................\n",
      "[CV] ........... C=8.63990742571, gamma=0.0452952002371, total=   0.3s\n",
      "[CV] C=8.63990742571, gamma=0.0452952002371 ..........................\n",
      "[CV] ........... C=8.63990742571, gamma=0.0452952002371, total=   0.3s\n",
      "[CV] C=8.63990742571, gamma=0.0452952002371 ..........................\n",
      "[CV] ........... C=8.63990742571, gamma=0.0452952002371, total=   0.3s\n",
      "[CV] C=1.5022451977, gamma=0.00342478798791 ..........................\n",
      "[CV] ........... C=1.5022451977, gamma=0.00342478798791, total=   0.7s\n",
      "[CV] C=1.5022451977, gamma=0.00342478798791 ..........................\n",
      "[CV] ........... C=1.5022451977, gamma=0.00342478798791, total=   0.7s\n",
      "[CV] C=1.5022451977, gamma=0.00342478798791 ..........................\n",
      "[CV] ........... C=1.5022451977, gamma=0.00342478798791, total=   0.7s\n",
      "[CV] C=6.81033749598, gamma=0.00343392837294 .........................\n"
     ]
    },
    {
     "name": "stdout",
     "output_type": "stream",
     "text": [
      "[CV] .......... C=6.81033749598, gamma=0.00343392837294, total=   0.5s\n",
      "[CV] C=6.81033749598, gamma=0.00343392837294 .........................\n",
      "[CV] .......... C=6.81033749598, gamma=0.00343392837294, total=   0.5s\n",
      "[CV] C=6.81033749598, gamma=0.00343392837294 .........................\n",
      "[CV] .......... C=6.81033749598, gamma=0.00343392837294, total=   0.5s\n",
      "[CV] C=6.88275525112, gamma=0.0532227200286 ..........................\n",
      "[CV] ........... C=6.88275525112, gamma=0.0532227200286, total=   0.3s\n",
      "[CV] C=6.88275525112, gamma=0.0532227200286 ..........................\n",
      "[CV] ........... C=6.88275525112, gamma=0.0532227200286, total=   0.3s\n",
      "[CV] C=6.88275525112, gamma=0.0532227200286 ..........................\n",
      "[CV] ........... C=6.88275525112, gamma=0.0532227200286, total=   0.3s\n",
      "[CV] C=6.68881962627, gamma=0.0121829495276 ..........................\n",
      "[CV] ........... C=6.68881962627, gamma=0.0121829495276, total=   0.3s\n",
      "[CV] C=6.68881962627, gamma=0.0121829495276 ..........................\n",
      "[CV] ........... C=6.68881962627, gamma=0.0121829495276, total=   0.4s\n",
      "[CV] C=6.68881962627, gamma=0.0121829495276 ..........................\n",
      "[CV] ........... C=6.68881962627, gamma=0.0121829495276, total=   0.4s\n"
     ]
    },
    {
     "name": "stderr",
     "output_type": "stream",
     "text": [
      "[Parallel(n_jobs=1)]: Done 300 out of 300 | elapsed:  3.2min finished\n"
     ]
    },
    {
     "data": {
      "text/plain": [
       "(SVC(C=10.892521860571078, cache_size=200, class_weight=None, coef0=0.0,\n",
       "   decision_function_shape='ovr', degree=3, gamma=0.089400468476754411,\n",
       "   kernel='rbf', max_iter=-1, probability=False, random_state=None,\n",
       "   shrinking=True, tol=0.001, verbose=False), 0.94720000000000004)"
      ]
     },
     "execution_count": 106,
     "metadata": {},
     "output_type": "execute_result"
    }
   ],
   "source": [
    "param_distributions = {\"gamma\": reciprocal(0.001, 0.1), \n",
    "                       \"C\": uniform(1, 10)}\n",
    "\n",
    "rnd_search_cv = RandomizedSearchCV(SVC(), \n",
    "                                   param_distributions, \n",
    "                                   n_iter=100, \n",
    "                                   verbose=2, \n",
    "                                   cv=3)\n",
    "\n",
    "rnd_search_cv.fit(X_train_10w[:5000], y_train_10w[:5000])\n",
    "rnd_search_cv.best_estimator_,rnd_search_cv.best_score_"
   ]
  },
  {
   "cell_type": "code",
   "execution_count": null,
   "metadata": {},
   "outputs": [],
   "source": [
    "# rbf核\n",
    "svm_clf = SVC(C=10.892521860571078,\n",
    "              gamma=0.089400468476754411)\n",
    "svm_clf.fit(X_train_10w, y_train_10w)\n",
    "joblib.dump(svm_clf, 'model/svm/svm_rbf_10w.model')"
   ]
  },
  {
   "cell_type": "code",
   "execution_count": 344,
   "metadata": {},
   "outputs": [
    {
     "name": "stdout",
     "output_type": "stream",
     "text": [
      "Accuracy: 96.4030% \t Precision: 97.0170% \t Recall: 96.3520% \t Roc: 0.0000\tF1: 0.9668\n",
      "Confusion:\n",
      "[[43975  1612]\n",
      " [ 1985 52428]]\n",
      "Accuracy: 96.5300% \t Precision: 97.2327% \t Recall: 96.4172% \t Roc: 0.0000\tF1: 0.9682\n",
      "Confusion:\n",
      "[[ 8730   301]\n",
      " [  393 10576]]\n"
     ]
    }
   ],
   "source": [
    "svm_clf = joblib.load('model/svm/svm_rbf_10w.model')\n",
    "evaluate_result(y_train_10w, svm_clf.predict(X_train_10w))\n",
    "evaluate_result(y_test_10w, svm_clf.predict(X_test_10w))"
   ]
  },
  {
   "cell_type": "code",
   "execution_count": null,
   "metadata": {},
   "outputs": [],
   "source": []
  },
  {
   "cell_type": "markdown",
   "metadata": {},
   "source": [
    "### lightgbm"
   ]
  },
  {
   "cell_type": "code",
   "execution_count": 111,
   "metadata": {
    "scrolled": true
   },
   "outputs": [
    {
     "name": "stdout",
     "output_type": "stream",
     "text": [
      "Training until validation scores don't improve for 60 rounds.\n",
      "[20]\ttraining's binary_logloss: 0.362421\ttraining's auc: 0.991977\tvalid_1's binary_logloss: 0.371994\tvalid_1's auc: 0.990606\n",
      "[40]\ttraining's binary_logloss: 0.222215\ttraining's auc: 0.993058\tvalid_1's binary_logloss: 0.240586\tvalid_1's auc: 0.991275\n",
      "[60]\ttraining's binary_logloss: 0.153177\ttraining's auc: 0.994028\tvalid_1's binary_logloss: 0.169953\tvalid_1's auc: 0.992666\n",
      "[80]\ttraining's binary_logloss: 0.115946\ttraining's auc: 0.995036\tvalid_1's binary_logloss: 0.130251\tvalid_1's auc: 0.993968\n",
      "[100]\ttraining's binary_logloss: 0.0941161\ttraining's auc: 0.995782\tvalid_1's binary_logloss: 0.108418\tvalid_1's auc: 0.994653\n",
      "[120]\ttraining's binary_logloss: 0.0810619\ttraining's auc: 0.996436\tvalid_1's binary_logloss: 0.0945204\tvalid_1's auc: 0.995465\n",
      "[140]\ttraining's binary_logloss: 0.071739\ttraining's auc: 0.99719\tvalid_1's binary_logloss: 0.0837593\tvalid_1's auc: 0.996227\n",
      "[160]\ttraining's binary_logloss: 0.0650052\ttraining's auc: 0.997646\tvalid_1's binary_logloss: 0.0774918\tvalid_1's auc: 0.996967\n",
      "[180]\ttraining's binary_logloss: 0.0599603\ttraining's auc: 0.997952\tvalid_1's binary_logloss: 0.0742997\tvalid_1's auc: 0.997332\n",
      "[200]\ttraining's binary_logloss: 0.0563349\ttraining's auc: 0.998151\tvalid_1's binary_logloss: 0.0737827\tvalid_1's auc: 0.997492\n",
      "[220]\ttraining's binary_logloss: 0.0532791\ttraining's auc: 0.998327\tvalid_1's binary_logloss: 0.0749273\tvalid_1's auc: 0.997633\n",
      "[240]\ttraining's binary_logloss: 0.0508059\ttraining's auc: 0.998468\tvalid_1's binary_logloss: 0.0738429\tvalid_1's auc: 0.997782\n",
      "[260]\ttraining's binary_logloss: 0.0487624\ttraining's auc: 0.998585\tvalid_1's binary_logloss: 0.0746742\tvalid_1's auc: 0.997859\n",
      "[280]\ttraining's binary_logloss: 0.0469452\ttraining's auc: 0.998692\tvalid_1's binary_logloss: 0.0742017\tvalid_1's auc: 0.997949\n",
      "Early stopping, best iteration is:\n",
      "[237]\ttraining's binary_logloss: 0.0511273\ttraining's auc: 0.998452\tvalid_1's binary_logloss: 0.0720834\tvalid_1's auc: 0.997788\n"
     ]
    }
   ],
   "source": [
    "params = {\n",
    "          'num_leaves': 31,\n",
    "          'min_data_in_leaf': 20,\n",
    "          'objective': 'binary', # 定义的目标函数\n",
    "          'max_depth': -1,\n",
    "          'learning_rate': 0.03,\n",
    "          \"min_sum_hessian_in_leaf\": 6,\n",
    "          \"boosting\": \"gbdt\", \n",
    "          \"feature_fraction\": 0.9,  # 提取的特征比率\n",
    "          \"bagging_freq\": 1,\n",
    "          \"bagging_fraction\": 0.8,\n",
    "          \"bagging_seed\": 11,\n",
    "          \"lambda_l1\": 0.1,       # l1正则\n",
    "          'lambda_l2': 0.001,     # l2正则\n",
    "          \"verbosity\": -1,\n",
    "          \"nthread\": 16,          # 线程数量，-1表示全部线程，线程越多，运行的速度越快\n",
    "          'metric': {'binary_logloss', 'auc'},  ##评价函数选择\n",
    "          \"random_state\": 42,     #随机数种子，可以防止每次运行的结果不一致\n",
    "          }\n",
    "\n",
    "trn_data = lgb.Dataset(X_train_10w, label=y_train_10w)\n",
    "tst_data = lgb.Dataset(X_test_10w, label=y_test_10w)\n",
    "lgb_clf = lgb.train(params, \n",
    "                    trn_data,\n",
    "                    10000,\n",
    "                    valid_sets=[trn_data, tst_data],\n",
    "                    verbose_eval=20,\n",
    "                    early_stopping_rounds=60)\n",
    "pickle.dump(lgb_clf, open('model/lgb/lgb_10w.pkl', 'wb'))"
   ]
  },
  {
   "cell_type": "code",
   "execution_count": 147,
   "metadata": {},
   "outputs": [
    {
     "data": {
      "image/png": "[encoded data removed]",
      "text/plain": [
       "<Figure size 864x576 with 1 Axes>"
      ]
     },
     "metadata": {},
     "output_type": "display_data"
    }
   ],
   "source": [
    "lgb_importance_df = pd.DataFrame()\n",
    "lgb_importance_df[\"feature\"] = useful_features_name\n",
    "lgb_importance_df[\"importance\"] = lgb_clf.feature_importance()\n",
    "\n",
    "plt.figure(figsize=(12,8))\n",
    "sns.barplot(x=\"importance\", y=\"feature\", data=lgb_importance_df.sort_values(by=\"importance\",ascending=False))\n",
    "plt.tight_layout()"
   ]
  },
  {
   "cell_type": "code",
   "execution_count": 345,
   "metadata": {},
   "outputs": [
    {
     "name": "stdout",
     "output_type": "stream",
     "text": [
      "Accuracy: 98.2690% \t Precision: 98.4869% \t Recall: 98.3294% \t Roc: 0.9985\tF1: 0.9841\n",
      "Confusion:\n",
      "[[44765   822]\n",
      " [  909 53504]]\n",
      "Accuracy: 97.5250% \t Precision: 98.9348% \t Recall: 96.5266% \t Roc: 0.9978\tF1: 0.9772\n",
      "Confusion:\n",
      "[[ 8917   114]\n",
      " [  381 10588]]\n"
     ]
    }
   ],
   "source": [
    "# lgb_clf = pickle.load(open('model/lgb/lgb_10w.pkl', 'rb'))\n",
    "evaluate_result(y_train_10w, None, lgb_clf.predict(X_train_10w))\n",
    "evaluate_result(y_test_10w, None, lgb_clf.predict(X_test_10w))"
   ]
  },
  {
   "cell_type": "code",
   "execution_count": null,
   "metadata": {},
   "outputs": [],
   "source": []
  },
  {
   "cell_type": "markdown",
   "metadata": {},
   "source": [
    "## 4.2 Deep Learning"
   ]
  },
  {
   "cell_type": "markdown",
   "metadata": {},
   "source": [
    "### DNN"
   ]
  },
  {
   "cell_type": "code",
   "execution_count": 333,
   "metadata": {},
   "outputs": [],
   "source": [
    "def create_dnn_model():\n",
    "    model = Sequential()\n",
    "    model.add(Dense(128, activation='relu', input_dim=45))\n",
    "    model.add(Dropout(rate=0.5))\n",
    "    model.add(Dense(64, activation='relu'))\n",
    "    model.add(Dropout(rate=0.5))\n",
    "    model.add(Dense(1, activation='sigmoid'))\n",
    "    model.compile(loss='binary_crossentropy', \n",
    "                  optimizer='adam',\n",
    "                  metrics=['accuracy'])\n",
    "    return model"
   ]
  },
  {
   "cell_type": "code",
   "execution_count": 336,
   "metadata": {
    "scrolled": true
   },
   "outputs": [],
   "source": [
    "dnn_model = create_dnn_model()\n",
    "\n",
    "filepath = 'model/dnn/dnn_model_weights.best.h5'\n",
    "checkpoint = ModelCheckpoint(filepath=filepath, monitor='val_acc', verbose=0,\n",
    "                            save_best_only=True, mode='max')\n",
    "early_stopping = EarlyStopping(monitor='val_acc', patience=5)\n",
    "callback_list = [checkpoint, early_stopping]\n",
    "\n",
    "dnn_history=dnn_model.fit(X_train_10w, y_train_10w, epochs=500, batch_size=256, shuffle=True,\n",
    "              validation_split=0.1, callbacks=callback_list, verbose=1)  # 训练模型\n",
    "\n",
    "json_string = dnn_model.to_json()  # 保存模型结构\n",
    "open('model/dnn/dnn_model_architecture.json', 'w').write(json_string)\n",
    "\n",
    "pickle.dump(dnn_history.history, open('model/dnn/dnn_history.pkl', 'wb'))"
   ]
  },
  {
   "cell_type": "code",
   "execution_count": 346,
   "metadata": {},
   "outputs": [
    {
     "name": "stdout",
     "output_type": "stream",
     "text": [
      "Accuracy: 97.1040% \t Precision: 97.5644% \t Recall: 97.1018% \t Roc: 0.9962\tF1: 0.9733\n",
      "Confusion:\n",
      "[[44268  1319]\n",
      " [ 1577 52836]]\n",
      "Accuracy: 97.2550% \t Precision: 97.7019% \t Recall: 97.2833% \t Roc: 0.9964\tF1: 0.9749\n",
      "Confusion:\n",
      "[[ 8780   251]\n",
      " [  298 10671]]\n"
     ]
    }
   ],
   "source": [
    "dnn_model = load_model('dnn')\n",
    "evaluate_result(y_train_10w, None, dnn_model.predict(X_train_10w))\n",
    "evaluate_result(y_test_10w, None, dnn_model.predict(X_test_10w))"
   ]
  },
  {
   "cell_type": "code",
   "execution_count": 338,
   "metadata": {},
   "outputs": [
    {
     "data": {
      "text/plain": [
       "<matplotlib.legend.Legend at 0x7fce293a22e8>"
      ]
     },
     "execution_count": 338,
     "metadata": {},
     "output_type": "execute_result"
    },
    {
     "data": {
      "image/png": "[encoded data removed]",
      "text/plain": [
       "<Figure size 432x288 with 1 Axes>"
      ]
     },
     "metadata": {},
     "output_type": "display_data"
    }
   ],
   "source": [
    "plt.plot(dnn_history.history['loss'])\n",
    "plt.plot(dnn_history.history['val_loss'])\n",
    "\n",
    "plt.xlabel('Epoch')\n",
    "plt.ylabel('Binary Crossentropy')\n",
    "plt.title('Loss Over Time')\n",
    "plt.legend(['Train','Valid'])"
   ]
  },
  {
   "cell_type": "code",
   "execution_count": null,
   "metadata": {},
   "outputs": [],
   "source": []
  },
  {
   "cell_type": "markdown",
   "metadata": {},
   "source": [
    "### LSTM "
   ]
  },
  {
   "cell_type": "code",
   "execution_count": 155,
   "metadata": {},
   "outputs": [],
   "source": [
    "def create_lstm_model():\n",
    "    model = Sequential()\n",
    "    model.add(Embedding(domain_max_features, \n",
    "                        128, \n",
    "                        input_length=domain_maxlen))\n",
    "    model.add(LSTM(128))\n",
    "    model.add(Dropout(rate=0.5))\n",
    "    model.add(Dense(1, activation='sigmoid'))\n",
    "    model.compile(loss='binary_crossentropy', \n",
    "                  optimizer='adam',\n",
    "                  metrics=['accuracy'])\n",
    "    return model"
   ]
  },
  {
   "cell_type": "code",
   "execution_count": 347,
   "metadata": {
    "scrolled": true
   },
   "outputs": [
    {
     "name": "stdout",
     "output_type": "stream",
     "text": [
      "Train on 90000 samples, validate on 10000 samples\n",
      "Epoch 1/500\n",
      "90000/90000 [==============================] - 37s - loss: 0.2458 - acc: 0.9053 - val_loss: 0.1972 - val_acc: 0.9244\n",
      "Epoch 2/500\n",
      "90000/90000 [==============================] - 32s - loss: 0.1689 - acc: 0.9387 - val_loss: 0.1483 - val_acc: 0.9487\n",
      "Epoch 3/500\n",
      "90000/90000 [==============================] - 32s - loss: 0.1364 - acc: 0.9518 - val_loss: 0.1242 - val_acc: 0.9563\n",
      "Epoch 4/500\n",
      "90000/90000 [==============================] - 31s - loss: 0.1236 - acc: 0.9559 - val_loss: 0.1133 - val_acc: 0.9614\n",
      "Epoch 5/500\n",
      "90000/90000 [==============================] - 32s - loss: 0.0994 - acc: 0.9659 - val_loss: 0.0930 - val_acc: 0.9687\n",
      "Epoch 6/500\n",
      "90000/90000 [==============================] - 32s - loss: 0.0859 - acc: 0.9709 - val_loss: 0.0878 - val_acc: 0.9703\n",
      "Epoch 7/500\n",
      "90000/90000 [==============================] - 31s - loss: 0.0793 - acc: 0.9730 - val_loss: 0.0801 - val_acc: 0.9728\n",
      "Epoch 8/500\n",
      "90000/90000 [==============================] - 32s - loss: 0.0738 - acc: 0.9750 - val_loss: 0.0780 - val_acc: 0.9735\n",
      "Epoch 9/500\n",
      "90000/90000 [==============================] - 32s - loss: 0.0700 - acc: 0.9763 - val_loss: 0.0743 - val_acc: 0.9754\n",
      "Epoch 10/500\n",
      "90000/90000 [==============================] - 32s - loss: 0.0649 - acc: 0.9780 - val_loss: 0.0702 - val_acc: 0.9772\n",
      "Epoch 11/500\n",
      "90000/90000 [==============================] - 32s - loss: 0.0607 - acc: 0.9797 - val_loss: 0.0753 - val_acc: 0.9756\n",
      "Epoch 12/500\n",
      "90000/90000 [==============================] - 32s - loss: 0.0567 - acc: 0.9812 - val_loss: 0.0641 - val_acc: 0.9784\n",
      "Epoch 13/500\n",
      "90000/90000 [==============================] - 32s - loss: 0.0531 - acc: 0.9822 - val_loss: 0.0608 - val_acc: 0.9808\n",
      "Epoch 14/500\n",
      "90000/90000 [==============================] - 32s - loss: 0.0506 - acc: 0.9831 - val_loss: 0.0586 - val_acc: 0.9811\n",
      "Epoch 15/500\n",
      "90000/90000 [==============================] - 31s - loss: 0.0472 - acc: 0.9846 - val_loss: 0.0587 - val_acc: 0.9813\n",
      "Epoch 16/500\n",
      "90000/90000 [==============================] - 33s - loss: 0.0448 - acc: 0.9850 - val_loss: 0.0537 - val_acc: 0.9822\n",
      "Epoch 17/500\n",
      "90000/90000 [==============================] - 32s - loss: 0.0426 - acc: 0.9857 - val_loss: 0.0574 - val_acc: 0.9820\n",
      "Epoch 18/500\n",
      "90000/90000 [==============================] - 33s - loss: 0.0391 - acc: 0.9870 - val_loss: 0.0515 - val_acc: 0.9837\n",
      "Epoch 19/500\n",
      "90000/90000 [==============================] - 32s - loss: 0.0380 - acc: 0.9874 - val_loss: 0.0508 - val_acc: 0.9828\n",
      "Epoch 20/500\n",
      "90000/90000 [==============================] - 32s - loss: 0.0353 - acc: 0.9881 - val_loss: 0.0495 - val_acc: 0.9842\n",
      "Epoch 21/500\n",
      "90000/90000 [==============================] - 33s - loss: 0.0337 - acc: 0.9889 - val_loss: 0.0534 - val_acc: 0.9833\n",
      "Epoch 22/500\n",
      "90000/90000 [==============================] - 33s - loss: 0.0320 - acc: 0.9895 - val_loss: 0.0513 - val_acc: 0.9829\n",
      "Epoch 23/500\n",
      "90000/90000 [==============================] - 32s - loss: 0.0294 - acc: 0.9903 - val_loss: 0.0525 - val_acc: 0.9832\n",
      "Epoch 24/500\n",
      "90000/90000 [==============================] - 31s - loss: 0.0270 - acc: 0.9914 - val_loss: 0.0607 - val_acc: 0.9839\n",
      "Epoch 25/500\n",
      "90000/90000 [==============================] - 31s - loss: 0.0261 - acc: 0.9912 - val_loss: 0.0517 - val_acc: 0.9850\n",
      "Epoch 26/500\n",
      "90000/90000 [==============================] - 31s - loss: 0.0240 - acc: 0.9920 - val_loss: 0.0543 - val_acc: 0.9846\n",
      "Epoch 27/500\n",
      "90000/90000 [==============================] - 31s - loss: 0.0226 - acc: 0.9926 - val_loss: 0.0570 - val_acc: 0.9844\n",
      "Epoch 28/500\n",
      "90000/90000 [==============================] - 31s - loss: 0.0214 - acc: 0.9929 - val_loss: 0.0603 - val_acc: 0.9845\n",
      "Epoch 29/500\n",
      "90000/90000 [==============================] - 31s - loss: 0.0204 - acc: 0.9932 - val_loss: 0.0544 - val_acc: 0.9852\n",
      "Epoch 30/500\n",
      "90000/90000 [==============================] - 31s - loss: 0.0181 - acc: 0.9940 - val_loss: 0.0560 - val_acc: 0.9851\n",
      "Epoch 31/500\n",
      "90000/90000 [==============================] - 32s - loss: 0.0158 - acc: 0.9950 - val_loss: 0.0586 - val_acc: 0.9853\n",
      "Epoch 32/500\n",
      "90000/90000 [==============================] - 31s - loss: 0.0151 - acc: 0.9950 - val_loss: 0.0615 - val_acc: 0.9844\n",
      "Epoch 33/500\n",
      "90000/90000 [==============================] - 32s - loss: 0.0148 - acc: 0.9950 - val_loss: 0.0630 - val_acc: 0.9852\n",
      "Epoch 34/500\n",
      "90000/90000 [==============================] - 33s - loss: 0.0141 - acc: 0.9954 - val_loss: 0.0719 - val_acc: 0.9818\n",
      "Epoch 35/500\n",
      "90000/90000 [==============================] - 31s - loss: 0.0129 - acc: 0.9954 - val_loss: 0.0627 - val_acc: 0.9848\n",
      "Epoch 36/500\n",
      "90000/90000 [==============================] - 32s - loss: 0.0128 - acc: 0.9957 - val_loss: 0.0624 - val_acc: 0.9855\n",
      "Epoch 37/500\n",
      "90000/90000 [==============================] - 32s - loss: 0.0107 - acc: 0.9964 - val_loss: 0.0703 - val_acc: 0.9850\n",
      "Epoch 38/500\n",
      "90000/90000 [==============================] - 33s - loss: 0.0109 - acc: 0.9965 - val_loss: 0.0637 - val_acc: 0.9855\n",
      "Epoch 39/500\n",
      "90000/90000 [==============================] - 32s - loss: 0.0078 - acc: 0.9974 - val_loss: 0.0703 - val_acc: 0.9853\n",
      "Epoch 40/500\n",
      "90000/90000 [==============================] - 32s - loss: 0.0070 - acc: 0.9978 - val_loss: 0.0698 - val_acc: 0.9854\n",
      "Epoch 41/500\n",
      "90000/90000 [==============================] - 31s - loss: 0.0087 - acc: 0.9970 - val_loss: 0.0724 - val_acc: 0.9852\n",
      "Epoch 42/500\n",
      "90000/90000 [==============================] - 32s - loss: 0.0075 - acc: 0.9974 - val_loss: 0.0700 - val_acc: 0.9860\n",
      "Epoch 43/500\n",
      "90000/90000 [==============================] - 33s - loss: 0.0067 - acc: 0.9976 - val_loss: 0.0869 - val_acc: 0.9831\n",
      "Epoch 44/500\n",
      "90000/90000 [==============================] - 33s - loss: 0.0056 - acc: 0.9982 - val_loss: 0.0788 - val_acc: 0.9843\n",
      "Epoch 45/500\n",
      "90000/90000 [==============================] - 32s - loss: 0.0056 - acc: 0.9982 - val_loss: 0.0857 - val_acc: 0.9835\n",
      "Epoch 46/500\n",
      "90000/90000 [==============================] - 31s - loss: 0.0054 - acc: 0.9983 - val_loss: 0.0818 - val_acc: 0.9837\n",
      "Epoch 47/500\n",
      "90000/90000 [==============================] - 31s - loss: 0.0053 - acc: 0.9982 - val_loss: 0.0861 - val_acc: 0.9846\n",
      "Epoch 48/500\n",
      "90000/90000 [==============================] - 31s - loss: 0.0039 - acc: 0.9987 - val_loss: 0.0887 - val_acc: 0.9844\n"
     ]
    }
   ],
   "source": [
    "lstm_model = create_lstm_model()\n",
    "\n",
    "filepath = 'model/lstm/lstm_model_weights.best.h5'\n",
    "checkpoint = ModelCheckpoint(filepath=filepath, monitor='val_acc', verbose=0,\n",
    "                            save_best_only=True, mode='max')\n",
    "early_stopping = EarlyStopping(monitor='val_acc', patience=5)\n",
    "callback_list = [checkpoint, early_stopping]\n",
    "\n",
    "lstm_history = lstm_model.fit(X_train_deep_10w, y_train_deep_10w, \n",
    "              epochs=500, batch_size=256, shuffle=True,\n",
    "              validation_split=0.1, callbacks=callback_list, verbose=1)  # 训练模型\n",
    "\n",
    "json_string = lstm_model.to_json()  # 保存模型结构\n",
    "open('model/lstm/lstm_model_architecture.json', 'w').write(json_string)\n",
    "\n",
    "pickle.dump(lstm_history.history, open('model/lstm/lstm_history.pkl', 'wb'))"
   ]
  },
  {
   "cell_type": "code",
   "execution_count": 348,
   "metadata": {},
   "outputs": [
    {
     "name": "stdout",
     "output_type": "stream",
     "text": [
      "Accuracy: 99.7540% \t Precision: 99.8307% \t Recall: 99.7170% \t Roc: 0.9998\tF1: 0.9977\n",
      "Confusion:\n",
      "[[45495    92]\n",
      " [  154 54259]]\n",
      "Accuracy: 98.4750% \t Precision: 98.7921% \t Recall: 98.4228% \t Roc: 0.9977\tF1: 0.9861\n",
      "Confusion:\n",
      "[[ 8899   132]\n",
      " [  173 10796]]\n"
     ]
    }
   ],
   "source": [
    "lstm_model = load_model('lstm')\n",
    "evaluate_result(y_train_deep_10w, None, lstm_model.predict(X_train_deep_10w))\n",
    "evaluate_result(y_test_deep_10w, None, lstm_model.predict(X_test_deep_10w))"
   ]
  },
  {
   "cell_type": "code",
   "execution_count": 349,
   "metadata": {},
   "outputs": [
    {
     "data": {
      "text/plain": [
       "<matplotlib.legend.Legend at 0x7fce283d5ba8>"
      ]
     },
     "execution_count": 349,
     "metadata": {},
     "output_type": "execute_result"
    },
    {
     "data": {
      "image/png": "[encoded data removed]",
      "text/plain": [
       "<Figure size 432x288 with 1 Axes>"
      ]
     },
     "metadata": {},
     "output_type": "display_data"
    }
   ],
   "source": [
    "plt.plot(lstm_history.history['loss'])\n",
    "plt.plot(lstm_history.history['val_loss'])\n",
    "\n",
    "plt.xlabel('Epoch')\n",
    "plt.ylabel('Binary Crossentropy')\n",
    "plt.title('Loss Over Time')\n",
    "plt.legend(['Train','Valid'])"
   ]
  },
  {
   "cell_type": "markdown",
   "metadata": {},
   "source": [
    "### biLSTM"
   ]
  },
  {
   "cell_type": "code",
   "execution_count": 354,
   "metadata": {},
   "outputs": [],
   "source": [
    "def create_bilstm_model():\n",
    "    model = Sequential()\n",
    "    model.add(Embedding(domain_max_features, \n",
    "                        128, \n",
    "                        input_length=domain_maxlen))\n",
    "    model.add(Bidirectional(LSTM(128, return_sequences=True)))\n",
    "    model.add(att.AttentionLayer())\n",
    "    model.add(Dense(1, activation='sigmoid'))\n",
    "    model.compile(loss='binary_crossentropy', \n",
    "                  optimizer='adam',\n",
    "                  metrics=['accuracy'])\n",
    "    return model"
   ]
  },
  {
   "cell_type": "code",
   "execution_count": 355,
   "metadata": {
    "scrolled": true
   },
   "outputs": [
    {
     "name": "stdout",
     "output_type": "stream",
     "text": [
      "Train on 90000 samples, validate on 10000 samples\n",
      "Epoch 1/500\n",
      "90000/90000 [==============================] - 66s - loss: 0.2707 - acc: 0.8849 - val_loss: 0.2077 - val_acc: 0.9191\n",
      "Epoch 2/500\n",
      "90000/90000 [==============================] - 63s - loss: 0.1867 - acc: 0.9279 - val_loss: 0.1749 - val_acc: 0.9344\n",
      "Epoch 3/500\n",
      "90000/90000 [==============================] - 62s - loss: 0.1559 - acc: 0.9416 - val_loss: 0.1521 - val_acc: 0.9443\n",
      "Epoch 4/500\n",
      "90000/90000 [==============================] - 62s - loss: 0.1339 - acc: 0.9505 - val_loss: 0.1296 - val_acc: 0.9527\n",
      "Epoch 5/500\n",
      "90000/90000 [==============================] - 62s - loss: 0.1239 - acc: 0.9547 - val_loss: 0.1160 - val_acc: 0.9586\n",
      "Epoch 6/500\n",
      "90000/90000 [==============================] - 63s - loss: 0.0973 - acc: 0.9649 - val_loss: 0.0981 - val_acc: 0.9644\n",
      "Epoch 7/500\n",
      "90000/90000 [==============================] - 63s - loss: 0.0849 - acc: 0.9696 - val_loss: 0.0811 - val_acc: 0.9717\n",
      "Epoch 8/500\n",
      "90000/90000 [==============================] - 61s - loss: 0.0696 - acc: 0.9756 - val_loss: 0.0721 - val_acc: 0.9750\n",
      "Epoch 9/500\n",
      "90000/90000 [==============================] - 62s - loss: 0.0627 - acc: 0.9785 - val_loss: 0.0766 - val_acc: 0.9740\n",
      "Epoch 10/500\n",
      "90000/90000 [==============================] - 62s - loss: 0.0552 - acc: 0.9813 - val_loss: 0.0647 - val_acc: 0.9787\n",
      "Epoch 11/500\n",
      "90000/90000 [==============================] - 62s - loss: 0.0514 - acc: 0.9830 - val_loss: 0.0581 - val_acc: 0.9803\n",
      "Epoch 12/500\n",
      "90000/90000 [==============================] - 61s - loss: 0.0471 - acc: 0.9842 - val_loss: 0.0554 - val_acc: 0.9821\n",
      "Epoch 13/500\n",
      "90000/90000 [==============================] - 61s - loss: 0.0429 - acc: 0.9858 - val_loss: 0.0546 - val_acc: 0.9832\n",
      "Epoch 14/500\n",
      "90000/90000 [==============================] - 61s - loss: 0.0395 - acc: 0.9871 - val_loss: 0.0523 - val_acc: 0.9828\n",
      "Epoch 15/500\n",
      "90000/90000 [==============================] - 61s - loss: 0.0368 - acc: 0.9879 - val_loss: 0.0543 - val_acc: 0.9822\n",
      "Epoch 16/500\n",
      "90000/90000 [==============================] - 61s - loss: 0.0342 - acc: 0.9892 - val_loss: 0.0520 - val_acc: 0.9826\n",
      "Epoch 17/500\n",
      "90000/90000 [==============================] - 60s - loss: 0.0314 - acc: 0.9902 - val_loss: 0.0584 - val_acc: 0.9825\n",
      "Epoch 18/500\n",
      "90000/90000 [==============================] - 62s - loss: 0.0302 - acc: 0.9902 - val_loss: 0.0517 - val_acc: 0.9831\n",
      "Epoch 19/500\n",
      "90000/90000 [==============================] - 61s - loss: 0.0278 - acc: 0.9912 - val_loss: 0.0521 - val_acc: 0.9840\n",
      "Epoch 20/500\n",
      "90000/90000 [==============================] - 60s - loss: 0.0242 - acc: 0.9924 - val_loss: 0.0509 - val_acc: 0.9845\n",
      "Epoch 21/500\n",
      "90000/90000 [==============================] - 60s - loss: 0.0221 - acc: 0.9933 - val_loss: 0.0530 - val_acc: 0.9848\n",
      "Epoch 22/500\n",
      "90000/90000 [==============================] - 60s - loss: 0.0203 - acc: 0.9936 - val_loss: 0.0513 - val_acc: 0.9858\n",
      "Epoch 23/500\n",
      "90000/90000 [==============================] - 61s - loss: 0.0194 - acc: 0.9941 - val_loss: 0.0552 - val_acc: 0.9847\n",
      "Epoch 24/500\n",
      "90000/90000 [==============================] - 60s - loss: 0.0170 - acc: 0.9949 - val_loss: 0.0554 - val_acc: 0.9842\n",
      "Epoch 25/500\n",
      "90000/90000 [==============================] - 60s - loss: 0.0159 - acc: 0.9951 - val_loss: 0.0558 - val_acc: 0.9852\n",
      "Epoch 26/500\n",
      "90000/90000 [==============================] - 61s - loss: 0.0136 - acc: 0.9960 - val_loss: 0.0632 - val_acc: 0.9830\n",
      "Epoch 27/500\n",
      "90000/90000 [==============================] - 61s - loss: 0.0131 - acc: 0.9962 - val_loss: 0.0631 - val_acc: 0.9834\n",
      "Epoch 28/500\n",
      "90000/90000 [==============================] - 60s - loss: 0.0128 - acc: 0.9960 - val_loss: 0.0579 - val_acc: 0.9857\n"
     ]
    }
   ],
   "source": [
    "reload(att)\n",
    "bilstm_model = create_bilstm_model()\n",
    "\n",
    "filepath = 'model/bilstm/bilstm_model_weights.best.h5'\n",
    "checkpoint = ModelCheckpoint(filepath=filepath, monitor='val_acc', verbose=0,\n",
    "                            save_best_only=True, mode='max')\n",
    "early_stopping = EarlyStopping(monitor='val_acc', patience=5)\n",
    "callback_list = [checkpoint, early_stopping]\n",
    "\n",
    "bilstm_history = bilstm_model.fit(X_train_deep_10w, y_train_deep_10w, \n",
    "              epochs=500, batch_size=256, shuffle=True,\n",
    "              validation_split=0.1, callbacks=callback_list, verbose=1)  # 训练模型\n",
    "\n",
    "json_string = bilstm_model.to_json()  # 保存模型结构\n",
    "open('model/bilstm/bilstm_model_architecture.json', 'w').write(json_string)\n",
    "\n",
    "pickle.dump(bilstm_history.history, open('model/bilstm/bilstm_history.pkl', 'wb'))"
   ]
  },
  {
   "cell_type": "code",
   "execution_count": 356,
   "metadata": {},
   "outputs": [
    {
     "name": "stdout",
     "output_type": "stream",
     "text": [
      "Accuracy: 99.4350% \t Precision: 99.6240% \t Recall: 99.3366% \t Roc: 0.9994\tF1: 0.9948\n",
      "Confusion:\n",
      "[[45383   204]\n",
      " [  361 54052]]\n",
      "Accuracy: 98.4350% \t Precision: 98.8538% \t Recall: 98.2861% \t Roc: 0.9974\tF1: 0.9857\n",
      "Confusion:\n",
      "[[ 8906   125]\n",
      " [  188 10781]]\n"
     ]
    }
   ],
   "source": [
    "bilstm_model = load_model('bilstm')\n",
    "evaluate_result(y_train_deep_10w, None, bilstm_model.predict(X_train_deep_10w))\n",
    "evaluate_result(y_test_deep_10w, None, bilstm_model.predict(X_test_deep_10w))"
   ]
  },
  {
   "cell_type": "code",
   "execution_count": 357,
   "metadata": {},
   "outputs": [
    {
     "data": {
      "text/plain": [
       "<matplotlib.legend.Legend at 0x7fce261f4eb8>"
      ]
     },
     "execution_count": 357,
     "metadata": {},
     "output_type": "execute_result"
    },
    {
     "data": {
      "image/png": "[encoded data removed]",
      "text/plain": [
       "<Figure size 432x288 with 1 Axes>"
      ]
     },
     "metadata": {},
     "output_type": "display_data"
    }
   ],
   "source": [
    "plt.plot(bilstm_history.history['loss'])\n",
    "plt.plot(bilstm_history.history['val_loss'])\n",
    "\n",
    "plt.xlabel('Epoch')\n",
    "plt.ylabel('Binary Crossentropy')\n",
    "plt.title('Loss Over Time')\n",
    "plt.legend(['Train','Valid'])"
   ]
  },
  {
   "cell_type": "markdown",
   "metadata": {},
   "source": [
    "### GRU"
   ]
  },
  {
   "cell_type": "code",
   "execution_count": 358,
   "metadata": {},
   "outputs": [],
   "source": [
    "def create_gru_model():\n",
    "    model = Sequential()\n",
    "    model.add(Embedding(domain_max_features, \n",
    "                        128, \n",
    "                        input_length=domain_maxlen))\n",
    "    model.add(GRU(128))\n",
    "    model.add(Dropout(rate=0.5))\n",
    "    model.add(Dense(1, activation='sigmoid'))\n",
    "    model.compile(loss='binary_crossentropy', \n",
    "                  optimizer='adam',\n",
    "                  metrics=['accuracy'])\n",
    "    return model"
   ]
  },
  {
   "cell_type": "code",
   "execution_count": 359,
   "metadata": {
    "scrolled": true
   },
   "outputs": [
    {
     "name": "stdout",
     "output_type": "stream",
     "text": [
      "Train on 90000 samples, validate on 10000 samples\n",
      "Epoch 1/500\n",
      "90000/90000 [==============================] - 32s - loss: 0.2324 - acc: 0.9128 - val_loss: 0.1801 - val_acc: 0.9341\n",
      "Epoch 2/500\n",
      "90000/90000 [==============================] - 28s - loss: 0.1565 - acc: 0.9437 - val_loss: 0.1451 - val_acc: 0.9490\n",
      "Epoch 3/500\n",
      "90000/90000 [==============================] - 28s - loss: 0.1257 - acc: 0.9560 - val_loss: 0.1122 - val_acc: 0.9601\n",
      "Epoch 4/500\n",
      "90000/90000 [==============================] - 28s - loss: 0.0982 - acc: 0.9659 - val_loss: 0.0876 - val_acc: 0.9699\n",
      "Epoch 5/500\n",
      "90000/90000 [==============================] - 28s - loss: 0.0781 - acc: 0.9734 - val_loss: 0.0747 - val_acc: 0.9751\n",
      "Epoch 6/500\n",
      "90000/90000 [==============================] - 28s - loss: 0.0654 - acc: 0.9780 - val_loss: 0.0659 - val_acc: 0.9764\n",
      "Epoch 7/500\n",
      "90000/90000 [==============================] - 28s - loss: 0.0578 - acc: 0.9808 - val_loss: 0.0616 - val_acc: 0.9797\n",
      "Epoch 8/500\n",
      "90000/90000 [==============================] - 28s - loss: 0.0522 - acc: 0.9829 - val_loss: 0.0583 - val_acc: 0.9805\n",
      "Epoch 9/500\n",
      "90000/90000 [==============================] - 28s - loss: 0.0491 - acc: 0.9834 - val_loss: 0.0602 - val_acc: 0.9805\n",
      "Epoch 10/500\n",
      "90000/90000 [==============================] - 28s - loss: 0.0458 - acc: 0.9852 - val_loss: 0.0555 - val_acc: 0.9821\n",
      "Epoch 11/500\n",
      "90000/90000 [==============================] - 28s - loss: 0.0428 - acc: 0.9858 - val_loss: 0.0514 - val_acc: 0.9824\n",
      "Epoch 12/500\n",
      "90000/90000 [==============================] - 28s - loss: 0.0402 - acc: 0.9871 - val_loss: 0.0495 - val_acc: 0.9844\n",
      "Epoch 13/500\n",
      "90000/90000 [==============================] - 28s - loss: 0.0369 - acc: 0.9882 - val_loss: 0.0522 - val_acc: 0.9827\n",
      "Epoch 14/500\n",
      "90000/90000 [==============================] - 28s - loss: 0.0349 - acc: 0.9885 - val_loss: 0.0511 - val_acc: 0.9824\n",
      "Epoch 15/500\n",
      "90000/90000 [==============================] - 28s - loss: 0.0314 - acc: 0.9898 - val_loss: 0.0555 - val_acc: 0.9821\n",
      "Epoch 16/500\n",
      "90000/90000 [==============================] - 28s - loss: 0.0299 - acc: 0.9902 - val_loss: 0.0465 - val_acc: 0.9844\n",
      "Epoch 17/500\n",
      "90000/90000 [==============================] - 28s - loss: 0.0267 - acc: 0.9918 - val_loss: 0.0481 - val_acc: 0.9848\n",
      "Epoch 18/500\n",
      "90000/90000 [==============================] - 28s - loss: 0.0245 - acc: 0.9922 - val_loss: 0.0501 - val_acc: 0.9844\n",
      "Epoch 19/500\n",
      "90000/90000 [==============================] - 28s - loss: 0.0224 - acc: 0.9929 - val_loss: 0.0506 - val_acc: 0.9848\n",
      "Epoch 20/500\n",
      "90000/90000 [==============================] - 27s - loss: 0.0203 - acc: 0.9934 - val_loss: 0.0519 - val_acc: 0.9838\n",
      "Epoch 21/500\n",
      "90000/90000 [==============================] - 28s - loss: 0.0206 - acc: 0.9938 - val_loss: 0.0593 - val_acc: 0.9825\n",
      "Epoch 22/500\n",
      "90000/90000 [==============================] - 28s - loss: 0.0170 - acc: 0.9945 - val_loss: 0.0555 - val_acc: 0.9839\n",
      "Epoch 23/500\n",
      "90000/90000 [==============================] - 27s - loss: 0.0157 - acc: 0.9951 - val_loss: 0.0512 - val_acc: 0.9864\n",
      "Epoch 24/500\n",
      "90000/90000 [==============================] - 28s - loss: 0.0147 - acc: 0.9952 - val_loss: 0.0566 - val_acc: 0.9849\n",
      "Epoch 25/500\n",
      "90000/90000 [==============================] - 28s - loss: 0.0127 - acc: 0.9963 - val_loss: 0.0586 - val_acc: 0.9856\n",
      "Epoch 26/500\n",
      "90000/90000 [==============================] - 28s - loss: 0.0109 - acc: 0.9963 - val_loss: 0.0628 - val_acc: 0.9848\n",
      "Epoch 27/500\n",
      "90000/90000 [==============================] - 29s - loss: 0.0095 - acc: 0.9970 - val_loss: 0.0665 - val_acc: 0.9836\n",
      "Epoch 28/500\n",
      "90000/90000 [==============================] - 29s - loss: 0.0088 - acc: 0.9971 - val_loss: 0.0665 - val_acc: 0.9847\n",
      "Epoch 29/500\n",
      "90000/90000 [==============================] - 29s - loss: 0.0089 - acc: 0.9972 - val_loss: 0.0726 - val_acc: 0.9845\n"
     ]
    }
   ],
   "source": [
    "gru_model = create_gru_model()\n",
    "\n",
    "filepath = 'model/gru/gru_model_weights.best.h5'\n",
    "checkpoint = ModelCheckpoint(filepath=filepath, monitor='val_acc', verbose=0,\n",
    "                            save_best_only=True, mode='max')\n",
    "early_stopping = EarlyStopping(monitor='val_acc', patience=5)\n",
    "callback_list = [checkpoint, early_stopping]\n",
    "\n",
    "gru_history = gru_model.fit(X_train_deep_10w, y_train_deep_10w, \n",
    "              epochs=500, batch_size=256, shuffle=True,\n",
    "              validation_split=0.1, callbacks=callback_list, verbose=1)  # 训练模型\n",
    "\n",
    "json_string = gru_model.to_json()  # 保存模型结构\n",
    "open('model/gru/gru_model_architecture.json', 'w').write(json_string)\n",
    "\n",
    "pickle.dump(gru_history.history, open('model/gru/gru_history.pkl', 'wb'))"
   ]
  },
  {
   "cell_type": "code",
   "execution_count": 360,
   "metadata": {},
   "outputs": [
    {
     "name": "stdout",
     "output_type": "stream",
     "text": [
      "Accuracy: 99.5890% \t Precision: 99.7421% \t Recall: 99.5020% \t Roc: 0.9997\tF1: 0.9962\n",
      "Confusion:\n",
      "[[45447   140]\n",
      " [  271 54142]]\n",
      "Accuracy: 98.5050% \t Precision: 98.8732% \t Recall: 98.3955% \t Roc: 0.9975\tF1: 0.9863\n",
      "Confusion:\n",
      "[[ 8908   123]\n",
      " [  176 10793]]\n"
     ]
    }
   ],
   "source": [
    "gru_model = load_model('gru')\n",
    "evaluate_result(y_train_deep_10w, None, gru_model.predict(X_train_deep_10w))\n",
    "evaluate_result(y_test_deep_10w, None, gru_model.predict(X_test_deep_10w))"
   ]
  },
  {
   "cell_type": "code",
   "execution_count": 361,
   "metadata": {},
   "outputs": [
    {
     "data": {
      "text/plain": [
       "<matplotlib.legend.Legend at 0x7fce25469ba8>"
      ]
     },
     "execution_count": 361,
     "metadata": {},
     "output_type": "execute_result"
    },
    {
     "data": {
      "image/png": "[encoded data removed]",
      "text/plain": [
       "<Figure size 432x288 with 1 Axes>"
      ]
     },
     "metadata": {},
     "output_type": "display_data"
    }
   ],
   "source": [
    "plt.plot(gru_history.history['loss'])\n",
    "plt.plot(gru_history.history['val_loss'])\n",
    "\n",
    "plt.xlabel('Epoch')\n",
    "plt.ylabel('Binary Crossentropy')\n",
    "plt.title('Loss Over Time')\n",
    "plt.legend(['Train','Valid'])"
   ]
  },
  {
   "cell_type": "markdown",
   "metadata": {},
   "source": [
    "### biGRU"
   ]
  },
  {
   "cell_type": "code",
   "execution_count": 362,
   "metadata": {},
   "outputs": [],
   "source": [
    "def create_bigru_model():\n",
    "    model = Sequential()\n",
    "    model.add(Embedding(domain_max_features, \n",
    "                        128, \n",
    "                        input_length=domain_maxlen))\n",
    "    model.add(Bidirectional(GRU(128, return_sequences=True)))\n",
    "    model.add(att.AttentionLayer())\n",
    "    model.add(Dense(1, activation='sigmoid'))\n",
    "    model.compile(loss='binary_crossentropy', \n",
    "                  optimizer='adam',\n",
    "                  metrics=['accuracy'])\n",
    "    return model"
   ]
  },
  {
   "cell_type": "code",
   "execution_count": 363,
   "metadata": {
    "scrolled": true
   },
   "outputs": [
    {
     "name": "stdout",
     "output_type": "stream",
     "text": [
      "Train on 90000 samples, validate on 10000 samples\n",
      "Epoch 1/500\n",
      "90000/90000 [==============================] - 57s - loss: 0.2667 - acc: 0.8882 - val_loss: 0.2060 - val_acc: 0.9203\n",
      "Epoch 2/500\n",
      "90000/90000 [==============================] - 52s - loss: 0.1651 - acc: 0.9389 - val_loss: 0.1495 - val_acc: 0.9467\n",
      "Epoch 3/500\n",
      "90000/90000 [==============================] - 51s - loss: 0.1268 - acc: 0.9552 - val_loss: 0.1222 - val_acc: 0.9574\n",
      "Epoch 4/500\n",
      "90000/90000 [==============================] - 50s - loss: 0.1048 - acc: 0.9633 - val_loss: 0.1025 - val_acc: 0.9649\n",
      "Epoch 5/500\n",
      "90000/90000 [==============================] - 50s - loss: 0.0876 - acc: 0.9692 - val_loss: 0.0863 - val_acc: 0.9687\n",
      "Epoch 6/500\n",
      "90000/90000 [==============================] - 50s - loss: 0.0709 - acc: 0.9748 - val_loss: 0.0701 - val_acc: 0.9746\n",
      "Epoch 7/500\n",
      "90000/90000 [==============================] - 50s - loss: 0.0659 - acc: 0.9771 - val_loss: 0.0666 - val_acc: 0.9781\n",
      "Epoch 8/500\n",
      "90000/90000 [==============================] - 50s - loss: 0.0549 - acc: 0.9817 - val_loss: 0.0625 - val_acc: 0.9786\n",
      "Epoch 9/500\n",
      "90000/90000 [==============================] - 50s - loss: 0.0494 - acc: 0.9836 - val_loss: 0.0588 - val_acc: 0.9801\n",
      "Epoch 10/500\n",
      "90000/90000 [==============================] - 50s - loss: 0.0456 - acc: 0.9849 - val_loss: 0.0572 - val_acc: 0.9811\n",
      "Epoch 11/500\n",
      "90000/90000 [==============================] - 50s - loss: 0.0424 - acc: 0.9860 - val_loss: 0.0509 - val_acc: 0.9828\n",
      "Epoch 12/500\n",
      "90000/90000 [==============================] - 50s - loss: 0.0391 - acc: 0.9875 - val_loss: 0.0523 - val_acc: 0.9817\n",
      "Epoch 13/500\n",
      "90000/90000 [==============================] - 50s - loss: 0.0362 - acc: 0.9882 - val_loss: 0.0482 - val_acc: 0.9834\n",
      "Epoch 14/500\n",
      "90000/90000 [==============================] - 50s - loss: 0.0321 - acc: 0.9896 - val_loss: 0.0501 - val_acc: 0.9836\n",
      "Epoch 15/500\n",
      "90000/90000 [==============================] - 50s - loss: 0.0321 - acc: 0.9895 - val_loss: 0.0513 - val_acc: 0.9834\n",
      "Epoch 16/500\n",
      "90000/90000 [==============================] - 50s - loss: 0.0270 - acc: 0.9915 - val_loss: 0.0484 - val_acc: 0.9837\n",
      "Epoch 17/500\n",
      "90000/90000 [==============================] - 50s - loss: 0.0233 - acc: 0.9926 - val_loss: 0.0490 - val_acc: 0.9848\n",
      "Epoch 18/500\n",
      "90000/90000 [==============================] - 50s - loss: 0.0210 - acc: 0.9934 - val_loss: 0.0494 - val_acc: 0.9847\n",
      "Epoch 19/500\n",
      "90000/90000 [==============================] - 50s - loss: 0.0188 - acc: 0.9940 - val_loss: 0.0542 - val_acc: 0.9834\n",
      "Epoch 20/500\n",
      "90000/90000 [==============================] - 50s - loss: 0.0157 - acc: 0.9952 - val_loss: 0.0535 - val_acc: 0.9835\n",
      "Epoch 21/500\n",
      "90000/90000 [==============================] - 51s - loss: 0.0145 - acc: 0.9954 - val_loss: 0.0523 - val_acc: 0.9853\n",
      "Epoch 22/500\n",
      "90000/90000 [==============================] - 50s - loss: 0.0128 - acc: 0.9956 - val_loss: 0.0582 - val_acc: 0.9850\n",
      "Epoch 23/500\n",
      "90000/90000 [==============================] - 50s - loss: 0.0118 - acc: 0.9962 - val_loss: 0.0579 - val_acc: 0.9846\n",
      "Epoch 24/500\n",
      "90000/90000 [==============================] - 51s - loss: 0.0094 - acc: 0.9972 - val_loss: 0.0632 - val_acc: 0.9841\n",
      "Epoch 25/500\n",
      "90000/90000 [==============================] - 50s - loss: 0.0086 - acc: 0.9973 - val_loss: 0.0676 - val_acc: 0.9831\n",
      "Epoch 26/500\n",
      "90000/90000 [==============================] - 50s - loss: 0.0072 - acc: 0.9978 - val_loss: 0.0584 - val_acc: 0.9847\n",
      "Epoch 27/500\n",
      "90000/90000 [==============================] - 50s - loss: 0.0059 - acc: 0.9984 - val_loss: 0.0675 - val_acc: 0.9840\n"
     ]
    }
   ],
   "source": [
    "reload(att)\n",
    "bigru_model = create_bigru_model()\n",
    "\n",
    "filepath = 'model/bigru/bigru_model_weights.best.h5'\n",
    "checkpoint = ModelCheckpoint(filepath=filepath, monitor='val_acc', verbose=0,\n",
    "                            save_best_only=True, mode='max')\n",
    "early_stopping = EarlyStopping(monitor='val_acc', patience=5)\n",
    "callback_list = [checkpoint, early_stopping]\n",
    "\n",
    "bigru_history = bigru_model.fit(X_train_deep_10w, y_train_deep_10w, \n",
    "              epochs=500, batch_size=256, shuffle=True,\n",
    "              validation_split=0.1, callbacks=callback_list, verbose=1)  # 训练模型\n",
    "\n",
    "json_string = bigru_model.to_json()  # 保存模型结构\n",
    "open('model/bigru/bigru_model_architecture.json', 'w').write(json_string)\n",
    "\n",
    "pickle.dump(bigru_history.history, open('model/bigru/bigru_history.pkl', 'wb'))"
   ]
  },
  {
   "cell_type": "code",
   "execution_count": 364,
   "metadata": {},
   "outputs": [
    {
     "name": "stdout",
     "output_type": "stream",
     "text": [
      "Accuracy: 99.5890% \t Precision: 99.7000% \t Recall: 99.5442% \t Roc: 0.9997\tF1: 0.9962\n",
      "Confusion:\n",
      "[[45424   163]\n",
      " [  248 54165]]\n",
      "Accuracy: 98.4200% \t Precision: 98.6572% \t Recall: 98.4593% \t Roc: 0.9977\tF1: 0.9856\n",
      "Confusion:\n",
      "[[ 8884   147]\n",
      " [  169 10800]]\n"
     ]
    }
   ],
   "source": [
    "bigru_model = load_model('bigru')\n",
    "evaluate_result(y_train_deep_10w, None, bigru_model.predict(X_train_deep_10w))\n",
    "evaluate_result(y_test_deep_10w, None, bigru_model.predict(X_test_deep_10w))"
   ]
  },
  {
   "cell_type": "code",
   "execution_count": 365,
   "metadata": {},
   "outputs": [
    {
     "data": {
      "text/plain": [
       "<matplotlib.legend.Legend at 0x7fce23c1ec50>"
      ]
     },
     "execution_count": 365,
     "metadata": {},
     "output_type": "execute_result"
    },
    {
     "data": {
      "image/png": "[encoded data removed]",
      "text/plain": [
       "<Figure size 432x288 with 1 Axes>"
      ]
     },
     "metadata": {},
     "output_type": "display_data"
    }
   ],
   "source": [
    "plt.plot(bigru_history.history['loss'])\n",
    "plt.plot(bigru_history.history['val_loss'])\n",
    "\n",
    "plt.xlabel('Epoch')\n",
    "plt.ylabel('Binary Crossentropy')\n",
    "plt.title('Loss Over Time')\n",
    "plt.legend(['Train','Valid'])"
   ]
  },
  {
   "cell_type": "code",
   "execution_count": null,
   "metadata": {},
   "outputs": [],
   "source": []
  },
  {
   "cell_type": "markdown",
   "metadata": {},
   "source": [
    "## 4.3 Merged Methods"
   ]
  },
  {
   "cell_type": "markdown",
   "metadata": {},
   "source": [
    "### LSTM + DNN\n",
    "- 双模型融合"
   ]
  },
  {
   "cell_type": "code",
   "execution_count": 366,
   "metadata": {},
   "outputs": [],
   "source": [
    "artifical_num=45\n",
    "def create_dnn_lstm_model():\n",
    "    artifical_input = Input(shape=(artifical_num,))\n",
    "    domain_input = Input(shape=(domain_maxlen,))\n",
    "    \n",
    "    # dnn\n",
    "    dnn_dense_1 = Dense(128, activation='relu')(artifical_input)\n",
    "    dnn_dropout_1 = Dropout(rate=0.5)(dnn_dense_1)\n",
    "    dnn_output = Dense(1, activation='sigmoid')(dnn_dropout_1)\n",
    "    dnn_model = Model(inputs=artifical_input, output=dnn_output)\n",
    "    \n",
    "    # lstm\n",
    "    embedding_layer = Embedding(domain_max_features, \n",
    "                                128, \n",
    "                                input_length=domain_maxlen)(domain_input)\n",
    "    lstm_dense = LSTM(128)(embedding_layer)\n",
    "    lstm_dropout = Dropout(rate=0.5)(lstm_dense)\n",
    "    lstm_output = Dense(1, activation='sigmoid')(lstm_dropout)\n",
    "    lstm_model = Model(inputs=domain_input, output=lstm_output)\n",
    "    \n",
    "    # embedding\n",
    "    merged_layer = Concatenate(axis=-1)([dnn_output, lstm_output])\n",
    "    merged_output = Dense(1, activation='sigmoid')(merged_layer)\n",
    "    combined_model = Model(inputs=[dnn_model.input] + [lstm_model.input], output=merged_output)\n",
    "    \n",
    "    # final model\n",
    "    combined_model.compile(loss='binary_crossentropy', optimizer='adam', metrics=['accuracy'])\n",
    "    return combined_model"
   ]
  },
  {
   "cell_type": "code",
   "execution_count": 367,
   "metadata": {
    "scrolled": true
   },
   "outputs": [
    {
     "name": "stdout",
     "output_type": "stream",
     "text": [
      "Train on 90000 samples, validate on 10000 samples\n",
      "Epoch 1/500\n",
      "90000/90000 [==============================] - 40s - loss: 0.4474 - acc: 0.8884 - val_loss: 0.3727 - val_acc: 0.9148\n",
      "Epoch 2/500\n",
      "90000/90000 [==============================] - 35s - loss: 0.3199 - acc: 0.9396 - val_loss: 0.2822 - val_acc: 0.9468\n",
      "Epoch 3/500\n",
      "90000/90000 [==============================] - 33s - loss: 0.2544 - acc: 0.9519 - val_loss: 0.2322 - val_acc: 0.9530\n",
      "Epoch 4/500\n",
      "90000/90000 [==============================] - 33s - loss: 0.2105 - acc: 0.9594 - val_loss: 0.1949 - val_acc: 0.9617\n",
      "Epoch 5/500\n",
      "90000/90000 [==============================] - 33s - loss: 0.1774 - acc: 0.9654 - val_loss: 0.1669 - val_acc: 0.9648\n",
      "Epoch 6/500\n",
      "90000/90000 [==============================] - 33s - loss: 0.1526 - acc: 0.9689 - val_loss: 0.1450 - val_acc: 0.9698\n",
      "Epoch 7/500\n",
      "90000/90000 [==============================] - 34s - loss: 0.1321 - acc: 0.9725 - val_loss: 0.1260 - val_acc: 0.9725\n",
      "Epoch 8/500\n",
      "90000/90000 [==============================] - 34s - loss: 0.1162 - acc: 0.9762 - val_loss: 0.1115 - val_acc: 0.9768\n",
      "Epoch 9/500\n",
      "90000/90000 [==============================] - 33s - loss: 0.1025 - acc: 0.9796 - val_loss: 0.1015 - val_acc: 0.9757\n",
      "Epoch 10/500\n",
      "90000/90000 [==============================] - 33s - loss: 0.0906 - acc: 0.9818 - val_loss: 0.0904 - val_acc: 0.9805\n",
      "Epoch 11/500\n",
      "90000/90000 [==============================] - 33s - loss: 0.0813 - acc: 0.9836 - val_loss: 0.0817 - val_acc: 0.9824\n",
      "Epoch 12/500\n",
      "90000/90000 [==============================] - 33s - loss: 0.0742 - acc: 0.9845 - val_loss: 0.0774 - val_acc: 0.9809\n",
      "Epoch 13/500\n",
      "90000/90000 [==============================] - 33s - loss: 0.0671 - acc: 0.9864 - val_loss: 0.0683 - val_acc: 0.9840\n",
      "Epoch 14/500\n",
      "90000/90000 [==============================] - 33s - loss: 0.0611 - acc: 0.9877 - val_loss: 0.0641 - val_acc: 0.9836\n",
      "Epoch 15/500\n",
      "90000/90000 [==============================] - 33s - loss: 0.0565 - acc: 0.9879 - val_loss: 0.0579 - val_acc: 0.9855\n",
      "Epoch 16/500\n",
      "90000/90000 [==============================] - 33s - loss: 0.0519 - acc: 0.9891 - val_loss: 0.0566 - val_acc: 0.9864\n",
      "Epoch 17/500\n",
      "90000/90000 [==============================] - 33s - loss: 0.0480 - acc: 0.9898 - val_loss: 0.0529 - val_acc: 0.9852\n",
      "Epoch 18/500\n",
      "90000/90000 [==============================] - 34s - loss: 0.0446 - acc: 0.9903 - val_loss: 0.0515 - val_acc: 0.9857\n",
      "Epoch 19/500\n",
      "90000/90000 [==============================] - 34s - loss: 0.0414 - acc: 0.9909 - val_loss: 0.0480 - val_acc: 0.9875\n",
      "Epoch 20/500\n",
      "90000/90000 [==============================] - 34s - loss: 0.0390 - acc: 0.9914 - val_loss: 0.0453 - val_acc: 0.9882\n",
      "Epoch 21/500\n",
      "90000/90000 [==============================] - 33s - loss: 0.0361 - acc: 0.9919 - val_loss: 0.0452 - val_acc: 0.9871\n",
      "Epoch 22/500\n",
      "90000/90000 [==============================] - 33s - loss: 0.0336 - acc: 0.9924 - val_loss: 0.0448 - val_acc: 0.9876\n",
      "Epoch 23/500\n",
      "90000/90000 [==============================] - 33s - loss: 0.0315 - acc: 0.9928 - val_loss: 0.0427 - val_acc: 0.9873\n",
      "Epoch 24/500\n",
      "90000/90000 [==============================] - 33s - loss: 0.0300 - acc: 0.9932 - val_loss: 0.0420 - val_acc: 0.9871\n",
      "Epoch 25/500\n",
      "90000/90000 [==============================] - 34s - loss: 0.0284 - acc: 0.9936 - val_loss: 0.0388 - val_acc: 0.9878\n",
      "Epoch 26/500\n",
      "90000/90000 [==============================] - 33s - loss: 0.0262 - acc: 0.9942 - val_loss: 0.0392 - val_acc: 0.9868\n"
     ]
    }
   ],
   "source": [
    "dnn_lstm_model = create_dnn_lstm_model()\n",
    "\n",
    "filepath = 'model/dnn_lstm/dnn_lstm_model_weights.best.h5'\n",
    "checkpoint = ModelCheckpoint(filepath=filepath, monitor='val_acc', verbose=0,\n",
    "                            save_best_only=True, mode='max')\n",
    "early_stopping = EarlyStopping(monitor='val_acc', patience=5)\n",
    "callback_list = [checkpoint, early_stopping]\n",
    "\n",
    "dnn_lstm_history = dnn_lstm_model.fit([X_train_10w] + [X_train_deep_10w], y_train_deep_10w, \n",
    "              epochs=500, batch_size=256, shuffle=True,\n",
    "              validation_split=0.1, callbacks=callback_list, verbose=1)  # 训练模型\n",
    "\n",
    "json_string = dnn_lstm_model.to_json()  # 保存模型结构\n",
    "open('model/dnn_lstm/dnn_lstm_model_architecture.json', 'w').write(json_string)\n",
    "\n",
    "pickle.dump(dnn_lstm_history.history, open('model/dnn_lstm/dnn_lstm_history.pkl', 'wb'))"
   ]
  },
  {
   "cell_type": "code",
   "execution_count": 368,
   "metadata": {},
   "outputs": [
    {
     "name": "stdout",
     "output_type": "stream",
     "text": [
      "Accuracy: 99.2920% \t Precision: 99.6983% \t Recall: 98.9984% \t Roc: 0.9989\tF1: 0.9935\n",
      "Confusion:\n",
      "[[45424   163]\n",
      " [  545 53868]]\n",
      "Accuracy: 98.8800% \t Precision: 99.3932% \t Recall: 98.5596% \t Roc: 0.9984\tF1: 0.9897\n",
      "Confusion:\n",
      "[[ 8965    66]\n",
      " [  158 10811]]\n"
     ]
    }
   ],
   "source": [
    "dnn_lstm_model = load_model('dnn_lstm')\n",
    "evaluate_result(y_train_deep_10w, None, dnn_lstm_model.predict([X_train_10w] + [X_train_deep_10w]))\n",
    "evaluate_result(y_test_deep_10w, None, dnn_lstm_model.predict([X_test_10w] + [X_test_deep_10w]))"
   ]
  },
  {
   "cell_type": "code",
   "execution_count": 369,
   "metadata": {},
   "outputs": [
    {
     "data": {
      "text/plain": [
       "<matplotlib.legend.Legend at 0x7fce229c59b0>"
      ]
     },
     "execution_count": 369,
     "metadata": {},
     "output_type": "execute_result"
    },
    {
     "data": {
      "image/png": "[encoded data removed]",
      "text/plain": [
       "<Figure size 432x288 with 1 Axes>"
      ]
     },
     "metadata": {},
     "output_type": "display_data"
    }
   ],
   "source": [
    "plt.plot(dnn_lstm_history.history['loss'])\n",
    "plt.plot(dnn_lstm_history.history['val_loss'])\n",
    "\n",
    "plt.xlabel('Epoch')\n",
    "plt.ylabel('Binary Crossentropy')\n",
    "plt.title('Loss Over Time')\n",
    "plt.legend(['Train','Valid'])"
   ]
  },
  {
   "cell_type": "markdown",
   "metadata": {},
   "source": [
    "#### 五折交叉验证"
   ]
  },
  {
   "cell_type": "code",
   "execution_count": 370,
   "metadata": {},
   "outputs": [
    {
     "data": {
      "text/plain": [
       "((1759959, 45),\n",
       " (1759959, 64),\n",
       " (439990, 45),\n",
       " (439990, 64),\n",
       " (1759959,),\n",
       " (439990,))"
      ]
     },
     "execution_count": 370,
     "metadata": {},
     "output_type": "execute_result"
    }
   ],
   "source": [
    "X_train_min_max_scaler.shape, X_train_deep.shape, X_test_min_max_scaler.shape, X_test_deep.shape, y_train.shape, y_test.shape"
   ]
  },
  {
   "cell_type": "code",
   "execution_count": null,
   "metadata": {
    "scrolled": true
   },
   "outputs": [
    {
     "name": "stdout",
     "output_type": "stream",
     "text": [
      "Fold_1\n",
      "Train on 1407967 samples, validate on 351992 samples\n",
      "Epoch 1/500\n",
      "1407967/1407967 [==============================] - 549s - loss: 0.1245 - acc: 0.9716 - val_loss: 0.0477 - val_acc: 0.9895\n",
      "Epoch 2/500\n",
      "1407967/1407967 [==============================] - 546s - loss: 0.0374 - acc: 0.9905 - val_loss: 0.0291 - val_acc: 0.9917\n",
      "Epoch 3/500\n",
      "1407967/1407967 [==============================] - 550s - loss: 0.0264 - acc: 0.9925 - val_loss: 0.0230 - val_acc: 0.9933\n",
      "Epoch 4/500\n",
      "1407967/1407967 [==============================] - 543s - loss: 0.0228 - acc: 0.9933 - val_loss: 0.0209 - val_acc: 0.9938\n",
      "Epoch 5/500\n",
      "1407967/1407967 [==============================] - 547s - loss: 0.0209 - acc: 0.9938 - val_loss: 0.0218 - val_acc: 0.9932\n",
      "Epoch 6/500\n",
      "1407967/1407967 [==============================] - 553s - loss: 0.0184 - acc: 0.9942 - val_loss: 0.0178 - val_acc: 0.9942\n",
      "Epoch 7/500\n",
      "1407967/1407967 [==============================] - 547s - loss: 0.0169 - acc: 0.9946 - val_loss: 0.0173 - val_acc: 0.9943\n",
      "Epoch 8/500\n",
      "1407967/1407967 [==============================] - 544s - loss: 0.0157 - acc: 0.9949 - val_loss: 0.0167 - val_acc: 0.9944\n",
      "Epoch 9/500\n",
      "1407967/1407967 [==============================] - 545s - loss: 0.0147 - acc: 0.9952 - val_loss: 0.0164 - val_acc: 0.9945\n",
      "Epoch 10/500\n",
      "1407967/1407967 [==============================] - 544s - loss: 0.0138 - acc: 0.9955 - val_loss: 0.0161 - val_acc: 0.9947\n",
      "Epoch 11/500\n",
      "1407967/1407967 [==============================] - 545s - loss: 0.0132 - acc: 0.9957 - val_loss: 0.0158 - val_acc: 0.9949\n",
      "Epoch 12/500\n",
      "1407967/1407967 [==============================] - 543s - loss: 0.0126 - acc: 0.9959 - val_loss: 0.0161 - val_acc: 0.9948\n",
      "Epoch 13/500\n",
      "1407967/1407967 [==============================] - 543s - loss: 0.0122 - acc: 0.9960 - val_loss: 0.0163 - val_acc: 0.9948\n",
      "Epoch 14/500\n",
      "1407967/1407967 [==============================] - 550s - loss: 0.0117 - acc: 0.9962 - val_loss: 0.0159 - val_acc: 0.9950\n",
      "Epoch 15/500\n",
      "1407967/1407967 [==============================] - 547s - loss: 0.0113 - acc: 0.9963 - val_loss: 0.0163 - val_acc: 0.9947\n",
      "Epoch 16/500\n",
      "1407967/1407967 [==============================] - 550s - loss: 0.0111 - acc: 0.9963 - val_loss: 0.0164 - val_acc: 0.9947\n",
      "Epoch 17/500\n",
      "1407967/1407967 [==============================] - 546s - loss: 0.0109 - acc: 0.9963 - val_loss: 0.0162 - val_acc: 0.9947\n",
      "Epoch 18/500\n",
      "1407967/1407967 [==============================] - 541s - loss: 0.0104 - acc: 0.9966 - val_loss: 0.0171 - val_acc: 0.9947\n",
      "Epoch 19/500\n",
      "1407967/1407967 [==============================] - 540s - loss: 0.0102 - acc: 0.9967 - val_loss: 0.0166 - val_acc: 0.9947\n",
      "Epoch 20/500\n",
      "1407967/1407967 [==============================] - 542s - loss: 0.0100 - acc: 0.9967 - val_loss: 0.0169 - val_acc: 0.9946\n",
      "Fold_2\n",
      "Train on 1407967 samples, validate on 351992 samples\n",
      "Epoch 1/500\n",
      "1407967/1407967 [==============================] - 551s - loss: 0.2178 - acc: 0.9487 - val_loss: 0.0639 - val_acc: 0.9845\n",
      "Epoch 2/500\n",
      " 526592/1407967 [==========>...................] - ETA: 322s - loss: 0.0542 - acc: 0.9862- ETA: 323s - loss: 0.0542 - acc: "
     ]
    }
   ],
   "source": [
    "kfold = StratifiedKFold(n_splits=5, random_state=42, shuffle=True)\n",
    "n_fold = 0\n",
    "dnn_lstm_models = list()\n",
    "for train_index, valid_index in kfold.split(X_train_deep, y_train):\n",
    "    n_fold += 1\n",
    "    print(\"Fold_{}\".format(n_fold))\n",
    "    \n",
    "    # 数据准备\n",
    "    X_train_artifical_fold = X_train_min_max_scaler[train_index]\n",
    "    X_train_deep_fold = X_train_deep[train_index]\n",
    "    X_valid_artifical_fold = X_train_min_max_scaler[valid_index]\n",
    "    X_valid_deep_fold = X_train_deep[valid_index]\n",
    "    y_train_fold = y_train.values[train_index]\n",
    "    y_valid_fold = y_train.values[valid_index]\n",
    "\n",
    "    # 模型构建\n",
    "    dnn_lstm_model = create_dnn_lstm_model()\n",
    "\n",
    "    # 模型训练\n",
    "    filepath = 'model/dnn_lstm/dnn_lstm_model_weights_fold_{}.best.h5'.format(n_fold)\n",
    "    checkpoint = ModelCheckpoint(filepath=filepath, monitor='val_acc', verbose=0,\n",
    "                            save_best_only=True, mode='max')\n",
    "    early_stopping = EarlyStopping(monitor='val_acc', patience=5)\n",
    "    callback_list = [checkpoint, early_stopping]\n",
    "\n",
    "    dnn_lstm_history = dnn_lstm_model.fit([X_train_artifical_fold] + [X_train_deep_fold], y_train_fold, \n",
    "                  epochs=500, batch_size=256, shuffle=True,\n",
    "                  validation_data=[[X_valid_artifical_fold] + [X_valid_deep_fold], y_valid_fold], \n",
    "                  callbacks=callback_list, verbose=1)  # 训练模型\n",
    "    pickle.dump(dnn_lstm_history.history, open('model/dnn_lstm/dnn_lstm_history_fold_{}.pkl'.format(n_fold), 'wb'))\n",
    "    dnn_lstm_models.append(dnn_lstm_model)"
   ]
  },
  {
   "cell_type": "code",
   "execution_count": 382,
   "metadata": {},
   "outputs": [],
   "source": [
    "# 加载五折模型\n",
    "dnn_list_models = list()\n",
    "for i in range(1,6):\n",
    "    model = create_dnn_lstm_model()\n",
    "    weight_path = 'model/dnn_lstm/dnn_lstm_model_weights_fold_{}.best.h5'.format(i)\n",
    "    model.load_weights(weight_path)\n",
    "    dnn_list_models.append(model)"
   ]
  },
  {
   "cell_type": "code",
   "execution_count": 383,
   "metadata": {},
   "outputs": [
    {
     "name": "stdout",
     "output_type": "stream",
     "text": [
      "n_Fold:0\n",
      "Accuracy: 99.5214% \t Precision: 99.6792% \t Recall: 99.4425% \t Roc: 0.9997\tF1: 0.9956\n",
      "Confusion:\n",
      "[[199232    768]\n",
      " [  1338 238652]]\n",
      "n_Fold:1\n",
      "Accuracy: 99.5057% \t Precision: 99.6240% \t Recall: 99.4691% \t Roc: 0.9997\tF1: 0.9955\n",
      "Confusion:\n",
      "[[199099    901]\n",
      " [  1274 238716]]\n",
      "n_Fold:2\n",
      "Accuracy: 99.4968% \t Precision: 99.6422% \t Recall: 99.4346% \t Roc: 0.9997\tF1: 0.9954\n",
      "Confusion:\n",
      "[[199143    857]\n",
      " [  1357 238633]]\n",
      "n_Fold:3\n",
      "Accuracy: 99.5186% \t Precision: 99.6071% \t Recall: 99.5100% \t Roc: 0.9997\tF1: 0.9956\n",
      "Confusion:\n",
      "[[199058    942]\n",
      " [  1176 238814]]\n",
      "n_Fold:4\n",
      "Accuracy: 99.5195% \t Precision: 99.5794% \t Recall: 99.5396% \t Roc: 0.9998\tF1: 0.9956\n",
      "Confusion:\n",
      "[[198991   1009]\n",
      " [  1105 238885]]\n"
     ]
    }
   ],
   "source": [
    "# 评估在测试集上的结果\n",
    "y_test_preds = list()\n",
    "for i in range(5):\n",
    "    print(\"n_Fold:{}\".format(i))\n",
    "    model = dnn_list_models[i]\n",
    "    y_test_pred = model.predict([X_test_min_max_scaler] + [X_test_deep]).flatten()\n",
    "    evaluate_result(y_test, None, y_test_pred)\n",
    "    y_test_preds.append(y_test_pred)"
   ]
  },
  {
   "cell_type": "code",
   "execution_count": 387,
   "metadata": {},
   "outputs": [
    {
     "data": {
      "text/plain": [
       "(5, 439990)"
      ]
     },
     "execution_count": 387,
     "metadata": {},
     "output_type": "execute_result"
    }
   ],
   "source": [
    "# 数据类型转化\n",
    "y_test_preds_array = np.array(y_test_preds)\n",
    "pickle.dump(y_test_preds_array, open('model/dnn_lstm/dnn_lstm_five_fold_result.pkl', 'wb'))\n",
    "y_test_preds_array.shape"
   ]
  },
  {
   "cell_type": "code",
   "execution_count": 393,
   "metadata": {},
   "outputs": [
    {
     "name": "stdout",
     "output_type": "stream",
     "text": [
      "Accuracy: 99.5859% \t Precision: 99.7032% \t Recall: 99.5371% \t Roc: 0.9998\tF1: 0.9962\n",
      "Confusion:\n",
      "[[199289    711]\n",
      " [  1111 238879]]\n"
     ]
    }
   ],
   "source": [
    "y_test_ensemble = y_test_preds_array.sum(axis=0) / 5.0\n",
    "evaluate_result(y_test, None, y_test_ensemble)"
   ]
  },
  {
   "cell_type": "markdown",
   "metadata": {},
   "source": [
    "#### 分析五折后的误差"
   ]
  },
  {
   "cell_type": "code",
   "execution_count": 394,
   "metadata": {},
   "outputs": [
    {
     "data": {
      "text/plain": [
       "(439990, 4)"
      ]
     },
     "execution_count": 394,
     "metadata": {},
     "output_type": "execute_result"
    }
   ],
   "source": [
    "error_analysis_df = pd.DataFrame()\n",
    "error_analysis_df['family'] = test_features_df['label'].values\n",
    "error_analysis_df['label'] = y_test.values\n",
    "error_analysis_df['proba'] = y_test_ensemble\n",
    "error_analysis_df['pred'] = np.where(y_test_ensemble>0.5, 1, 0)\n",
    "error_analysis_df.shape"
   ]
  },
  {
   "cell_type": "code",
   "execution_count": 395,
   "metadata": {},
   "outputs": [
    {
     "data": {
      "text/html": [
       "<div>\n",
       "<style>\n",
       "    .dataframe thead tr:only-child th {\n",
       "        text-align: right;\n",
       "    }\n",
       "\n",
       "    .dataframe thead th {\n",
       "        text-align: left;\n",
       "    }\n",
       "\n",
       "    .dataframe tbody tr th {\n",
       "        vertical-align: top;\n",
       "    }\n",
       "</style>\n",
       "<table border=\"1\" class=\"dataframe\">\n",
       "  <thead>\n",
       "    <tr style=\"text-align: right;\">\n",
       "      <th></th>\n",
       "      <th>family</th>\n",
       "      <th>label</th>\n",
       "      <th>proba</th>\n",
       "      <th>pred</th>\n",
       "    </tr>\n",
       "  </thead>\n",
       "  <tbody>\n",
       "    <tr>\n",
       "      <th>0</th>\n",
       "      <td>banjori</td>\n",
       "      <td>1</td>\n",
       "      <td>0.999654</td>\n",
       "      <td>1</td>\n",
       "    </tr>\n",
       "    <tr>\n",
       "      <th>1</th>\n",
       "      <td>legit</td>\n",
       "      <td>0</td>\n",
       "      <td>0.004531</td>\n",
       "      <td>0</td>\n",
       "    </tr>\n",
       "    <tr>\n",
       "      <th>2</th>\n",
       "      <td>legit</td>\n",
       "      <td>0</td>\n",
       "      <td>0.010968</td>\n",
       "      <td>0</td>\n",
       "    </tr>\n",
       "    <tr>\n",
       "      <th>3</th>\n",
       "      <td>legit</td>\n",
       "      <td>0</td>\n",
       "      <td>0.000442</td>\n",
       "      <td>0</td>\n",
       "    </tr>\n",
       "    <tr>\n",
       "      <th>4</th>\n",
       "      <td>tinba</td>\n",
       "      <td>1</td>\n",
       "      <td>0.999882</td>\n",
       "      <td>1</td>\n",
       "    </tr>\n",
       "  </tbody>\n",
       "</table>\n",
       "</div>"
      ],
      "text/plain": [
       "    family  label     proba  pred\n",
       "0  banjori      1  0.999654     1\n",
       "1    legit      0  0.004531     0\n",
       "2    legit      0  0.010968     0\n",
       "3    legit      0  0.000442     0\n",
       "4    tinba      1  0.999882     1"
      ]
     },
     "execution_count": 395,
     "metadata": {},
     "output_type": "execute_result"
    }
   ],
   "source": [
    "error_analysis_df.head()"
   ]
  },
  {
   "cell_type": "code",
   "execution_count": 396,
   "metadata": {},
   "outputs": [],
   "source": [
    "evulation_df = pd.DataFrame()\n",
    "evulation_df['accuracy'] = error_analysis_df.groupby(['family']).apply(lambda x: accuracy_score(x['label'], x['pred']))\n",
    "evulation_df['precision'] = error_analysis_df.groupby(['family']).apply(lambda x: precision_score(x['label'], x['pred']))\n",
    "evulation_df['recall'] = error_analysis_df.groupby(['family']).apply(lambda x: recall_score(x['label'], x['pred']))\n",
    "evulation_df['F1'] = 2*(evulation_df['precision']*evulation_df['recall'])/(evulation_df['precision']+evulation_df['recall'])\n",
    "evulation_df['support'] = error_analysis_df.groupby(['family']).apply(lambda x: x.shape[0])\n",
    "evulation_df.sort_values(by='support', ascending=False, inplace=True)"
   ]
  },
  {
   "cell_type": "code",
   "execution_count": 399,
   "metadata": {},
   "outputs": [
    {
     "data": {
      "text/html": [
       "<div>\n",
       "<style>\n",
       "    .dataframe thead tr:only-child th {\n",
       "        text-align: right;\n",
       "    }\n",
       "\n",
       "    .dataframe thead th {\n",
       "        text-align: left;\n",
       "    }\n",
       "\n",
       "    .dataframe tbody tr th {\n",
       "        vertical-align: top;\n",
       "    }\n",
       "</style>\n",
       "<table border=\"1\" class=\"dataframe\">\n",
       "  <thead>\n",
       "    <tr style=\"text-align: right;\">\n",
       "      <th></th>\n",
       "      <th>accuracy</th>\n",
       "      <th>support</th>\n",
       "    </tr>\n",
       "    <tr>\n",
       "      <th>family</th>\n",
       "      <th></th>\n",
       "      <th></th>\n",
       "    </tr>\n",
       "  </thead>\n",
       "  <tbody>\n",
       "    <tr>\n",
       "      <th>legit</th>\n",
       "      <td>0.996445</td>\n",
       "      <td>200000</td>\n",
       "    </tr>\n",
       "    <tr>\n",
       "      <th>banjori</th>\n",
       "      <td>1.000000</td>\n",
       "      <td>90468</td>\n",
       "    </tr>\n",
       "    <tr>\n",
       "      <th>emotet</th>\n",
       "      <td>0.999773</td>\n",
       "      <td>66112</td>\n",
       "    </tr>\n",
       "    <tr>\n",
       "      <th>rovnix</th>\n",
       "      <td>0.999944</td>\n",
       "      <td>35987</td>\n",
       "    </tr>\n",
       "    <tr>\n",
       "      <th>tinba</th>\n",
       "      <td>0.996620</td>\n",
       "      <td>14498</td>\n",
       "    </tr>\n",
       "    <tr>\n",
       "      <th>pykspa_v1</th>\n",
       "      <td>0.993451</td>\n",
       "      <td>8856</td>\n",
       "    </tr>\n",
       "    <tr>\n",
       "      <th>simda</th>\n",
       "      <td>0.999368</td>\n",
       "      <td>4746</td>\n",
       "    </tr>\n",
       "    <tr>\n",
       "      <th>ramnit</th>\n",
       "      <td>0.961447</td>\n",
       "      <td>3787</td>\n",
       "    </tr>\n",
       "    <tr>\n",
       "      <th>gameover</th>\n",
       "      <td>1.000000</td>\n",
       "      <td>2399</td>\n",
       "    </tr>\n",
       "    <tr>\n",
       "      <th>ranbyus</th>\n",
       "      <td>0.999083</td>\n",
       "      <td>2181</td>\n",
       "    </tr>\n",
       "    <tr>\n",
       "      <th>virut</th>\n",
       "      <td>0.783325</td>\n",
       "      <td>1943</td>\n",
       "    </tr>\n",
       "    <tr>\n",
       "      <th>murofet</th>\n",
       "      <td>0.999416</td>\n",
       "      <td>1712</td>\n",
       "    </tr>\n",
       "    <tr>\n",
       "      <th>necurs</th>\n",
       "      <td>0.940709</td>\n",
       "      <td>1636</td>\n",
       "    </tr>\n",
       "    <tr>\n",
       "      <th>shiotob</th>\n",
       "      <td>0.994354</td>\n",
       "      <td>1594</td>\n",
       "    </tr>\n",
       "    <tr>\n",
       "      <th>symmi</th>\n",
       "      <td>1.000000</td>\n",
       "      <td>851</td>\n",
       "    </tr>\n",
       "    <tr>\n",
       "      <th>shifu</th>\n",
       "      <td>0.917323</td>\n",
       "      <td>508</td>\n",
       "    </tr>\n",
       "    <tr>\n",
       "      <th>suppobox</th>\n",
       "      <td>0.792857</td>\n",
       "      <td>420</td>\n",
       "    </tr>\n",
       "    <tr>\n",
       "      <th>qadars</th>\n",
       "      <td>0.985000</td>\n",
       "      <td>400</td>\n",
       "    </tr>\n",
       "    <tr>\n",
       "      <th>locky</th>\n",
       "      <td>0.905172</td>\n",
       "      <td>232</td>\n",
       "    </tr>\n",
       "    <tr>\n",
       "      <th>dyre</th>\n",
       "      <td>1.000000</td>\n",
       "      <td>200</td>\n",
       "    </tr>\n",
       "    <tr>\n",
       "      <th>cryptolocker</th>\n",
       "      <td>0.990000</td>\n",
       "      <td>200</td>\n",
       "    </tr>\n",
       "    <tr>\n",
       "      <th>chinad</th>\n",
       "      <td>1.000000</td>\n",
       "      <td>200</td>\n",
       "    </tr>\n",
       "    <tr>\n",
       "      <th>pykspa_v2_fake</th>\n",
       "      <td>0.850000</td>\n",
       "      <td>160</td>\n",
       "    </tr>\n",
       "    <tr>\n",
       "      <th>dircrypt</th>\n",
       "      <td>0.980263</td>\n",
       "      <td>152</td>\n",
       "    </tr>\n",
       "    <tr>\n",
       "      <th>vawtrak</th>\n",
       "      <td>0.711409</td>\n",
       "      <td>149</td>\n",
       "    </tr>\n",
       "    <tr>\n",
       "      <th>conficker</th>\n",
       "      <td>0.773196</td>\n",
       "      <td>97</td>\n",
       "    </tr>\n",
       "    <tr>\n",
       "      <th>nymaim</th>\n",
       "      <td>0.917647</td>\n",
       "      <td>85</td>\n",
       "    </tr>\n",
       "    <tr>\n",
       "      <th>fobber_v1</th>\n",
       "      <td>1.000000</td>\n",
       "      <td>59</td>\n",
       "    </tr>\n",
       "    <tr>\n",
       "      <th>fobber_v2</th>\n",
       "      <td>0.983051</td>\n",
       "      <td>59</td>\n",
       "    </tr>\n",
       "    <tr>\n",
       "      <th>feodo</th>\n",
       "      <td>1.000000</td>\n",
       "      <td>53</td>\n",
       "    </tr>\n",
       "    <tr>\n",
       "      <th>tempedreve</th>\n",
       "      <td>0.800000</td>\n",
       "      <td>40</td>\n",
       "    </tr>\n",
       "    <tr>\n",
       "      <th>pykspa_v2_real</th>\n",
       "      <td>0.974359</td>\n",
       "      <td>39</td>\n",
       "    </tr>\n",
       "    <tr>\n",
       "      <th>padcrypt</th>\n",
       "      <td>0.941176</td>\n",
       "      <td>34</td>\n",
       "    </tr>\n",
       "    <tr>\n",
       "      <th>matsnu</th>\n",
       "      <td>0.000000</td>\n",
       "      <td>26</td>\n",
       "    </tr>\n",
       "    <tr>\n",
       "      <th>bamital</th>\n",
       "      <td>1.000000</td>\n",
       "      <td>21</td>\n",
       "    </tr>\n",
       "    <tr>\n",
       "      <th>proslikefan</th>\n",
       "      <td>0.900000</td>\n",
       "      <td>20</td>\n",
       "    </tr>\n",
       "    <tr>\n",
       "      <th>vidro</th>\n",
       "      <td>0.650000</td>\n",
       "      <td>20</td>\n",
       "    </tr>\n",
       "    <tr>\n",
       "      <th>gspy</th>\n",
       "      <td>1.000000</td>\n",
       "      <td>19</td>\n",
       "    </tr>\n",
       "    <tr>\n",
       "      <th>mydoom</th>\n",
       "      <td>0.666667</td>\n",
       "      <td>9</td>\n",
       "    </tr>\n",
       "    <tr>\n",
       "      <th>omexo</th>\n",
       "      <td>1.000000</td>\n",
       "      <td>8</td>\n",
       "    </tr>\n",
       "    <tr>\n",
       "      <th>tinynuke</th>\n",
       "      <td>1.000000</td>\n",
       "      <td>6</td>\n",
       "    </tr>\n",
       "    <tr>\n",
       "      <th>tofsee</th>\n",
       "      <td>1.000000</td>\n",
       "      <td>4</td>\n",
       "    </tr>\n",
       "  </tbody>\n",
       "</table>\n",
       "</div>"
      ],
      "text/plain": [
       "                accuracy  support\n",
       "family                           \n",
       "legit           0.996445   200000\n",
       "banjori         1.000000    90468\n",
       "emotet          0.999773    66112\n",
       "rovnix          0.999944    35987\n",
       "tinba           0.996620    14498\n",
       "pykspa_v1       0.993451     8856\n",
       "simda           0.999368     4746\n",
       "ramnit          0.961447     3787\n",
       "gameover        1.000000     2399\n",
       "ranbyus         0.999083     2181\n",
       "virut           0.783325     1943\n",
       "murofet         0.999416     1712\n",
       "necurs          0.940709     1636\n",
       "shiotob         0.994354     1594\n",
       "symmi           1.000000      851\n",
       "shifu           0.917323      508\n",
       "suppobox        0.792857      420\n",
       "qadars          0.985000      400\n",
       "locky           0.905172      232\n",
       "dyre            1.000000      200\n",
       "cryptolocker    0.990000      200\n",
       "chinad          1.000000      200\n",
       "pykspa_v2_fake  0.850000      160\n",
       "dircrypt        0.980263      152\n",
       "vawtrak         0.711409      149\n",
       "conficker       0.773196       97\n",
       "nymaim          0.917647       85\n",
       "fobber_v1       1.000000       59\n",
       "fobber_v2       0.983051       59\n",
       "feodo           1.000000       53\n",
       "tempedreve      0.800000       40\n",
       "pykspa_v2_real  0.974359       39\n",
       "padcrypt        0.941176       34\n",
       "matsnu          0.000000       26\n",
       "bamital         1.000000       21\n",
       "proslikefan     0.900000       20\n",
       "vidro           0.650000       20\n",
       "gspy            1.000000       19\n",
       "mydoom          0.666667        9\n",
       "omexo           1.000000        8\n",
       "tinynuke        1.000000        6\n",
       "tofsee          1.000000        4"
      ]
     },
     "execution_count": 399,
     "metadata": {},
     "output_type": "execute_result"
    }
   ],
   "source": [
    "evulation_df[['accuracy', 'support']]"
   ]
  },
  {
   "cell_type": "code",
   "execution_count": 400,
   "metadata": {},
   "outputs": [
    {
     "data": {
      "text/plain": [
       "((35, 5), (27, 5), (22, 5))"
      ]
     },
     "execution_count": 400,
     "metadata": {},
     "output_type": "execute_result"
    }
   ],
   "source": [
    "evulation_df[evulation_df['accuracy']>=0.80].shape, evulation_df[evulation_df['accuracy']>=0.95].shape, evulation_df[evulation_df['accuracy']>=0.99].shape"
   ]
  },
  {
   "cell_type": "markdown",
   "metadata": {},
   "source": [
    "### lstm with manual DNN(lwm DNN)\n",
    "- 特征融合"
   ]
  },
  {
   "cell_type": "code",
   "execution_count": 250,
   "metadata": {},
   "outputs": [],
   "source": [
    "artifical_num=45\n",
    "def create_lstm_with_manual_dnn_model():\n",
    "    artifical_input = Input(shape=(artifical_num,))\n",
    "    domain_input = Input(shape=(domain_maxlen,))\n",
    "    \n",
    "    # lstm\n",
    "    embedding_layer = Embedding(domain_max_features, \n",
    "                                128, \n",
    "                                input_length=domain_maxlen)(domain_input)\n",
    "    lstm_dense = LSTM(128)(embedding_layer)\n",
    "    \n",
    "    # merged\n",
    "    merged_layer = Concatenate(axis=-1)([lstm_dense, artifical_input])\n",
    "    \n",
    "    # dnn\n",
    "    merged_dnn_dense1 = Dense(256)(merged_layer)\n",
    "    merged_dnn_dropout1 = Dropout(rate=0.5)(merged_dnn_dense1)\n",
    "    merged_dnn_dense2 = Dense(128)(merged_dnn_dropout1)\n",
    "    merged_dnn_dropout2 = Dropout(rate=0.5)(merged_dnn_dense2)\n",
    "    merged_output = Dense(1, activation='sigmoid')(merged_dnn_dropout2)\n",
    "    \n",
    "    combined_model = Model(inputs=[artifical_input] + [domain_input], output=merged_output)\n",
    "    \n",
    "    # final model\n",
    "    combined_model.compile(loss='binary_crossentropy', optimizer='adam', metrics=['accuracy'])\n",
    "    return combined_model"
   ]
  },
  {
   "cell_type": "code",
   "execution_count": 252,
   "metadata": {
    "scrolled": true
   },
   "outputs": [
    {
     "name": "stdout",
     "output_type": "stream",
     "text": [
      "Train on 90000 samples, validate on 10000 samples\n",
      "Epoch 1/500\n",
      "90000/90000 [==============================] - 37s - loss: 0.1410 - acc: 0.9471 - val_loss: 0.0887 - val_acc: 0.9722\n",
      "Epoch 2/500\n",
      "90000/90000 [==============================] - 32s - loss: 0.0773 - acc: 0.9741 - val_loss: 0.0654 - val_acc: 0.9793\n",
      "Epoch 3/500\n",
      "90000/90000 [==============================] - 33s - loss: 0.0604 - acc: 0.9803 - val_loss: 0.0542 - val_acc: 0.9817\n",
      "Epoch 4/500\n",
      "90000/90000 [==============================] - 33s - loss: 0.0509 - acc: 0.9839 - val_loss: 0.0499 - val_acc: 0.9827\n",
      "Epoch 5/500\n",
      "90000/90000 [==============================] - 33s - loss: 0.0455 - acc: 0.9852 - val_loss: 0.0513 - val_acc: 0.9839\n",
      "Epoch 6/500\n",
      "90000/90000 [==============================] - 32s - loss: 0.0431 - acc: 0.9862 - val_loss: 0.0488 - val_acc: 0.9832\n",
      "Epoch 7/500\n",
      "90000/90000 [==============================] - 32s - loss: 0.0392 - acc: 0.9875 - val_loss: 0.0433 - val_acc: 0.9864\n",
      "Epoch 8/500\n",
      "90000/90000 [==============================] - 34s - loss: 0.0361 - acc: 0.9879 - val_loss: 0.0399 - val_acc: 0.9857\n",
      "Epoch 9/500\n",
      "90000/90000 [==============================] - 32s - loss: 0.0337 - acc: 0.9888 - val_loss: 0.0442 - val_acc: 0.9859\n",
      "Epoch 10/500\n",
      "90000/90000 [==============================] - 33s - loss: 0.0319 - acc: 0.9896 - val_loss: 0.0414 - val_acc: 0.9865.989\n",
      "Epoch 11/500\n",
      "90000/90000 [==============================] - 33s - loss: 0.0306 - acc: 0.9898 - val_loss: 0.0389 - val_acc: 0.9870\n",
      "Epoch 12/500\n",
      "90000/90000 [==============================] - 32s - loss: 0.0283 - acc: 0.9906 - val_loss: 0.0390 - val_acc: 0.9867\n",
      "Epoch 13/500\n",
      "90000/90000 [==============================] - 32s - loss: 0.0281 - acc: 0.9907 - val_loss: 0.0396 - val_acc: 0.9873\n",
      "Epoch 14/500\n",
      "90000/90000 [==============================] - 32s - loss: 0.0263 - acc: 0.9910 - val_loss: 0.0368 - val_acc: 0.9877\n",
      "Epoch 15/500\n",
      "90000/90000 [==============================] - 32s - loss: 0.0242 - acc: 0.9921 - val_loss: 0.0355 - val_acc: 0.9882\n",
      "Epoch 16/500\n",
      "90000/90000 [==============================] - 32s - loss: 0.0235 - acc: 0.9921 - val_loss: 0.0378 - val_acc: 0.9868\n",
      "Epoch 17/500\n",
      "90000/90000 [==============================] - 32s - loss: 0.0227 - acc: 0.9925 - val_loss: 0.0356 - val_acc: 0.9879\n",
      "Epoch 18/500\n",
      "90000/90000 [==============================] - 34s - loss: 0.0207 - acc: 0.9930 - val_loss: 0.0368 - val_acc: 0.9878\n",
      "Epoch 19/500\n",
      "90000/90000 [==============================] - 33s - loss: 0.0188 - acc: 0.9935 - val_loss: 0.0393 - val_acc: 0.9872\n",
      "Epoch 20/500\n",
      "90000/90000 [==============================] - 32s - loss: 0.0177 - acc: 0.9939 - val_loss: 0.0409 - val_acc: 0.9870\n",
      "Epoch 21/500\n",
      "90000/90000 [==============================] - 33s - loss: 0.0159 - acc: 0.9944 - val_loss: 0.0398 - val_acc: 0.9864\n"
     ]
    },
    {
     "data": {
      "text/plain": [
       "4620"
      ]
     },
     "execution_count": 252,
     "metadata": {},
     "output_type": "execute_result"
    }
   ],
   "source": [
    "lwm_dnn_model = create_lstm_with_manual_dnn_model()\n",
    "\n",
    "filepath = 'model/lwm_dnn/lwm_dnn_model_weights.best.h5'\n",
    "checkpoint = ModelCheckpoint(filepath=filepath, monitor='val_acc', verbose=0,\n",
    "                            save_best_only=True, mode='max')\n",
    "early_stopping = EarlyStopping(monitor='val_acc', patience=5)\n",
    "callback_list = [checkpoint, early_stopping]\n",
    "\n",
    "lwm_dnn_model.fit([X_train_10w] + [X_train_deep_10w], y_train_deep_10w, \n",
    "              epochs=500, batch_size=256, shuffle=True,\n",
    "              validation_split=0.1, callbacks=callback_list, verbose=1)  # 训练模型\n",
    "\n",
    "json_string = lwm_dnn_model.to_json()  # 保存模型结构\n",
    "open('model/lwm_dnn/lwm_dnn_model_architecture.json', 'w').write(json_string)"
   ]
  },
  {
   "cell_type": "code",
   "execution_count": 255,
   "metadata": {},
   "outputs": [
    {
     "name": "stdout",
     "output_type": "stream",
     "text": [
      "Accuracy: 99.2450% \t Precision: 99.4635% \t Recall: 99.1473% \t Roc: 0.9996\n",
      "Confusion:\n",
      "[[45296   291]\n",
      " [  464 53949]]\n",
      "Accuracy: 98.8950% \t Precision: 99.1494% \t Recall: 98.8331% \t Roc: 0.9988\n",
      "Confusion:\n",
      "[[ 8938    93]\n",
      " [  128 10841]]\n"
     ]
    }
   ],
   "source": [
    "dnn_lstm_model = load_model('lwm_dnn')\n",
    "evaluate_result(y_train_deep_10w, None, dnn_lstm_model.predict([X_train_10w] + [X_train_deep_10w]))\n",
    "evaluate_result(y_test_deep_10w, None, dnn_lstm_model.predict([X_test_10w] + [X_test_deep_10w]))"
   ]
  },
  {
   "cell_type": "code",
   "execution_count": null,
   "metadata": {},
   "outputs": [],
   "source": []
  },
  {
   "cell_type": "markdown",
   "metadata": {},
   "source": [
    "## 4.4 多分类"
   ]
  },
  {
   "cell_type": "code",
   "execution_count": 295,
   "metadata": {},
   "outputs": [],
   "source": [
    "def create_multi_lstm_model():\n",
    "    model = Sequential()\n",
    "    model.add(Embedding(domain_max_features, \n",
    "                        128, \n",
    "                        input_length=domain_maxlen))\n",
    "    model.add(LSTM(128))\n",
    "    model.add(Dense(42, activation='softmax'))\n",
    "    model.compile(loss='categorical_crossentropy', \n",
    "                  optimizer='adam',\n",
    "                  metrics=['accuracy'])\n",
    "    return model"
   ]
  },
  {
   "cell_type": "code",
   "execution_count": 296,
   "metadata": {
    "scrolled": true
   },
   "outputs": [
    {
     "name": "stdout",
     "output_type": "stream",
     "text": [
      "Train on 90000 samples, validate on 10000 samples\n",
      "Epoch 1/500\n",
      "90000/90000 [==============================] - 36s - loss: 0.8959 - acc: 0.7622 - val_loss: 0.4300 - val_acc: 0.8930\n",
      "Epoch 2/500\n",
      "90000/90000 [==============================] - 32s - loss: 0.3501 - acc: 0.9075 - val_loss: 0.3029 - val_acc: 0.9216\n",
      "Epoch 3/500\n",
      "90000/90000 [==============================] - 32s - loss: 0.2549 - acc: 0.9339 - val_loss: 0.2231 - val_acc: 0.9388\n",
      "Epoch 4/500\n",
      "90000/90000 [==============================] - 32s - loss: 0.2014 - acc: 0.9485 - val_loss: 0.1832 - val_acc: 0.9541\n",
      "Epoch 5/500\n",
      "90000/90000 [==============================] - 32s - loss: 0.1663 - acc: 0.9577 - val_loss: 0.1655 - val_acc: 0.9563\n",
      "Epoch 6/500\n",
      "90000/90000 [==============================] - 32s - loss: 0.1440 - acc: 0.9628 - val_loss: 0.1433 - val_acc: 0.9630\n",
      "Epoch 7/500\n",
      "90000/90000 [==============================] - 32s - loss: 0.1297 - acc: 0.9656 - val_loss: 0.1282 - val_acc: 0.9653\n",
      "Epoch 8/500\n",
      "90000/90000 [==============================] - 32s - loss: 0.1195 - acc: 0.9685 - val_loss: 0.1352 - val_acc: 0.9631\n",
      "Epoch 9/500\n",
      "90000/90000 [==============================] - 33s - loss: 0.1403 - acc: 0.9632 - val_loss: 0.1328 - val_acc: 0.9622\n",
      "Epoch 10/500\n",
      "90000/90000 [==============================] - 32s - loss: 0.1131 - acc: 0.9697 - val_loss: 0.1176 - val_acc: 0.9682\n",
      "Epoch 11/500\n",
      "90000/90000 [==============================] - 32s - loss: 0.1036 - acc: 0.9720 - val_loss: 0.1146 - val_acc: 0.9698\n",
      "Epoch 12/500\n",
      "90000/90000 [==============================] - 31s - loss: 0.1022 - acc: 0.9725 - val_loss: 0.1725 - val_acc: 0.9562\n",
      "Epoch 13/500\n",
      "90000/90000 [==============================] - 32s - loss: 0.1043 - acc: 0.9715 - val_loss: 0.1138 - val_acc: 0.9700\n",
      "Epoch 14/500\n",
      "90000/90000 [==============================] - 32s - loss: 0.0934 - acc: 0.9747 - val_loss: 0.1095 - val_acc: 0.9697\n",
      "Epoch 15/500\n",
      "90000/90000 [==============================] - 31s - loss: 0.0912 - acc: 0.9752 - val_loss: 0.1093 - val_acc: 0.9687\n",
      "Epoch 16/500\n",
      "90000/90000 [==============================] - 32s - loss: 0.0956 - acc: 0.9739 - val_loss: 0.1070 - val_acc: 0.9696\n",
      "Epoch 17/500\n",
      "90000/90000 [==============================] - 32s - loss: 0.0849 - acc: 0.9771 - val_loss: 0.1020 - val_acc: 0.9717\n",
      "Epoch 18/500\n",
      "90000/90000 [==============================] - 32s - loss: 0.0823 - acc: 0.9772 - val_loss: 0.1043 - val_acc: 0.9712\n",
      "Epoch 19/500\n",
      "90000/90000 [==============================] - 32s - loss: 0.0841 - acc: 0.9766 - val_loss: 0.1000 - val_acc: 0.9726\n",
      "Epoch 20/500\n",
      "90000/90000 [==============================] - 32s - loss: 0.0783 - acc: 0.9784 - val_loss: 0.1011 - val_acc: 0.9720\n",
      "Epoch 21/500\n",
      "90000/90000 [==============================] - 32s - loss: 0.0766 - acc: 0.9788 - val_loss: 0.1068 - val_acc: 0.9699\n",
      "Epoch 22/500\n",
      "90000/90000 [==============================] - 31s - loss: 0.0730 - acc: 0.9797 - val_loss: 0.1033 - val_acc: 0.9727\n",
      "Epoch 23/500\n",
      "90000/90000 [==============================] - 32s - loss: 0.0712 - acc: 0.9804 - val_loss: 0.1038 - val_acc: 0.9711\n",
      "Epoch 24/500\n",
      "90000/90000 [==============================] - 32s - loss: 0.0712 - acc: 0.9800 - val_loss: 0.1177 - val_acc: 0.9668\n",
      "Epoch 25/500\n",
      "90000/90000 [==============================] - 32s - loss: 0.0686 - acc: 0.9805 - val_loss: 0.1038 - val_acc: 0.9706\n",
      "Epoch 26/500\n",
      "90000/90000 [==============================] - 31s - loss: 0.0643 - acc: 0.9823 - val_loss: 0.1030 - val_acc: 0.9718\n",
      "Epoch 27/500\n",
      "90000/90000 [==============================] - 32s - loss: 0.0619 - acc: 0.9827 - val_loss: 0.0975 - val_acc: 0.9734\n",
      "Epoch 28/500\n",
      "90000/90000 [==============================] - 32s - loss: 0.0612 - acc: 0.9827 - val_loss: 0.0989 - val_acc: 0.9741\n",
      "Epoch 29/500\n",
      "90000/90000 [==============================] - 32s - loss: 0.0608 - acc: 0.9829 - val_loss: 0.1008 - val_acc: 0.9730\n",
      "Epoch 30/500\n",
      "90000/90000 [==============================] - 31s - loss: 0.0552 - acc: 0.9844 - val_loss: 0.1009 - val_acc: 0.9724\n",
      "Epoch 31/500\n",
      "90000/90000 [==============================] - 32s - loss: 0.0534 - acc: 0.9849 - val_loss: 0.1007 - val_acc: 0.9730\n",
      "Epoch 32/500\n",
      "90000/90000 [==============================] - 32s - loss: 0.0540 - acc: 0.9846 - val_loss: 0.1087 - val_acc: 0.9703\n",
      "Epoch 33/500\n",
      "90000/90000 [==============================] - 32s - loss: 0.0511 - acc: 0.9854 - val_loss: 0.1016 - val_acc: 0.9730\n",
      "Epoch 34/500\n",
      "90000/90000 [==============================] - 31s - loss: 0.0479 - acc: 0.9865 - val_loss: 0.1035 - val_acc: 0.9720\n"
     ]
    },
    {
     "data": {
      "text/plain": [
       "1842"
      ]
     },
     "execution_count": 296,
     "metadata": {},
     "output_type": "execute_result"
    }
   ],
   "source": [
    "multi_lstm_model = create_multi_lstm_model()\n",
    "\n",
    "filepath = 'model/lstm/multi_lstm_model_weights.best.h5'\n",
    "checkpoint = ModelCheckpoint(filepath=filepath, monitor='val_acc', verbose=0,\n",
    "                            save_best_only=True, mode='max')\n",
    "early_stopping = EarlyStopping(monitor='val_acc', patience=5)\n",
    "callback_list = [checkpoint, early_stopping]\n",
    "\n",
    "multi_lstm_model.fit(X_train_deep_10w, y_train_deep_multi_10w, \n",
    "              epochs=500, batch_size=256, shuffle=True,\n",
    "              validation_split=0.1, callbacks=callback_list, verbose=1)  # 训练模型\n",
    "\n",
    "json_string = multi_lstm_model.to_json()  # 保存模型结构\n",
    "open('model/lstm/multi_lstm_model_architecture.json', 'w').write(json_string)"
   ]
  },
  {
   "cell_type": "code",
   "execution_count": 298,
   "metadata": {},
   "outputs": [
    {
     "name": "stdout",
     "output_type": "stream",
     "text": [
      "Accuracy: 97.41%\n"
     ]
    }
   ],
   "source": [
    "scores = multi_lstm_model.evaluate(x=X_test_deep_10w, y=y_test_deep_multi_10w, verbose=0)\n",
    "print('Accuracy: %.2f%%' % (scores[1] * 100))"
   ]
  },
  {
   "cell_type": "code",
   "execution_count": null,
   "metadata": {},
   "outputs": [],
   "source": []
  },
  {
   "cell_type": "code",
   "execution_count": null,
   "metadata": {},
   "outputs": [],
   "source": []
  },
  {
   "cell_type": "markdown",
   "metadata": {},
   "source": [
    "## BERT (尚未完成)"
   ]
  },
  {
   "cell_type": "markdown",
   "metadata": {},
   "source": [
    "#### bert-tokenizer"
   ]
  },
  {
   "cell_type": "code",
   "execution_count": 183,
   "metadata": {},
   "outputs": [
    {
     "data": {
      "text/plain": [
       "((1759959,), (1759959,))"
      ]
     },
     "execution_count": 183,
     "metadata": {},
     "output_type": "execute_result"
    }
   ],
   "source": [
    "X_train_domain.shape, y_train.shape"
   ]
  },
  {
   "cell_type": "markdown",
   "metadata": {},
   "source": [
    "#### 训练与使用"
   ]
  },
  {
   "cell_type": "code",
   "execution_count": 194,
   "metadata": {},
   "outputs": [
    {
     "data": {
      "text/plain": [
       "(1759959, 439990)"
      ]
     },
     "execution_count": 194,
     "metadata": {},
     "output_type": "execute_result"
    }
   ],
   "source": [
    "def generate_domain_pair(X, y):\n",
    "    domain_pair = list()\n",
    "    for i in range(len(X)):\n",
    "        pair = list()\n",
    "        domain = X[i]\n",
    "        split_domain = [x for x in domain]\n",
    "        label = ['legit'] if y[i]==0 else ['dga']\n",
    "        pair.append(split_domain)\n",
    "        pair.append(label)\n",
    "        domain_pair.append(pair)\n",
    "    return domain_pair\n",
    "\n",
    "train_pair = generate_domain_pair(X_train_domain.fillna('').tolist(), \n",
    "                                  y_train.tolist())\n",
    "test_pair = generate_domain_pair(X_test_domain.fillna('').tolist(), \n",
    "                                 y_test.tolist())\n",
    "len(train_pair), len(test_pair)"
   ]
  },
  {
   "cell_type": "code",
   "execution_count": 195,
   "metadata": {},
   "outputs": [],
   "source": [
    "# Build token dictionary\n",
    "token_dict = get_base_dict()  # A dict that contains some special tokens\n",
    "for pairs in train_pair:\n",
    "    for token in pairs[0] + pairs[1]:\n",
    "        if token not in token_dict:\n",
    "            token_dict[token] = len(token_dict)\n",
    "token_list = list(token_dict.keys())  # Used for selecting a random word"
   ]
  },
  {
   "cell_type": "code",
   "execution_count": 204,
   "metadata": {},
   "outputs": [],
   "source": [
    "# Build & train the model\n",
    "model = get_model(\n",
    "    token_num=len(token_dict),\n",
    "    head_num=32,\n",
    "    transformer_num=12,\n",
    "    embed_dim=128,\n",
    "    feed_forward_dim=100,\n",
    "    seq_len=64,\n",
    "    pos_num=64,\n",
    "    dropout_rate=0.05,\n",
    ")\n",
    "compile_model(model)"
   ]
  },
  {
   "cell_type": "code",
   "execution_count": null,
   "metadata": {},
   "outputs": [],
   "source": [
    "def _generator():\n",
    "    while True:\n",
    "        yield gen_batch_inputs(\n",
    "            train_pair,\n",
    "            token_dict,\n",
    "            token_list,\n",
    "            seq_len=20,\n",
    "            mask_rate=0.3,\n",
    "            swap_sentence_rate=1.0,\n",
    "        )\n",
    "\n",
    "model.fit_generator(\n",
    "    generator=_generator(),\n",
    "    steps_per_epoch=1000,\n",
    "    epochs=100,\n",
    "    validation_data=_generator(),\n",
    "    validation_steps=100,\n",
    "    callbacks=[\n",
    "        EarlyStopping(monitor='val_loss', patience=5)\n",
    "    ],\n",
    ")"
   ]
  },
  {
   "cell_type": "code",
   "execution_count": null,
   "metadata": {},
   "outputs": [],
   "source": []
  },
  {
   "cell_type": "code",
   "execution_count": null,
   "metadata": {},
   "outputs": [],
   "source": []
  },
  {
   "cell_type": "code",
   "execution_count": null,
   "metadata": {},
   "outputs": [],
   "source": []
  },
  {
   "cell_type": "code",
   "execution_count": null,
   "metadata": {},
   "outputs": [],
   "source": []
  },
  {
   "cell_type": "code",
   "execution_count": null,
   "metadata": {},
   "outputs": [],
   "source": []
  },
  {
   "cell_type": "code",
   "execution_count": null,
   "metadata": {},
   "outputs": [],
   "source": []
  },
  {
   "cell_type": "code",
   "execution_count": null,
   "metadata": {},
   "outputs": [],
   "source": []
  },
  {
   "cell_type": "code",
   "execution_count": null,
   "metadata": {},
   "outputs": [],
   "source": []
  },
  {
   "cell_type": "code",
   "execution_count": null,
   "metadata": {},
   "outputs": [],
   "source": []
  },
  {
   "cell_type": "code",
   "execution_count": null,
   "metadata": {},
   "outputs": [],
   "source": []
  },
  {
   "cell_type": "code",
   "execution_count": null,
   "metadata": {},
   "outputs": [],
   "source": []
  },
  {
   "cell_type": "code",
   "execution_count": null,
   "metadata": {},
   "outputs": [],
   "source": []
  }
 ],
 "metadata": {
  "kernelspec": {
   "display_name": "credit_env",
   "language": "python",
   "name": "credit_env"
  },
  "language_info": {
   "codemirror_mode": {
    "name": "ipython",
    "version": 3
   },
   "file_extension": ".py",
   "mimetype": "text/x-python",
   "name": "python",
   "nbconvert_exporter": "python",
   "pygments_lexer": "ipython3",
   "version": "3.6.2"
  }
 },
 "nbformat": 4,
 "nbformat_minor": 2
}
